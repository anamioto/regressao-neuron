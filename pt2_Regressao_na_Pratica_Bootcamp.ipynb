{
  "nbformat": 4,
  "nbformat_minor": 0,
  "metadata": {
    "colab": {
      "name": "pt2_Regressao_na_Pratica_Bootcamp.ipynb",
      "provenance": [],
      "collapsed_sections": [],
      "include_colab_link": true
    },
    "kernelspec": {
      "name": "python3",
      "display_name": "Python 3"
    },
    "widgets": {
      "application/vnd.jupyter.widget-state+json": {
        "a15421acd3e34b6d9c3d2a2a4763e62c": {
          "model_module": "@jupyter-widgets/controls",
          "model_name": "IntProgressModel",
          "state": {
            "_view_name": "ProgressView",
            "style": "IPY_MODEL_ba5688b118754be483faae22157c52fb",
            "_dom_classes": [],
            "description": "Processing: ",
            "_model_name": "IntProgressModel",
            "bar_style": "",
            "max": 13,
            "_view_module": "@jupyter-widgets/controls",
            "_model_module_version": "1.5.0",
            "value": 3,
            "_view_count": null,
            "_view_module_version": "1.5.0",
            "orientation": "horizontal",
            "min": 0,
            "description_tooltip": null,
            "_model_module": "@jupyter-widgets/controls",
            "layout": "IPY_MODEL_12bdcaf67eaf41498f84371f7593d6a9"
          }
        },
        "ba5688b118754be483faae22157c52fb": {
          "model_module": "@jupyter-widgets/controls",
          "model_name": "ProgressStyleModel",
          "state": {
            "_view_name": "StyleView",
            "_model_name": "ProgressStyleModel",
            "description_width": "",
            "_view_module": "@jupyter-widgets/base",
            "_model_module_version": "1.5.0",
            "_view_count": null,
            "_view_module_version": "1.2.0",
            "bar_color": null,
            "_model_module": "@jupyter-widgets/controls"
          }
        },
        "12bdcaf67eaf41498f84371f7593d6a9": {
          "model_module": "@jupyter-widgets/base",
          "model_name": "LayoutModel",
          "state": {
            "_view_name": "LayoutView",
            "grid_template_rows": null,
            "right": null,
            "justify_content": null,
            "_view_module": "@jupyter-widgets/base",
            "overflow": null,
            "_model_module_version": "1.2.0",
            "_view_count": null,
            "flex_flow": null,
            "width": null,
            "min_width": null,
            "border": null,
            "align_items": null,
            "bottom": null,
            "_model_module": "@jupyter-widgets/base",
            "top": null,
            "grid_column": null,
            "overflow_y": null,
            "overflow_x": null,
            "grid_auto_flow": null,
            "grid_area": null,
            "grid_template_columns": null,
            "flex": null,
            "_model_name": "LayoutModel",
            "justify_items": null,
            "grid_row": null,
            "max_height": null,
            "align_content": null,
            "visibility": null,
            "align_self": null,
            "height": null,
            "min_height": null,
            "padding": null,
            "grid_auto_rows": null,
            "grid_gap": null,
            "max_width": null,
            "order": null,
            "_view_module_version": "1.2.0",
            "grid_template_areas": null,
            "object_position": null,
            "object_fit": null,
            "grid_auto_columns": null,
            "margin": null,
            "display": null,
            "left": null
          }
        },
        "b11ae6e1f0564eb78c821e9e5b05a89f": {
          "model_module": "@jupyter-widgets/controls",
          "model_name": "TextModel",
          "state": {
            "_view_name": "TextView",
            "style": "IPY_MODEL_223a58205ccb4e2ab33ab1e1c2ff83dd",
            "_dom_classes": [],
            "description": "",
            "_model_name": "TextModel",
            "placeholder": "​",
            "_view_module": "@jupyter-widgets/controls",
            "_model_module_version": "1.5.0",
            "value": "Following data types have been inferred automatically, if they are correct press enter to continue or type 'quit' otherwise.",
            "_view_count": null,
            "disabled": false,
            "_view_module_version": "1.5.0",
            "continuous_update": true,
            "description_tooltip": null,
            "_model_module": "@jupyter-widgets/controls",
            "layout": "IPY_MODEL_3238175d977a4c0888e4cba868cd8cb1"
          }
        },
        "223a58205ccb4e2ab33ab1e1c2ff83dd": {
          "model_module": "@jupyter-widgets/controls",
          "model_name": "DescriptionStyleModel",
          "state": {
            "_view_name": "StyleView",
            "_model_name": "DescriptionStyleModel",
            "description_width": "",
            "_view_module": "@jupyter-widgets/base",
            "_model_module_version": "1.5.0",
            "_view_count": null,
            "_view_module_version": "1.2.0",
            "_model_module": "@jupyter-widgets/controls"
          }
        },
        "3238175d977a4c0888e4cba868cd8cb1": {
          "model_module": "@jupyter-widgets/base",
          "model_name": "LayoutModel",
          "state": {
            "_view_name": "LayoutView",
            "grid_template_rows": null,
            "right": null,
            "justify_content": null,
            "_view_module": "@jupyter-widgets/base",
            "overflow": null,
            "_model_module_version": "1.2.0",
            "_view_count": null,
            "flex_flow": null,
            "width": "100%",
            "min_width": null,
            "border": null,
            "align_items": null,
            "bottom": null,
            "_model_module": "@jupyter-widgets/base",
            "top": null,
            "grid_column": null,
            "overflow_y": null,
            "overflow_x": null,
            "grid_auto_flow": null,
            "grid_area": null,
            "grid_template_columns": null,
            "flex": null,
            "_model_name": "LayoutModel",
            "justify_items": null,
            "grid_row": null,
            "max_height": null,
            "align_content": null,
            "visibility": null,
            "align_self": null,
            "height": null,
            "min_height": null,
            "padding": null,
            "grid_auto_rows": null,
            "grid_gap": null,
            "max_width": null,
            "order": null,
            "_view_module_version": "1.2.0",
            "grid_template_areas": null,
            "object_position": null,
            "object_fit": null,
            "grid_auto_columns": null,
            "margin": null,
            "display": null,
            "left": null
          }
        },
        "54b687d34e1d47febe05aa2bd01d2162": {
          "model_module": "@jupyter-widgets/controls",
          "model_name": "IntProgressModel",
          "state": {
            "_view_name": "ProgressView",
            "style": "IPY_MODEL_4f9a4d09542c469a86528805a38ff581",
            "_dom_classes": [],
            "description": "Processing: ",
            "_model_name": "IntProgressModel",
            "bar_style": "",
            "max": 98,
            "_view_module": "@jupyter-widgets/controls",
            "_model_module_version": "1.5.0",
            "value": 95,
            "_view_count": null,
            "_view_module_version": "1.5.0",
            "orientation": "horizontal",
            "min": 0,
            "description_tooltip": null,
            "_model_module": "@jupyter-widgets/controls",
            "layout": "IPY_MODEL_af447887a46d49d3b8e4932b3728f98f"
          }
        },
        "4f9a4d09542c469a86528805a38ff581": {
          "model_module": "@jupyter-widgets/controls",
          "model_name": "ProgressStyleModel",
          "state": {
            "_view_name": "StyleView",
            "_model_name": "ProgressStyleModel",
            "description_width": "",
            "_view_module": "@jupyter-widgets/base",
            "_model_module_version": "1.5.0",
            "_view_count": null,
            "_view_module_version": "1.2.0",
            "bar_color": null,
            "_model_module": "@jupyter-widgets/controls"
          }
        },
        "af447887a46d49d3b8e4932b3728f98f": {
          "model_module": "@jupyter-widgets/base",
          "model_name": "LayoutModel",
          "state": {
            "_view_name": "LayoutView",
            "grid_template_rows": null,
            "right": null,
            "justify_content": null,
            "_view_module": "@jupyter-widgets/base",
            "overflow": null,
            "_model_module_version": "1.2.0",
            "_view_count": null,
            "flex_flow": null,
            "width": null,
            "min_width": null,
            "border": null,
            "align_items": null,
            "bottom": null,
            "_model_module": "@jupyter-widgets/base",
            "top": null,
            "grid_column": null,
            "overflow_y": null,
            "overflow_x": null,
            "grid_auto_flow": null,
            "grid_area": null,
            "grid_template_columns": null,
            "flex": null,
            "_model_name": "LayoutModel",
            "justify_items": null,
            "grid_row": null,
            "max_height": null,
            "align_content": null,
            "visibility": null,
            "align_self": null,
            "height": null,
            "min_height": null,
            "padding": null,
            "grid_auto_rows": null,
            "grid_gap": null,
            "max_width": null,
            "order": null,
            "_view_module_version": "1.2.0",
            "grid_template_areas": null,
            "object_position": null,
            "object_fit": null,
            "grid_auto_columns": null,
            "margin": null,
            "display": null,
            "left": null
          }
        },
        "6e0f37403f064f03aa1352ecd0882b20": {
          "model_module": "@jupyter-widgets/controls",
          "model_name": "IntProgressModel",
          "state": {
            "_view_name": "ProgressView",
            "style": "IPY_MODEL_a5a238010383462c9dd52b5805eb91e9",
            "_dom_classes": [],
            "description": "Processing: ",
            "_model_name": "IntProgressModel",
            "bar_style": "",
            "max": 13,
            "_view_module": "@jupyter-widgets/controls",
            "_model_module_version": "1.5.0",
            "value": 3,
            "_view_count": null,
            "_view_module_version": "1.5.0",
            "orientation": "horizontal",
            "min": 0,
            "description_tooltip": null,
            "_model_module": "@jupyter-widgets/controls",
            "layout": "IPY_MODEL_9f0a8bff232e42f78f1a3d5683d36b73"
          }
        },
        "a5a238010383462c9dd52b5805eb91e9": {
          "model_module": "@jupyter-widgets/controls",
          "model_name": "ProgressStyleModel",
          "state": {
            "_view_name": "StyleView",
            "_model_name": "ProgressStyleModel",
            "description_width": "",
            "_view_module": "@jupyter-widgets/base",
            "_model_module_version": "1.5.0",
            "_view_count": null,
            "_view_module_version": "1.2.0",
            "bar_color": null,
            "_model_module": "@jupyter-widgets/controls"
          }
        },
        "9f0a8bff232e42f78f1a3d5683d36b73": {
          "model_module": "@jupyter-widgets/base",
          "model_name": "LayoutModel",
          "state": {
            "_view_name": "LayoutView",
            "grid_template_rows": null,
            "right": null,
            "justify_content": null,
            "_view_module": "@jupyter-widgets/base",
            "overflow": null,
            "_model_module_version": "1.2.0",
            "_view_count": null,
            "flex_flow": null,
            "width": null,
            "min_width": null,
            "border": null,
            "align_items": null,
            "bottom": null,
            "_model_module": "@jupyter-widgets/base",
            "top": null,
            "grid_column": null,
            "overflow_y": null,
            "overflow_x": null,
            "grid_auto_flow": null,
            "grid_area": null,
            "grid_template_columns": null,
            "flex": null,
            "_model_name": "LayoutModel",
            "justify_items": null,
            "grid_row": null,
            "max_height": null,
            "align_content": null,
            "visibility": null,
            "align_self": null,
            "height": null,
            "min_height": null,
            "padding": null,
            "grid_auto_rows": null,
            "grid_gap": null,
            "max_width": null,
            "order": null,
            "_view_module_version": "1.2.0",
            "grid_template_areas": null,
            "object_position": null,
            "object_fit": null,
            "grid_auto_columns": null,
            "margin": null,
            "display": null,
            "left": null
          }
        },
        "e8f60f5056b54a4e89961cb959cc2a80": {
          "model_module": "@jupyter-widgets/controls",
          "model_name": "TextModel",
          "state": {
            "_view_name": "TextView",
            "style": "IPY_MODEL_1a73c69ec8a545689ddcad3b89bb1c32",
            "_dom_classes": [],
            "description": "",
            "_model_name": "TextModel",
            "placeholder": "​",
            "_view_module": "@jupyter-widgets/controls",
            "_model_module_version": "1.5.0",
            "value": "Following data types have been inferred automatically, if they are correct press enter to continue or type 'quit' otherwise.",
            "_view_count": null,
            "disabled": false,
            "_view_module_version": "1.5.0",
            "continuous_update": true,
            "description_tooltip": null,
            "_model_module": "@jupyter-widgets/controls",
            "layout": "IPY_MODEL_53046d8a77ab41d9a6eaa174c9626fde"
          }
        },
        "1a73c69ec8a545689ddcad3b89bb1c32": {
          "model_module": "@jupyter-widgets/controls",
          "model_name": "DescriptionStyleModel",
          "state": {
            "_view_name": "StyleView",
            "_model_name": "DescriptionStyleModel",
            "description_width": "",
            "_view_module": "@jupyter-widgets/base",
            "_model_module_version": "1.5.0",
            "_view_count": null,
            "_view_module_version": "1.2.0",
            "_model_module": "@jupyter-widgets/controls"
          }
        },
        "53046d8a77ab41d9a6eaa174c9626fde": {
          "model_module": "@jupyter-widgets/base",
          "model_name": "LayoutModel",
          "state": {
            "_view_name": "LayoutView",
            "grid_template_rows": null,
            "right": null,
            "justify_content": null,
            "_view_module": "@jupyter-widgets/base",
            "overflow": null,
            "_model_module_version": "1.2.0",
            "_view_count": null,
            "flex_flow": null,
            "width": "100%",
            "min_width": null,
            "border": null,
            "align_items": null,
            "bottom": null,
            "_model_module": "@jupyter-widgets/base",
            "top": null,
            "grid_column": null,
            "overflow_y": null,
            "overflow_x": null,
            "grid_auto_flow": null,
            "grid_area": null,
            "grid_template_columns": null,
            "flex": null,
            "_model_name": "LayoutModel",
            "justify_items": null,
            "grid_row": null,
            "max_height": null,
            "align_content": null,
            "visibility": null,
            "align_self": null,
            "height": null,
            "min_height": null,
            "padding": null,
            "grid_auto_rows": null,
            "grid_gap": null,
            "max_width": null,
            "order": null,
            "_view_module_version": "1.2.0",
            "grid_template_areas": null,
            "object_position": null,
            "object_fit": null,
            "grid_auto_columns": null,
            "margin": null,
            "display": null,
            "left": null
          }
        },
        "752c3a7905ba4a39a4f922078fcecfad": {
          "model_module": "@jupyter-widgets/controls",
          "model_name": "IntProgressModel",
          "state": {
            "_view_name": "ProgressView",
            "style": "IPY_MODEL_1abd396573184be68f81ab5f192faaef",
            "_dom_classes": [],
            "description": "Processing: ",
            "_model_name": "IntProgressModel",
            "bar_style": "",
            "max": 98,
            "_view_module": "@jupyter-widgets/controls",
            "_model_module_version": "1.5.0",
            "value": 95,
            "_view_count": null,
            "_view_module_version": "1.5.0",
            "orientation": "horizontal",
            "min": 0,
            "description_tooltip": null,
            "_model_module": "@jupyter-widgets/controls",
            "layout": "IPY_MODEL_aed378a14bbf494f8e2a51e1b86129fa"
          }
        },
        "1abd396573184be68f81ab5f192faaef": {
          "model_module": "@jupyter-widgets/controls",
          "model_name": "ProgressStyleModel",
          "state": {
            "_view_name": "StyleView",
            "_model_name": "ProgressStyleModel",
            "description_width": "",
            "_view_module": "@jupyter-widgets/base",
            "_model_module_version": "1.5.0",
            "_view_count": null,
            "_view_module_version": "1.2.0",
            "bar_color": null,
            "_model_module": "@jupyter-widgets/controls"
          }
        },
        "aed378a14bbf494f8e2a51e1b86129fa": {
          "model_module": "@jupyter-widgets/base",
          "model_name": "LayoutModel",
          "state": {
            "_view_name": "LayoutView",
            "grid_template_rows": null,
            "right": null,
            "justify_content": null,
            "_view_module": "@jupyter-widgets/base",
            "overflow": null,
            "_model_module_version": "1.2.0",
            "_view_count": null,
            "flex_flow": null,
            "width": null,
            "min_width": null,
            "border": null,
            "align_items": null,
            "bottom": null,
            "_model_module": "@jupyter-widgets/base",
            "top": null,
            "grid_column": null,
            "overflow_y": null,
            "overflow_x": null,
            "grid_auto_flow": null,
            "grid_area": null,
            "grid_template_columns": null,
            "flex": null,
            "_model_name": "LayoutModel",
            "justify_items": null,
            "grid_row": null,
            "max_height": null,
            "align_content": null,
            "visibility": null,
            "align_self": null,
            "height": null,
            "min_height": null,
            "padding": null,
            "grid_auto_rows": null,
            "grid_gap": null,
            "max_width": null,
            "order": null,
            "_view_module_version": "1.2.0",
            "grid_template_areas": null,
            "object_position": null,
            "object_fit": null,
            "grid_auto_columns": null,
            "margin": null,
            "display": null,
            "left": null
          }
        }
      }
    }
  },
  "cells": [
    {
      "cell_type": "markdown",
      "metadata": {
        "id": "view-in-github",
        "colab_type": "text"
      },
      "source": [
        "<a href=\"https://colab.research.google.com/github/nicholasrichers/regressao-neuron/blob/master/pt2_Regressao_na_Pratica_Bootcamp.ipynb\" target=\"_parent\"><img src=\"https://colab.research.google.com/assets/colab-badge.svg\" alt=\"Open In Colab\"/></a>"
      ]
    },
    {
      "cell_type": "code",
      "metadata": {
        "id": "ov0JHUkw38zK",
        "colab_type": "code",
        "colab": {}
      },
      "source": [
        "%%capture\n",
        "!pip install mlxtend==0.17.3\n",
        "!pip install pycaret==2.0\n",
        "!pip install h2o"
      ],
      "execution_count": 1,
      "outputs": []
    },
    {
      "cell_type": "markdown",
      "metadata": {
        "id": "cyI_qSqnecfB",
        "colab_type": "text"
      },
      "source": [
        "# Regressão na prática"
      ]
    },
    {
      "cell_type": "markdown",
      "metadata": {
        "id": "2pt1NIctehSj",
        "colab_type": "text"
      },
      "source": [
        "O que iremos abordar:\n",
        "\n",
        "- Quando aplicar? \n",
        "- Diferencas entre técnicas de regressão e classificação\n",
        "- Introdução a técnicas de regressão\n",
        "- Como Avaliar modelos de regressão\n",
        "- Como selecionamos e comparamos os modelos na prática com auto-ml\n",
        "\n",
        "\n"
      ]
    },
    {
      "cell_type": "markdown",
      "metadata": {
        "id": "1i1V2_4RY8xN",
        "colab_type": "text"
      },
      "source": [
        "\n",
        "\n",
        "---\n",
        "\n",
        "\n",
        "\n",
        "---\n",
        "\n"
      ]
    },
    {
      "cell_type": "markdown",
      "metadata": {
        "id": "xuN1rNPQI6mP",
        "colab_type": "text"
      },
      "source": [
        "## Conjunto de dados"
      ]
    },
    {
      "cell_type": "markdown",
      "metadata": {
        "id": "akCG5gfyI-Pt",
        "colab_type": "text"
      },
      "source": [
        "Nesse treinamento vamos usar um dataset muito conhecido na literatura, chamado [boston housing](https://www.cs.toronto.edu/~delve/data/boston/bostonDetail.html), que usa **dados demograficos/socioeconômicos** da região para **prever a mediana dos preços das casas** em cada região da cidade.\n",
        "\n",
        "\n",
        "\n",
        "-CRIM — Taxa de **crime** per capita por cidade\n",
        "\n",
        "-ZN — **Proporção de lotes** residenciais num raio de 25,000 pés quadrados\n",
        "\n",
        "-INDUS — **Proporção de acres** para negócios que não são varejo por cidade\n",
        "\n",
        "-CHAS — **Proximidade com o rio** (1 se o lote está na margem  do rio, 0 se não)\n",
        "\n",
        "-NOX — **Concentração** de **óxidos** nítricos (partes por 10 milhões)\n",
        "\n",
        "-RM — Numero médio de **quartos** por residência\n",
        "\n",
        "-AGE — Proporção de **unidades construídas** antes de **1940**\n",
        "\n",
        "-DIS — **Distância** ponderada dos cinco grandes **centros** de trabalho\n",
        "\n",
        "-RAD — Índice de **acessibilidade** à estradas radiais\n",
        "\n",
        "-TAX — Razão de **imposto** sobre valor total da propriedade\n",
        "\n",
        "-PTRATIO — Razão de **alunos por professor** na cidade\n",
        "\n",
        "-LSTAT — % porcentagem de **status inferior** da população\n",
        "\n",
        "-MEDV — **Valor mediano das casas** ocupadas em milhares\n"
      ]
    },
    {
      "cell_type": "code",
      "metadata": {
        "id": "fuvRv-1x3uIr",
        "colab_type": "code",
        "colab": {}
      },
      "source": [
        "#impotando a biblioteca pandas\n",
        "import pandas as pd"
      ],
      "execution_count": null,
      "outputs": []
    },
    {
      "cell_type": "code",
      "metadata": {
        "id": "yBO_OlXrj7jd",
        "colab_type": "code",
        "colab": {
          "base_uri": "https://localhost:8080/",
          "height": 34
        },
        "outputId": "c3aaf70c-2938-4a7e-f984-86aaf53d9730"
      },
      "source": [
        "#url onde o dataset está armazenado\n",
        "url = \"https://raw.githubusercontent.com/selva86/datasets/master/BostonHousing.csv\"\n",
        "\n",
        "#importando o dataset para o pandas\n",
        "df = pd.read_csv(url)\n",
        "\n",
        "#dimensão do dataset\n",
        "print(\"O dataset possui {} linhas (registros) e {} colunas (features)\".format(df.shape[0], df.shape[1]))"
      ],
      "execution_count": null,
      "outputs": [
        {
          "output_type": "stream",
          "text": [
            "O dataset possui 506 linhas (registros) e 14 colunas (features)\n"
          ],
          "name": "stdout"
        }
      ]
    },
    {
      "cell_type": "markdown",
      "metadata": {
        "id": "I9DPXmfhZzwz",
        "colab_type": "text"
      },
      "source": [
        "> **Uma amostra do dataset**"
      ]
    },
    {
      "cell_type": "code",
      "metadata": {
        "id": "xnDSHjyxZDDk",
        "colab_type": "code",
        "colab": {
          "base_uri": "https://localhost:8080/",
          "height": 359
        },
        "outputId": "efdd9d7e-61b1-449a-a0ae-fcb7b9f2d4e2"
      },
      "source": [
        "df.head(10) "
      ],
      "execution_count": null,
      "outputs": [
        {
          "output_type": "execute_result",
          "data": {
            "text/html": [
              "<div>\n",
              "<style scoped>\n",
              "    .dataframe tbody tr th:only-of-type {\n",
              "        vertical-align: middle;\n",
              "    }\n",
              "\n",
              "    .dataframe tbody tr th {\n",
              "        vertical-align: top;\n",
              "    }\n",
              "\n",
              "    .dataframe thead th {\n",
              "        text-align: right;\n",
              "    }\n",
              "</style>\n",
              "<table border=\"1\" class=\"dataframe\">\n",
              "  <thead>\n",
              "    <tr style=\"text-align: right;\">\n",
              "      <th></th>\n",
              "      <th>crim</th>\n",
              "      <th>zn</th>\n",
              "      <th>indus</th>\n",
              "      <th>chas</th>\n",
              "      <th>nox</th>\n",
              "      <th>rm</th>\n",
              "      <th>age</th>\n",
              "      <th>dis</th>\n",
              "      <th>rad</th>\n",
              "      <th>tax</th>\n",
              "      <th>ptratio</th>\n",
              "      <th>b</th>\n",
              "      <th>lstat</th>\n",
              "      <th>medv</th>\n",
              "    </tr>\n",
              "  </thead>\n",
              "  <tbody>\n",
              "    <tr>\n",
              "      <th>0</th>\n",
              "      <td>0.00632</td>\n",
              "      <td>18.0</td>\n",
              "      <td>2.31</td>\n",
              "      <td>0</td>\n",
              "      <td>0.538</td>\n",
              "      <td>6.575</td>\n",
              "      <td>65.2</td>\n",
              "      <td>4.0900</td>\n",
              "      <td>1</td>\n",
              "      <td>296</td>\n",
              "      <td>15.3</td>\n",
              "      <td>396.90</td>\n",
              "      <td>4.98</td>\n",
              "      <td>24.0</td>\n",
              "    </tr>\n",
              "    <tr>\n",
              "      <th>1</th>\n",
              "      <td>0.02731</td>\n",
              "      <td>0.0</td>\n",
              "      <td>7.07</td>\n",
              "      <td>0</td>\n",
              "      <td>0.469</td>\n",
              "      <td>6.421</td>\n",
              "      <td>78.9</td>\n",
              "      <td>4.9671</td>\n",
              "      <td>2</td>\n",
              "      <td>242</td>\n",
              "      <td>17.8</td>\n",
              "      <td>396.90</td>\n",
              "      <td>9.14</td>\n",
              "      <td>21.6</td>\n",
              "    </tr>\n",
              "    <tr>\n",
              "      <th>2</th>\n",
              "      <td>0.02729</td>\n",
              "      <td>0.0</td>\n",
              "      <td>7.07</td>\n",
              "      <td>0</td>\n",
              "      <td>0.469</td>\n",
              "      <td>7.185</td>\n",
              "      <td>61.1</td>\n",
              "      <td>4.9671</td>\n",
              "      <td>2</td>\n",
              "      <td>242</td>\n",
              "      <td>17.8</td>\n",
              "      <td>392.83</td>\n",
              "      <td>4.03</td>\n",
              "      <td>34.7</td>\n",
              "    </tr>\n",
              "    <tr>\n",
              "      <th>3</th>\n",
              "      <td>0.03237</td>\n",
              "      <td>0.0</td>\n",
              "      <td>2.18</td>\n",
              "      <td>0</td>\n",
              "      <td>0.458</td>\n",
              "      <td>6.998</td>\n",
              "      <td>45.8</td>\n",
              "      <td>6.0622</td>\n",
              "      <td>3</td>\n",
              "      <td>222</td>\n",
              "      <td>18.7</td>\n",
              "      <td>394.63</td>\n",
              "      <td>2.94</td>\n",
              "      <td>33.4</td>\n",
              "    </tr>\n",
              "    <tr>\n",
              "      <th>4</th>\n",
              "      <td>0.06905</td>\n",
              "      <td>0.0</td>\n",
              "      <td>2.18</td>\n",
              "      <td>0</td>\n",
              "      <td>0.458</td>\n",
              "      <td>7.147</td>\n",
              "      <td>54.2</td>\n",
              "      <td>6.0622</td>\n",
              "      <td>3</td>\n",
              "      <td>222</td>\n",
              "      <td>18.7</td>\n",
              "      <td>396.90</td>\n",
              "      <td>5.33</td>\n",
              "      <td>36.2</td>\n",
              "    </tr>\n",
              "    <tr>\n",
              "      <th>5</th>\n",
              "      <td>0.02985</td>\n",
              "      <td>0.0</td>\n",
              "      <td>2.18</td>\n",
              "      <td>0</td>\n",
              "      <td>0.458</td>\n",
              "      <td>6.430</td>\n",
              "      <td>58.7</td>\n",
              "      <td>6.0622</td>\n",
              "      <td>3</td>\n",
              "      <td>222</td>\n",
              "      <td>18.7</td>\n",
              "      <td>394.12</td>\n",
              "      <td>5.21</td>\n",
              "      <td>28.7</td>\n",
              "    </tr>\n",
              "    <tr>\n",
              "      <th>6</th>\n",
              "      <td>0.08829</td>\n",
              "      <td>12.5</td>\n",
              "      <td>7.87</td>\n",
              "      <td>0</td>\n",
              "      <td>0.524</td>\n",
              "      <td>6.012</td>\n",
              "      <td>66.6</td>\n",
              "      <td>5.5605</td>\n",
              "      <td>5</td>\n",
              "      <td>311</td>\n",
              "      <td>15.2</td>\n",
              "      <td>395.60</td>\n",
              "      <td>12.43</td>\n",
              "      <td>22.9</td>\n",
              "    </tr>\n",
              "    <tr>\n",
              "      <th>7</th>\n",
              "      <td>0.14455</td>\n",
              "      <td>12.5</td>\n",
              "      <td>7.87</td>\n",
              "      <td>0</td>\n",
              "      <td>0.524</td>\n",
              "      <td>6.172</td>\n",
              "      <td>96.1</td>\n",
              "      <td>5.9505</td>\n",
              "      <td>5</td>\n",
              "      <td>311</td>\n",
              "      <td>15.2</td>\n",
              "      <td>396.90</td>\n",
              "      <td>19.15</td>\n",
              "      <td>27.1</td>\n",
              "    </tr>\n",
              "    <tr>\n",
              "      <th>8</th>\n",
              "      <td>0.21124</td>\n",
              "      <td>12.5</td>\n",
              "      <td>7.87</td>\n",
              "      <td>0</td>\n",
              "      <td>0.524</td>\n",
              "      <td>5.631</td>\n",
              "      <td>100.0</td>\n",
              "      <td>6.0821</td>\n",
              "      <td>5</td>\n",
              "      <td>311</td>\n",
              "      <td>15.2</td>\n",
              "      <td>386.63</td>\n",
              "      <td>29.93</td>\n",
              "      <td>16.5</td>\n",
              "    </tr>\n",
              "    <tr>\n",
              "      <th>9</th>\n",
              "      <td>0.17004</td>\n",
              "      <td>12.5</td>\n",
              "      <td>7.87</td>\n",
              "      <td>0</td>\n",
              "      <td>0.524</td>\n",
              "      <td>6.004</td>\n",
              "      <td>85.9</td>\n",
              "      <td>6.5921</td>\n",
              "      <td>5</td>\n",
              "      <td>311</td>\n",
              "      <td>15.2</td>\n",
              "      <td>386.71</td>\n",
              "      <td>17.10</td>\n",
              "      <td>18.9</td>\n",
              "    </tr>\n",
              "  </tbody>\n",
              "</table>\n",
              "</div>"
            ],
            "text/plain": [
              "      crim    zn  indus  chas    nox  ...  tax  ptratio       b  lstat  medv\n",
              "0  0.00632  18.0   2.31     0  0.538  ...  296     15.3  396.90   4.98  24.0\n",
              "1  0.02731   0.0   7.07     0  0.469  ...  242     17.8  396.90   9.14  21.6\n",
              "2  0.02729   0.0   7.07     0  0.469  ...  242     17.8  392.83   4.03  34.7\n",
              "3  0.03237   0.0   2.18     0  0.458  ...  222     18.7  394.63   2.94  33.4\n",
              "4  0.06905   0.0   2.18     0  0.458  ...  222     18.7  396.90   5.33  36.2\n",
              "5  0.02985   0.0   2.18     0  0.458  ...  222     18.7  394.12   5.21  28.7\n",
              "6  0.08829  12.5   7.87     0  0.524  ...  311     15.2  395.60  12.43  22.9\n",
              "7  0.14455  12.5   7.87     0  0.524  ...  311     15.2  396.90  19.15  27.1\n",
              "8  0.21124  12.5   7.87     0  0.524  ...  311     15.2  386.63  29.93  16.5\n",
              "9  0.17004  12.5   7.87     0  0.524  ...  311     15.2  386.71  17.10  18.9\n",
              "\n",
              "[10 rows x 14 columns]"
            ]
          },
          "metadata": {
            "tags": []
          },
          "execution_count": 3
        }
      ]
    },
    {
      "cell_type": "markdown",
      "metadata": {
        "id": "reSYCDMoT4Lj",
        "colab_type": "text"
      },
      "source": [
        "> **Estatistica descritiva dos atributos**"
      ]
    },
    {
      "cell_type": "code",
      "metadata": {
        "id": "kfL8m6OuF-HQ",
        "colab_type": "code",
        "colab": {
          "base_uri": "https://localhost:8080/",
          "height": 297
        },
        "outputId": "907a2279-72c5-4fd0-85ea-63dd9d80e96f"
      },
      "source": [
        " df.describe()"
      ],
      "execution_count": null,
      "outputs": [
        {
          "output_type": "execute_result",
          "data": {
            "text/html": [
              "<div>\n",
              "<style scoped>\n",
              "    .dataframe tbody tr th:only-of-type {\n",
              "        vertical-align: middle;\n",
              "    }\n",
              "\n",
              "    .dataframe tbody tr th {\n",
              "        vertical-align: top;\n",
              "    }\n",
              "\n",
              "    .dataframe thead th {\n",
              "        text-align: right;\n",
              "    }\n",
              "</style>\n",
              "<table border=\"1\" class=\"dataframe\">\n",
              "  <thead>\n",
              "    <tr style=\"text-align: right;\">\n",
              "      <th></th>\n",
              "      <th>crim</th>\n",
              "      <th>zn</th>\n",
              "      <th>indus</th>\n",
              "      <th>chas</th>\n",
              "      <th>nox</th>\n",
              "      <th>rm</th>\n",
              "      <th>age</th>\n",
              "      <th>dis</th>\n",
              "      <th>rad</th>\n",
              "      <th>tax</th>\n",
              "      <th>ptratio</th>\n",
              "      <th>b</th>\n",
              "      <th>lstat</th>\n",
              "      <th>medv</th>\n",
              "    </tr>\n",
              "  </thead>\n",
              "  <tbody>\n",
              "    <tr>\n",
              "      <th>count</th>\n",
              "      <td>506.000000</td>\n",
              "      <td>506.000000</td>\n",
              "      <td>506.000000</td>\n",
              "      <td>506.000000</td>\n",
              "      <td>506.000000</td>\n",
              "      <td>506.000000</td>\n",
              "      <td>506.000000</td>\n",
              "      <td>506.000000</td>\n",
              "      <td>506.000000</td>\n",
              "      <td>506.000000</td>\n",
              "      <td>506.000000</td>\n",
              "      <td>506.000000</td>\n",
              "      <td>506.000000</td>\n",
              "      <td>506.000000</td>\n",
              "    </tr>\n",
              "    <tr>\n",
              "      <th>mean</th>\n",
              "      <td>3.613524</td>\n",
              "      <td>11.363636</td>\n",
              "      <td>11.136779</td>\n",
              "      <td>0.069170</td>\n",
              "      <td>0.554695</td>\n",
              "      <td>6.284634</td>\n",
              "      <td>68.574901</td>\n",
              "      <td>3.795043</td>\n",
              "      <td>9.549407</td>\n",
              "      <td>408.237154</td>\n",
              "      <td>18.455534</td>\n",
              "      <td>356.674032</td>\n",
              "      <td>12.653063</td>\n",
              "      <td>22.532806</td>\n",
              "    </tr>\n",
              "    <tr>\n",
              "      <th>std</th>\n",
              "      <td>8.601545</td>\n",
              "      <td>23.322453</td>\n",
              "      <td>6.860353</td>\n",
              "      <td>0.253994</td>\n",
              "      <td>0.115878</td>\n",
              "      <td>0.702617</td>\n",
              "      <td>28.148861</td>\n",
              "      <td>2.105710</td>\n",
              "      <td>8.707259</td>\n",
              "      <td>168.537116</td>\n",
              "      <td>2.164946</td>\n",
              "      <td>91.294864</td>\n",
              "      <td>7.141062</td>\n",
              "      <td>9.197104</td>\n",
              "    </tr>\n",
              "    <tr>\n",
              "      <th>min</th>\n",
              "      <td>0.006320</td>\n",
              "      <td>0.000000</td>\n",
              "      <td>0.460000</td>\n",
              "      <td>0.000000</td>\n",
              "      <td>0.385000</td>\n",
              "      <td>3.561000</td>\n",
              "      <td>2.900000</td>\n",
              "      <td>1.129600</td>\n",
              "      <td>1.000000</td>\n",
              "      <td>187.000000</td>\n",
              "      <td>12.600000</td>\n",
              "      <td>0.320000</td>\n",
              "      <td>1.730000</td>\n",
              "      <td>5.000000</td>\n",
              "    </tr>\n",
              "    <tr>\n",
              "      <th>25%</th>\n",
              "      <td>0.082045</td>\n",
              "      <td>0.000000</td>\n",
              "      <td>5.190000</td>\n",
              "      <td>0.000000</td>\n",
              "      <td>0.449000</td>\n",
              "      <td>5.885500</td>\n",
              "      <td>45.025000</td>\n",
              "      <td>2.100175</td>\n",
              "      <td>4.000000</td>\n",
              "      <td>279.000000</td>\n",
              "      <td>17.400000</td>\n",
              "      <td>375.377500</td>\n",
              "      <td>6.950000</td>\n",
              "      <td>17.025000</td>\n",
              "    </tr>\n",
              "    <tr>\n",
              "      <th>50%</th>\n",
              "      <td>0.256510</td>\n",
              "      <td>0.000000</td>\n",
              "      <td>9.690000</td>\n",
              "      <td>0.000000</td>\n",
              "      <td>0.538000</td>\n",
              "      <td>6.208500</td>\n",
              "      <td>77.500000</td>\n",
              "      <td>3.207450</td>\n",
              "      <td>5.000000</td>\n",
              "      <td>330.000000</td>\n",
              "      <td>19.050000</td>\n",
              "      <td>391.440000</td>\n",
              "      <td>11.360000</td>\n",
              "      <td>21.200000</td>\n",
              "    </tr>\n",
              "    <tr>\n",
              "      <th>75%</th>\n",
              "      <td>3.677082</td>\n",
              "      <td>12.500000</td>\n",
              "      <td>18.100000</td>\n",
              "      <td>0.000000</td>\n",
              "      <td>0.624000</td>\n",
              "      <td>6.623500</td>\n",
              "      <td>94.075000</td>\n",
              "      <td>5.188425</td>\n",
              "      <td>24.000000</td>\n",
              "      <td>666.000000</td>\n",
              "      <td>20.200000</td>\n",
              "      <td>396.225000</td>\n",
              "      <td>16.955000</td>\n",
              "      <td>25.000000</td>\n",
              "    </tr>\n",
              "    <tr>\n",
              "      <th>max</th>\n",
              "      <td>88.976200</td>\n",
              "      <td>100.000000</td>\n",
              "      <td>27.740000</td>\n",
              "      <td>1.000000</td>\n",
              "      <td>0.871000</td>\n",
              "      <td>8.780000</td>\n",
              "      <td>100.000000</td>\n",
              "      <td>12.126500</td>\n",
              "      <td>24.000000</td>\n",
              "      <td>711.000000</td>\n",
              "      <td>22.000000</td>\n",
              "      <td>396.900000</td>\n",
              "      <td>37.970000</td>\n",
              "      <td>50.000000</td>\n",
              "    </tr>\n",
              "  </tbody>\n",
              "</table>\n",
              "</div>"
            ],
            "text/plain": [
              "             crim          zn       indus  ...           b       lstat        medv\n",
              "count  506.000000  506.000000  506.000000  ...  506.000000  506.000000  506.000000\n",
              "mean     3.613524   11.363636   11.136779  ...  356.674032   12.653063   22.532806\n",
              "std      8.601545   23.322453    6.860353  ...   91.294864    7.141062    9.197104\n",
              "min      0.006320    0.000000    0.460000  ...    0.320000    1.730000    5.000000\n",
              "25%      0.082045    0.000000    5.190000  ...  375.377500    6.950000   17.025000\n",
              "50%      0.256510    0.000000    9.690000  ...  391.440000   11.360000   21.200000\n",
              "75%      3.677082   12.500000   18.100000  ...  396.225000   16.955000   25.000000\n",
              "max     88.976200  100.000000   27.740000  ...  396.900000   37.970000   50.000000\n",
              "\n",
              "[8 rows x 14 columns]"
            ]
          },
          "metadata": {
            "tags": []
          },
          "execution_count": 4
        }
      ]
    },
    {
      "cell_type": "markdown",
      "metadata": {
        "id": "y8PlH0kaTtpk",
        "colab_type": "text"
      },
      "source": [
        "\n",
        "\n",
        "---\n",
        "\n",
        "\n",
        "\n",
        "---\n",
        "\n"
      ]
    },
    {
      "cell_type": "markdown",
      "metadata": {
        "id": "sbBtK6YFUGir",
        "colab_type": "text"
      },
      "source": [
        "## Analisando o conjunto de dados"
      ]
    },
    {
      "cell_type": "code",
      "metadata": {
        "id": "arCDxKYO65Y1",
        "colab_type": "code",
        "colab": {
          "base_uri": "https://localhost:8080/",
          "height": 71
        },
        "outputId": "7c4ed4c3-09f6-4975-aea8-224d98e9c2ac"
      },
      "source": [
        "#Importando Bibliotecas \n",
        "import seaborn as sns\n",
        "import matplotlib.pyplot as plt\n",
        "import numpy as np"
      ],
      "execution_count": null,
      "outputs": [
        {
          "output_type": "stream",
          "text": [
            "/usr/local/lib/python3.6/dist-packages/statsmodels/tools/_testing.py:19: FutureWarning: pandas.util.testing is deprecated. Use the functions in the public API at pandas.testing instead.\n",
            "  import pandas.util.testing as tm\n"
          ],
          "name": "stderr"
        }
      ]
    },
    {
      "cell_type": "code",
      "metadata": {
        "id": "-NZWfk2D06Cu",
        "colab_type": "code",
        "colab": {
          "base_uri": "https://localhost:8080/",
          "height": 615
        },
        "outputId": "d6a90617-95c0-45fe-bddd-0ebf5a6543d7"
      },
      "source": [
        "# Aqui estamos calculando a matriz de correlação\n",
        "corr=df.corr(method='pearson') # É possivel definir o método \n",
        "\n",
        "# Desenvolvendo o gráfico de correlação \n",
        "np.triu ( np.ones ( corr.shape , dtype  =  bool ))\n",
        "mask  =  np.triu ( np.ones ( corr.shape , dtype  =  bool ))\n",
        "fig = plt.gcf() \n",
        "figsize = fig.get_size_inches()\n",
        "fig.set_size_inches(figsize * 2.5)\n",
        "sns.set(font_scale=1)\n",
        "sns.heatmap(corr, annot=True, mask  =  mask , annot_kws={\"size\": 10} ,cmap=\"viridis\",linewidths=5, vmin=-1, vmax=1)"
      ],
      "execution_count": null,
      "outputs": [
        {
          "output_type": "execute_result",
          "data": {
            "text/plain": [
              "<matplotlib.axes._subplots.AxesSubplot at 0x7f0952fadf28>"
            ]
          },
          "metadata": {
            "tags": []
          },
          "execution_count": 6
        },
        {
          "output_type": "display_data",
          "data": {
            "image/png": "[encoded data removed]",
            "text/plain": [
              "<Figure size 1080x720 with 2 Axes>"
            ]
          },
          "metadata": {
            "tags": [],
            "needs_background": "light"
          }
        }
      ]
    },
    {
      "cell_type": "markdown",
      "metadata": {
        "id": "wKdzJGc-K8EG",
        "colab_type": "text"
      },
      "source": [
        "\n",
        "\n",
        "---\n",
        "\n",
        "\n",
        "\n",
        "---\n",
        "\n"
      ]
    },
    {
      "cell_type": "markdown",
      "metadata": {
        "id": "HKrPikeMTaVN",
        "colab_type": "text"
      },
      "source": [
        "# Dividindo o conjunto de dados "
      ]
    },
    {
      "cell_type": "markdown",
      "metadata": {
        "id": "QaoJqiO-JeIu",
        "colab_type": "text"
      },
      "source": [
        "\n",
        "> **Train/Test Split** \n",
        "\n",
        "Após a peparação e compreensão do conjunto de dados, entramos na primeira parte da análise propiamente dita, onde é realizada a divisão do conjunto de dados em treino e teste.\n",
        "\n",
        "A etapa de **treino** consiste na **apresentação dos padrões** dos dados ao algoritmo, é nesta etapa que este vai tentar aprender. A proxima etapa é a de **teste**, esta objetiva **avaliar** se realmente o algoritmo **aprendeu** os padrões e com isso é possivel identificar a presença de overfitting ou underfitting."
      ]
    },
    {
      "cell_type": "code",
      "metadata": {
        "id": "55eF1V_0JXjn",
        "colab_type": "code",
        "colab": {}
      },
      "source": [
        "# Vetor de resposta\n",
        "Y = df['medv']\n",
        "\n",
        "# Vetor característica\n",
        "X = df['rm']"
      ],
      "execution_count": null,
      "outputs": []
    },
    {
      "cell_type": "markdown",
      "metadata": {
        "id": "h_5WdNpCUXct",
        "colab_type": "text"
      },
      "source": [
        "Aqui ocorreu a divisão do conjunto de dados, onde **70%** dos dados foram destinados ao **treino** e **30% ao teste**."
      ]
    },
    {
      "cell_type": "code",
      "metadata": {
        "id": "Y0WIFhCyKEn5",
        "colab_type": "code",
        "colab": {}
      },
      "source": [
        "from sklearn.model_selection import train_test_split\n",
        "\n",
        "# Dividindo o banco de dados em treino e teste\n",
        "treino_Y, teste_Y, treino_X, teste_X = train_test_split(Y, X, test_size = 0.30, random_state=42)"
      ],
      "execution_count": null,
      "outputs": []
    },
    {
      "cell_type": "code",
      "metadata": {
        "id": "PzT59sIHmpoK",
        "colab_type": "code",
        "colab": {
          "base_uri": "https://localhost:8080/",
          "height": 85
        },
        "outputId": "49f7a25c-f4fe-40b4-cc4c-a8e7dedf90a0"
      },
      "source": [
        "#Aqui verificamos os tamanhos dos bancos de dados de treino e teste\n",
        "print('Tamanho do banco de dados de treino de Y:', treino_Y.shape)\n",
        "print('Tamanho do banco de dados de teste de Y:', teste_Y.shape)\n",
        "print('Tamanho do banco de dados de treino de X:', treino_X.shape)\n",
        "print('Tamanho do banco de dados de teste de X:', teste_X.shape)"
      ],
      "execution_count": null,
      "outputs": [
        {
          "output_type": "stream",
          "text": [
            "Tamanho do banco de dados de treino de Y: (354,)\n",
            "Tamanho do banco de dados de teste de Y: (152,)\n",
            "Tamanho do banco de dados de treino de X: (354,)\n",
            "Tamanho do banco de dados de teste de X: (152,)\n"
          ],
          "name": "stdout"
        }
      ]
    },
    {
      "cell_type": "markdown",
      "metadata": {
        "id": "uqFdduNiZs7R",
        "colab_type": "text"
      },
      "source": [
        "\n",
        "\n",
        "---\n",
        "\n",
        "\n",
        "\n",
        "---\n",
        "\n"
      ]
    },
    {
      "cell_type": "markdown",
      "metadata": {
        "id": "v0alt7Pbe_fi",
        "colab_type": "text"
      },
      "source": [
        "# Tipos de regressão"
      ]
    },
    {
      "cell_type": "markdown",
      "metadata": {
        "id": "n0fz22AIfo5C",
        "colab_type": "text"
      },
      "source": [
        "### Linear simples\n",
        "A **regressão linear simples** é uma abordagem para prever uma resposta usando uma única feature. Entende-se que as duas variáveis ​​estão **linearmente relacionadas**. Com base nisso, tentamos encontrar uma **função linear** para prever o valor do alvo (Y) com a maior precisão possível a partir de uma função com a variável independente (X)."
      ]
    },
    {
      "cell_type": "markdown",
      "metadata": {
        "id": "-bnxYTfbHXqu",
        "colab_type": "text"
      },
      "source": [
        "> **Regressão linear na mão** (*from scratch*)\n"
      ]
    },
    {
      "cell_type": "code",
      "metadata": {
        "id": "raxk4M7bsUi9",
        "colab_type": "code",
        "colab": {
          "base_uri": "https://localhost:8080/",
          "height": 336
        },
        "outputId": "848b2004-5cc2-42ed-8bb4-92dfa043737f"
      },
      "source": [
        "#Adaptado de https://www.geeksforgeeks.org/linear-regression-python-implementation/\n",
        "\n",
        "def estimate_coef(x, y): \n",
        "  # número de observações\n",
        "   n = np.size(x) \n",
        "  # calculando a média dos vetores x e y\n",
        "   m_x, m_y = np.mean(x), np.mean(y)\n",
        "  # calculando a soma dos produtos cruzados dos desvios e o devio sobre X\n",
        "   SS_xy = np.sum(y*x) - n*m_y*m_x \n",
        "   SS_xx = np.sum(x*x) - n*m_x*m_x\n",
        "  \n",
        "  # obtendo os coeficientes da regressão \n",
        "   b_1 = SS_xy / SS_xx \n",
        "   b_0 = m_y - b_1*m_x \n",
        "   \n",
        "   return(b_0, b_1)\n",
        "\n",
        "def plot_regression_line(x, y, b): \n",
        "    # Plotando o gráfico  \n",
        "    plt.scatter(x, y, color = \"m\", marker = \"o\", s = 30)\n",
        "    y_pred = b[0] + b[1]*x\n",
        "\n",
        "    plt.plot(x, y_pred, color = \"g\")\n",
        "    plt.xlabel('x') \n",
        "    plt.ylabel('y') \n",
        "    plt.show()\n",
        "\n",
        "def main(): \n",
        "    # Chamando dados  \n",
        "    x = np.array(treino_X) \n",
        "    y = np.array(treino_Y) \n",
        "  \n",
        "    # Imprimindo coeficientes \n",
        "    b = estimate_coef(x, y) \n",
        "    print(\"Estimando Coeficientes :\\nb_0 = {}  \\ \\nb_1 = {}\".format(b[0], b[1]))\n",
        "\n",
        "   #Plotando predições geradas \n",
        "    plot_regression_line(x, y, b) \n",
        "\n",
        "if __name__ == \"__main__\": \n",
        "    main() "
      ],
      "execution_count": null,
      "outputs": [
        {
          "output_type": "stream",
          "text": [
            "Estimando Coeficientes :\n",
            "b_0 = -34.66230743840702  \\ \n",
            "b_1 = 9.118102197303823\n"
          ],
          "name": "stdout"
        },
        {
          "output_type": "display_data",
          "data": {
            "image/png": "[encoded data removed]",
            "text/plain": [
              "<Figure size 432x288 with 1 Axes>"
            ]
          },
          "metadata": {
            "tags": []
          }
        }
      ]
    },
    {
      "cell_type": "markdown",
      "metadata": {
        "id": "czeQx5iundfg",
        "colab_type": "text"
      },
      "source": [
        "\n",
        "\n",
        "---\n",
        "\n",
        "\n",
        "\n",
        "---\n",
        "\n"
      ]
    },
    {
      "cell_type": "markdown",
      "metadata": {
        "id": "-go98WrTa8T9",
        "colab_type": "text"
      },
      "source": [
        "> **Usando** [sklearn](https://scikit-learn.org/stable/modules/generated/sklearn.linear_model.LinearRegression.html)"
      ]
    },
    {
      "cell_type": "code",
      "metadata": {
        "id": "hVM2UP8GT-L9",
        "colab_type": "code",
        "colab": {
          "base_uri": "https://localhost:8080/",
          "height": 119
        },
        "outputId": "04e84712-29a5-4784-bfe4-9f16be14eb56"
      },
      "source": [
        "#Adaptado de https://scikit-learn.org/stable/\n",
        "\n",
        "#Chamando pacotes \n",
        "from sklearn.linear_model import LinearRegression\n",
        "from sklearn.metrics import mean_squared_error, r2_score\n",
        "\n",
        "#Transformando Dataframes em array\n",
        "treino_X = np.array(treino_X)\n",
        "treino_Y = np.array(treino_Y)\n",
        "teste_X = np.array(teste_X)\n",
        "teste_Y = np.array(teste_Y)\n",
        "\n",
        "regr_simples = LinearRegression()\n",
        "\n",
        "#ajustando o modelo\n",
        "regr_simples.fit(treino_X.reshape(-1, 1), treino_Y.reshape(-1, 1)) #O reshape só é necessário em array 1-D\n",
        "\n",
        "#criando as predicoes\n",
        "preds_regr_simples = regr_simples.predict(teste_X.reshape(-1, 1))\n",
        "\n",
        "#imprimindo os coeficientes\n",
        "print(\"Intercept: \\n\", regr_simples.intercept_)\n",
        "print('Coefficients: \\n', regr_simples.coef_)\n",
        "\n",
        "#imprimindo as métricas\n",
        "print('RMSE: %.2f'% mean_squared_error(teste_Y, preds_regr_simples))\n",
        "print('R2: %.2f'% r2_score(teste_Y, preds_regr_simples))"
      ],
      "execution_count": null,
      "outputs": [
        {
          "output_type": "stream",
          "text": [
            "Intercept: \n",
            " [-34.66230744]\n",
            "Coefficients: \n",
            " [[9.1181022]]\n",
            "RMSE: 40.35\n",
            "R2: 0.46\n"
          ],
          "name": "stdout"
        }
      ]
    },
    {
      "cell_type": "markdown",
      "metadata": {
        "id": "1IlQGNDpLo27",
        "colab_type": "text"
      },
      "source": [
        "> **Plotando o nosso modelo**\n",
        "\n",
        "\n",
        "Caso queira aprender mais sobre matplotlib, temos um [treinamento](https://github.com/nicholasrichers/dataviz-neuron/blob/master/Treinamento_Dataviz.ipynb) específico para essa biblioteca"
      ]
    },
    {
      "cell_type": "code",
      "metadata": {
        "id": "6ojA_7d-NJGS",
        "colab_type": "code",
        "colab": {
          "base_uri": "https://localhost:8080/",
          "height": 268
        },
        "outputId": "3dbb3b67-4e66-45a8-f44f-9dc40c41c0d3"
      },
      "source": [
        "import matplotlib.pyplot as plt\n",
        "plt.style.use('ggplot')\n",
        "\n",
        "# Plotando Predições do modelo regr_simples \n",
        "plt.plot(teste_X, preds_regr_simples, color=\"blue\")\n",
        "\n",
        "#Amotras de teste (vermelho)\n",
        "plt.plot(teste_X, teste_Y, 'ro')\n",
        "\n",
        "\n",
        "plt.show()"
      ],
      "execution_count": null,
      "outputs": [
        {
          "output_type": "display_data",
          "data": {
            "image/png": "[encoded data removed]",
            "text/plain": [
              "<Figure size 432x288 with 1 Axes>"
            ]
          },
          "metadata": {
            "tags": []
          }
        }
      ]
    },
    {
      "cell_type": "markdown",
      "metadata": {
        "id": "Bt_1NkX2bl82",
        "colab_type": "text"
      },
      "source": [
        "\n",
        "\n",
        "---\n",
        "\n",
        "\n",
        "\n",
        "---\n",
        "\n"
      ]
    },
    {
      "cell_type": "markdown",
      "metadata": {
        "id": "LS2J5U6QfGvH",
        "colab_type": "text"
      },
      "source": [
        "### Regressão Múltipla"
      ]
    },
    {
      "cell_type": "markdown",
      "metadata": {
        "id": "YbKJrBI6bjzZ",
        "colab_type": "text"
      },
      "source": [
        "A regressão múltipla  envolve **duas ou mais variáveis** independentes, tal caracteristica representa a principal diferença entre este modelo e a regressão simples. A adição destas variáveis independentes tende a  **melhorar** a capacidade de **predição** em relação a regressão linear simples. Existem algumas maneiras diferentes para **estimarmos os coeficientes** e falaremos de duas delas.\n"
      ]
    },
    {
      "cell_type": "code",
      "metadata": {
        "id": "2Yw4jiCUgFkn",
        "colab_type": "code",
        "colab": {}
      },
      "source": [
        "#Usaremos o mesmo target\n",
        "Y = df['medv']\n",
        "\n",
        "#Nossa matriz de features usará todas as colunas do dataframe exceto o target\n",
        "X = df.iloc[:, :-1]\n",
        "\n",
        "#refazendo o split\n",
        "y_train, y_test, X_train, X_test = train_test_split(Y, X, test_size = 0.30, random_state=20)"
      ],
      "execution_count": null,
      "outputs": []
    },
    {
      "cell_type": "markdown",
      "metadata": {
        "colab_type": "text",
        "id": "d7RYnv7CsIh0"
      },
      "source": [
        "\n",
        "\n",
        "---\n",
        "\n",
        "\n",
        "\n",
        "---\n",
        "\n"
      ]
    },
    {
      "cell_type": "markdown",
      "metadata": {
        "id": "nQA95N3YP2QK",
        "colab_type": "text"
      },
      "source": [
        "> **Método dos Mínimos Quadrados (Ordinary Least Squares - OLS)**\n",
        "\n",
        "\n",
        "Descrição:\n",
        "\n",
        "Esse procedimento busca minimizar a soma do quadrados dos resíduios e dessa forma estimar uma solução única para o vetor de parâmetros ($b$). Partindo do nosso problema original temos que:\n",
        "\n",
        ">$y=X.b$ (1)\n",
        "\n",
        "Onde $X$ é a nossa matriz de features, $y$ é o preço estimado das casas e $b$, o vetor de coefientes que precisamos estimar. Extendendo a eq. (1), temos que:\n",
        "\n",
        "> $X^{T} . y = X^{T}. X.b $ (2)\n",
        "\n",
        "Onde bastou multiplicartmos ambos os lados por $X^{T}$. Em seguida desenvolvendo a eq. (2) algebricamente e isolando $b$, temos:\n",
        "\n",
        "\n",
        "> $b = (X^{T} . X)^{-1} . X^{T} . y$ (3)\n",
        "\n",
        "\n",
        "Note que $(X^{T} . X)^{-1} . X^{T}$, é conhecida como a [pseudo-inversa](https://en.wikipedia.org/wiki/Moore%E2%80%93Penrose_inverse) de $X$."
      ]
    },
    {
      "cell_type": "markdown",
      "metadata": {
        "id": "N2IW3grv-lWJ",
        "colab_type": "text"
      },
      "source": [
        "Finalmente, usaremos a eq. (3) para estimar nosso vetor $b$, onde:\n",
        "\n",
        "\n",
        "```\n",
        "np.linalg.inv(X_train.T.dot(X_train))\n",
        "```\n",
        "Representa $(X^{T} . X)^{-1} $\n"
      ]
    },
    {
      "cell_type": "code",
      "metadata": {
        "id": "S0OaE6fGf7aP",
        "colab_type": "code",
        "colab": {
          "base_uri": "https://localhost:8080/",
          "height": 85
        },
        "outputId": "b3e6e3ec-1cf7-48b4-b540-a797b1890b9a"
      },
      "source": [
        "#a matriz X possui 506 linhas (registros) e 14 colunas (features)\n",
        "from numpy.linalg import inv\n",
        "\n",
        "#Determinando b pelo método OLS, manualmente\n",
        "b = inv(X_train.T.dot(X_train)).dot(X_train.T).dot(y_train) #(eq.3)\n",
        "\n",
        "#Coeficientes\n",
        "print(\"Coeficientes: {}\".format(b))\n",
        "\n",
        "#Gerando as predições\n",
        "preds_ols = X_test.dot(b)"
      ],
      "execution_count": null,
      "outputs": [
        {
          "output_type": "stream",
          "text": [
            "Coeficientes: [-9.66065911e-02  4.52343314e-02  4.90071475e-03  2.43161027e+00\n",
            " -5.87871354e+00  6.25337364e+00  4.01740873e-04 -9.28640656e-01\n",
            "  1.77694034e-01 -9.81291008e-03 -4.32547179e-01  1.33152119e-02\n",
            " -3.88488752e-01]\n"
          ],
          "name": "stdout"
        }
      ]
    },
    {
      "cell_type": "markdown",
      "metadata": {
        "id": "T6MF_qlSD4gN",
        "colab_type": "text"
      },
      "source": [
        "\n",
        "\n",
        "---\n",
        "\n",
        "\n",
        "\n",
        "---\n",
        "\n"
      ]
    },
    {
      "cell_type": "markdown",
      "metadata": {
        "colab_type": "text",
        "id": "IfjW0Bi59qZs"
      },
      "source": [
        "> **Usando skelarn**\n",
        "\n",
        "A função [LinearRegression](https://scikit-learn.org/stable/modules/generated/sklearn.linear_model.LinearRegression.html), também usa o método OLS."
      ]
    },
    {
      "cell_type": "code",
      "metadata": {
        "colab_type": "code",
        "id": "J-rTa6G69qZx",
        "colab": {
          "base_uri": "https://localhost:8080/",
          "height": 119
        },
        "outputId": "22cbd730-0d15-480a-fef5-5b7c23db65a1"
      },
      "source": [
        "#Adaptado de https://scikit-learn.org/stable/\n",
        "\n",
        "# Mesmo exemplo de uma variável usando sklearn\n",
        "#criando o nosso modelo como todos os parametros \"Default\"\n",
        "reg_ols = LinearRegression()\n",
        "\n",
        "#treinando o model\n",
        "reg_ols.fit(X_train, y_train)\n",
        "\n",
        "#Coeficientes\n",
        "print(\"Coeficientes: {}\".format(reg_ols.coef_))\n",
        "print(\"Intercept: {}\".format(reg_ols.intercept_))\n",
        "\n",
        "\n",
        "#salvando nossas predicoes\n",
        "preds_ols_sklearn = reg_ols.predict(X_test)\n",
        "\n",
        "#Avaliando o modelo (R^2)\n",
        "print(\"R2: {}\".format(reg_ols.score(X_test, y_test)))\n"
      ],
      "execution_count": null,
      "outputs": [
        {
          "output_type": "stream",
          "text": [
            "Coeficientes: [-1.10397811e-01  3.80110337e-02  2.52074410e-02  2.22560793e+00\n",
            " -2.27239753e+01  3.94977059e+00  4.76600002e-03 -1.53237931e+00\n",
            "  3.28877511e-01 -1.24974985e-02 -1.08684539e+00  7.58254523e-03\n",
            " -5.11796372e-01]\n",
            "Intercept: 41.09787931914543\n",
            "R2: 0.760795475014641\n"
          ],
          "name": "stdout"
        }
      ]
    },
    {
      "cell_type": "markdown",
      "metadata": {
        "id": "17gCoX-NVGIH",
        "colab_type": "text"
      },
      "source": [
        "Regressão Simples (RM): **R2: 0.59**"
      ]
    },
    {
      "cell_type": "markdown",
      "metadata": {
        "id": "W3KBp7lgjGsE",
        "colab_type": "text"
      },
      "source": [
        "\n",
        "\n",
        "---\n",
        "\n",
        "\n",
        "\n",
        "---\n",
        "\n"
      ]
    },
    {
      "cell_type": "markdown",
      "metadata": {
        "id": "P9kDgUM_eIYJ",
        "colab_type": "text"
      },
      "source": [
        "> **Método de Descida Gradiente (Gradient Descent)**\n",
        "\n",
        "Dada uma função definida na regressão definida com base em um conjunto de parâmetros, a descida do gradiente começa com um conjunto inicial de valores de parâmetro e se move iterativamente em direção a um conjunto de valores de parâmetro que minimizam a função\n",
        "\n",
        "\n",
        "\n",
        "$⟨∂∂b(RSS),∂∂m(RSS)⟩=⟨−2∑_{i=1}^{n}(y_{i} − (m x_{i} + b)),−2∑_{i=1}^{n}xi(y_{i}−(m x_{i} + b))⟩$\n"
      ]
    },
    {
      "cell_type": "markdown",
      "metadata": {
        "colab_type": "text",
        "id": "CAfYgId-sIiA"
      },
      "source": [
        "![picture](https://miro.medium.com/max/379/0*-j3BGxc-EJDOddim)"
      ]
    },
    {
      "cell_type": "markdown",
      "metadata": {
        "id": "t_O36plXhxtt",
        "colab_type": "text"
      },
      "source": [
        "> **Stochastic Gradient Descent**\n",
        "\n",
        "Como a regressão linear é feita usando o método OLS, aqui vamos usar o [SGDRegressor](https://scikit-learn.org/stable/modules/generated/sklearn.linear_model.SGDRegressor.html#sklearn.linear_model.SGDRegressor), que também implementa o algoritmo de descida gradiente, porém de uma forma um pouco diferente.\n",
        "\n",
        "Na formulação original, o algoritmo a **função de custo** é estimada usando **todo o conjunto de dados** e então o modelo é atualizado de acordo com a taxa de aprendizado (learning rate). No **gradiente estocástico**, essa **atualização é feita a cada amostra** e então ajustado pela taxa de aprendizado."
      ]
    },
    {
      "cell_type": "code",
      "metadata": {
        "id": "W2RoxRVVf7Wx",
        "colab_type": "code",
        "colab": {
          "base_uri": "https://localhost:8080/",
          "height": 119
        },
        "outputId": "f0ef776e-ec93-4443-c84b-ec9838690623"
      },
      "source": [
        "#Adaptado de https://scikit-learn.org/stable/\n",
        "from sklearn.linear_model import SGDRegressor\n",
        "\n",
        "reg_sgd = SGDRegressor()\n",
        "\n",
        "#treinando o model\n",
        "reg_sgd.fit(X_train, y_train)\n",
        "\n",
        "#Coeficientes\n",
        "print(\"Coeficientes: {}\".format(reg_sgd.coef_))\n",
        "print(\"Intercept: {}\".format(reg_sgd.intercept_))\n",
        "\n",
        "\n",
        "#salvando nossas predicoes\n",
        "preds_sgd_sklearn = reg_sgd.predict(X_test)\n",
        "\n",
        "#Avaliando o modelo (R^2)\n",
        "print(\"R2: {}\".format(reg_sgd.score(X_test, y_test)))"
      ],
      "execution_count": null,
      "outputs": [
        {
          "output_type": "stream",
          "text": [
            "Coeficientes: [ 1.66405163e+11 -9.09916301e+10 -4.93501185e+11  2.38188023e+10\n",
            " -2.26127584e+10 -2.91623041e+11 -1.53716502e+11 -6.33369035e+10\n",
            "  8.44496113e+11  5.82767482e+11  1.14306452e+11  6.02533233e+10\n",
            " -5.27725121e+11]\n",
            "Intercept: [-3.38896594e+10]\n",
            "R2: -9.695597811797825e+26\n"
          ],
          "name": "stdout"
        }
      ]
    },
    {
      "cell_type": "markdown",
      "metadata": {
        "id": "AyDpWht0aobN",
        "colab_type": "text"
      },
      "source": [
        "Perceba que o coeficiente de determinação (R2), foi **terrível**, e foi necessária alguma investigação para entender o motivo..."
      ]
    },
    {
      "cell_type": "markdown",
      "metadata": {
        "id": "f6WkX0bBq0ut",
        "colab_type": "text"
      },
      "source": [
        "\n",
        "\n",
        "---\n",
        "\n",
        "\n",
        "\n",
        "---\n",
        "\n"
      ]
    },
    {
      "cell_type": "markdown",
      "metadata": {
        "colab_type": "text",
        "id": "kBX4yn5rsIiH"
      },
      "source": [
        "Perceba na **distribuição** para cada variável (coluna, na tabela abaixo), que as **variáveis** estão em diferentes **escalas**, algumas entre (0..100), outras entre (180..700). Mesmo essas diferenças não sendo assim tão significativas, moldou a **topologia** do subspaço de maneira **irregular** (imagem abaixo), e fez o nosso **algoritmo divergir**.\n",
        "\n",
        "![picture](https://encrypted-tbn0.gstatic.com/images?q=tbn%3AANd9GcSzEsJBbkLjWeI4Ll579HHG757cL0jCtvomjg&usqp=CAU)"
      ]
    },
    {
      "cell_type": "code",
      "metadata": {
        "colab_type": "code",
        "id": "Uz1O6qXQsIiI",
        "colab": {
          "base_uri": "https://localhost:8080/",
          "height": 297
        },
        "outputId": "8a87cef3-0664-4791-fcfe-2c03838eed6f"
      },
      "source": [
        " df.describe()"
      ],
      "execution_count": null,
      "outputs": [
        {
          "output_type": "execute_result",
          "data": {
            "text/html": [
              "<div>\n",
              "<style scoped>\n",
              "    .dataframe tbody tr th:only-of-type {\n",
              "        vertical-align: middle;\n",
              "    }\n",
              "\n",
              "    .dataframe tbody tr th {\n",
              "        vertical-align: top;\n",
              "    }\n",
              "\n",
              "    .dataframe thead th {\n",
              "        text-align: right;\n",
              "    }\n",
              "</style>\n",
              "<table border=\"1\" class=\"dataframe\">\n",
              "  <thead>\n",
              "    <tr style=\"text-align: right;\">\n",
              "      <th></th>\n",
              "      <th>crim</th>\n",
              "      <th>zn</th>\n",
              "      <th>indus</th>\n",
              "      <th>chas</th>\n",
              "      <th>nox</th>\n",
              "      <th>rm</th>\n",
              "      <th>age</th>\n",
              "      <th>dis</th>\n",
              "      <th>rad</th>\n",
              "      <th>tax</th>\n",
              "      <th>ptratio</th>\n",
              "      <th>b</th>\n",
              "      <th>lstat</th>\n",
              "      <th>medv</th>\n",
              "    </tr>\n",
              "  </thead>\n",
              "  <tbody>\n",
              "    <tr>\n",
              "      <th>count</th>\n",
              "      <td>506.000000</td>\n",
              "      <td>506.000000</td>\n",
              "      <td>506.000000</td>\n",
              "      <td>506.000000</td>\n",
              "      <td>506.000000</td>\n",
              "      <td>506.000000</td>\n",
              "      <td>506.000000</td>\n",
              "      <td>506.000000</td>\n",
              "      <td>506.000000</td>\n",
              "      <td>506.000000</td>\n",
              "      <td>506.000000</td>\n",
              "      <td>506.000000</td>\n",
              "      <td>506.000000</td>\n",
              "      <td>506.000000</td>\n",
              "    </tr>\n",
              "    <tr>\n",
              "      <th>mean</th>\n",
              "      <td>3.613524</td>\n",
              "      <td>11.363636</td>\n",
              "      <td>11.136779</td>\n",
              "      <td>0.069170</td>\n",
              "      <td>0.554695</td>\n",
              "      <td>6.284634</td>\n",
              "      <td>68.574901</td>\n",
              "      <td>3.795043</td>\n",
              "      <td>9.549407</td>\n",
              "      <td>408.237154</td>\n",
              "      <td>18.455534</td>\n",
              "      <td>356.674032</td>\n",
              "      <td>12.653063</td>\n",
              "      <td>22.532806</td>\n",
              "    </tr>\n",
              "    <tr>\n",
              "      <th>std</th>\n",
              "      <td>8.601545</td>\n",
              "      <td>23.322453</td>\n",
              "      <td>6.860353</td>\n",
              "      <td>0.253994</td>\n",
              "      <td>0.115878</td>\n",
              "      <td>0.702617</td>\n",
              "      <td>28.148861</td>\n",
              "      <td>2.105710</td>\n",
              "      <td>8.707259</td>\n",
              "      <td>168.537116</td>\n",
              "      <td>2.164946</td>\n",
              "      <td>91.294864</td>\n",
              "      <td>7.141062</td>\n",
              "      <td>9.197104</td>\n",
              "    </tr>\n",
              "    <tr>\n",
              "      <th>min</th>\n",
              "      <td>0.006320</td>\n",
              "      <td>0.000000</td>\n",
              "      <td>0.460000</td>\n",
              "      <td>0.000000</td>\n",
              "      <td>0.385000</td>\n",
              "      <td>3.561000</td>\n",
              "      <td>2.900000</td>\n",
              "      <td>1.129600</td>\n",
              "      <td>1.000000</td>\n",
              "      <td>187.000000</td>\n",
              "      <td>12.600000</td>\n",
              "      <td>0.320000</td>\n",
              "      <td>1.730000</td>\n",
              "      <td>5.000000</td>\n",
              "    </tr>\n",
              "    <tr>\n",
              "      <th>25%</th>\n",
              "      <td>0.082045</td>\n",
              "      <td>0.000000</td>\n",
              "      <td>5.190000</td>\n",
              "      <td>0.000000</td>\n",
              "      <td>0.449000</td>\n",
              "      <td>5.885500</td>\n",
              "      <td>45.025000</td>\n",
              "      <td>2.100175</td>\n",
              "      <td>4.000000</td>\n",
              "      <td>279.000000</td>\n",
              "      <td>17.400000</td>\n",
              "      <td>375.377500</td>\n",
              "      <td>6.950000</td>\n",
              "      <td>17.025000</td>\n",
              "    </tr>\n",
              "    <tr>\n",
              "      <th>50%</th>\n",
              "      <td>0.256510</td>\n",
              "      <td>0.000000</td>\n",
              "      <td>9.690000</td>\n",
              "      <td>0.000000</td>\n",
              "      <td>0.538000</td>\n",
              "      <td>6.208500</td>\n",
              "      <td>77.500000</td>\n",
              "      <td>3.207450</td>\n",
              "      <td>5.000000</td>\n",
              "      <td>330.000000</td>\n",
              "      <td>19.050000</td>\n",
              "      <td>391.440000</td>\n",
              "      <td>11.360000</td>\n",
              "      <td>21.200000</td>\n",
              "    </tr>\n",
              "    <tr>\n",
              "      <th>75%</th>\n",
              "      <td>3.677082</td>\n",
              "      <td>12.500000</td>\n",
              "      <td>18.100000</td>\n",
              "      <td>0.000000</td>\n",
              "      <td>0.624000</td>\n",
              "      <td>6.623500</td>\n",
              "      <td>94.075000</td>\n",
              "      <td>5.188425</td>\n",
              "      <td>24.000000</td>\n",
              "      <td>666.000000</td>\n",
              "      <td>20.200000</td>\n",
              "      <td>396.225000</td>\n",
              "      <td>16.955000</td>\n",
              "      <td>25.000000</td>\n",
              "    </tr>\n",
              "    <tr>\n",
              "      <th>max</th>\n",
              "      <td>88.976200</td>\n",
              "      <td>100.000000</td>\n",
              "      <td>27.740000</td>\n",
              "      <td>1.000000</td>\n",
              "      <td>0.871000</td>\n",
              "      <td>8.780000</td>\n",
              "      <td>100.000000</td>\n",
              "      <td>12.126500</td>\n",
              "      <td>24.000000</td>\n",
              "      <td>711.000000</td>\n",
              "      <td>22.000000</td>\n",
              "      <td>396.900000</td>\n",
              "      <td>37.970000</td>\n",
              "      <td>50.000000</td>\n",
              "    </tr>\n",
              "  </tbody>\n",
              "</table>\n",
              "</div>"
            ],
            "text/plain": [
              "             crim          zn       indus  ...           b       lstat        medv\n",
              "count  506.000000  506.000000  506.000000  ...  506.000000  506.000000  506.000000\n",
              "mean     3.613524   11.363636   11.136779  ...  356.674032   12.653063   22.532806\n",
              "std      8.601545   23.322453    6.860353  ...   91.294864    7.141062    9.197104\n",
              "min      0.006320    0.000000    0.460000  ...    0.320000    1.730000    5.000000\n",
              "25%      0.082045    0.000000    5.190000  ...  375.377500    6.950000   17.025000\n",
              "50%      0.256510    0.000000    9.690000  ...  391.440000   11.360000   21.200000\n",
              "75%      3.677082   12.500000   18.100000  ...  396.225000   16.955000   25.000000\n",
              "max     88.976200  100.000000   27.740000  ...  396.900000   37.970000   50.000000\n",
              "\n",
              "[8 rows x 14 columns]"
            ]
          },
          "metadata": {
            "tags": []
          },
          "execution_count": 17
        }
      ]
    },
    {
      "cell_type": "markdown",
      "metadata": {
        "colab_type": "text",
        "id": "bnofQ_2xsIiN"
      },
      "source": [
        "Para fazer esse ajuste, usamos o [StandardScaler](https://scikit-learn.org/stable/modules/generated/sklearn.preprocessing.StandardScaler.html?highlight=standardscaler#sklearn.preprocessing.StandardScaler) do sklearn. Nesse caso todas as colunas passam a ter média $\\mu=0$ e desvio padrao $\\sigma=1$, como no gráfico a direita na imagem abaixo.\n",
        "\n",
        "\n",
        "![picture](https://miro.medium.com/max/1400/1*GAcEj37smCOCZMrqp-rjjA.png)"
      ]
    },
    {
      "cell_type": "markdown",
      "metadata": {
        "colab_type": "text",
        "id": "IwXDoCx7sIiN"
      },
      "source": [
        "> Agora vamos treinar novamente o SGDRegressor, com os dados escalonados. Lembre-se que devido a natureza estocástica os resultados variam um pouco a cada tentativa."
      ]
    },
    {
      "cell_type": "code",
      "metadata": {
        "id": "zm0muZgdYH7g",
        "colab_type": "code",
        "colab": {
          "base_uri": "https://localhost:8080/",
          "height": 102
        },
        "outputId": "ae46691d-01d7-479c-c69d-b18cafa761d7"
      },
      "source": [
        "#Adaptado de https://scikit-learn.org/stable/\n",
        "from sklearn.preprocessing import StandardScaler\n",
        "std = StandardScaler() # Padronizando dados\n",
        "\n",
        "#refazendo o split\n",
        "#y_train, y_test, X_train, X_test = train_test_split(Y, X, test_size = 0.30, random_state=1)\n",
        "\n",
        "\n",
        "X_train_scaled = std.fit_transform(X_train)\n",
        "X_test_scaled = std.fit_transform(X_test)\n",
        "\n",
        "#treinando o model\n",
        "reg_sgd.fit(std.fit_transform(X_train_scaled), y_train)\n",
        "\n",
        "#Coeficientes\n",
        "print(\"Coeficiente: {}\".format(reg_sgd.coef_))\n",
        "print(\"Intercept: {}\".format(reg_sgd.intercept_))\n",
        "\n",
        "#salvando nossas predicoes\n",
        "preds_sdg_scaled = reg_sgd.predict(X_test_scaled)\n",
        "\n",
        "#Avaliando o modelo (R^2)\n",
        "print(\"R2: {}\".format(reg_sgd.score(X_test_scaled, y_test)))"
      ],
      "execution_count": null,
      "outputs": [
        {
          "output_type": "stream",
          "text": [
            "Coeficiente: [-0.72435416  1.16674335  0.10559884  0.73753406 -2.30170358  2.00206365\n",
            "  0.05868794 -3.05273288  1.79701977 -0.92895846 -2.11967098  0.59021686\n",
            " -4.06669096]\n",
            "Intercept: [22.33545191]\n",
            "R2: 0.7806874077271951\n"
          ],
          "name": "stdout"
        }
      ]
    },
    {
      "cell_type": "markdown",
      "metadata": {
        "id": "4YAJbX4obfOt",
        "colab_type": "text"
      },
      "source": [
        "Regressão OLS: **R2: 0.76**"
      ]
    },
    {
      "cell_type": "markdown",
      "metadata": {
        "colab_type": "text",
        "id": "vjIWCjOpsIiQ"
      },
      "source": [
        "\n",
        "\n",
        "---\n",
        "\n",
        "\n",
        "\n",
        "---\n",
        "\n"
      ]
    },
    {
      "cell_type": "markdown",
      "metadata": {
        "colab_type": "text",
        "id": "ewLglErWsIiR"
      },
      "source": [
        "Uma segunda razão relacionada a **divergência** do algoritmo pode estar ligada ao tamanho da **taxa de aprendizado**. Caso seja muito grande, pode levar ao problema da imagem abaixo. No caso acima usamos o valor padrão `learning_rate=0.0001`.\n",
        "\n",
        "![picture](https://i.stack.imgur.com/0tirm.png)"
      ]
    },
    {
      "cell_type": "markdown",
      "metadata": {
        "id": "OtLyXVEzvDYM",
        "colab_type": "text"
      },
      "source": [
        "> Obs: Além das duas formulações acima, poderíamos estimar os coeficientes estimando a **máxima verossimilhança**, não cobriremos esse método nesse treinamento, mas há uma excelente fonte inicial [aqui](https://machinelearningmastery.com/linear-regression-with-maximum-likelihood-estimation/). "
      ]
    },
    {
      "cell_type": "markdown",
      "metadata": {
        "id": "sdEIaTL0jDsI",
        "colab_type": "text"
      },
      "source": [
        "\n",
        "\n",
        "---\n",
        "\n",
        "\n",
        "\n",
        "---\n",
        "\n"
      ]
    },
    {
      "cell_type": "markdown",
      "metadata": {
        "colab_type": "text",
        "id": "leOOwGd_SYih"
      },
      "source": [
        "### Métricas de avaliação de modelos de Regressão \n",
        "\n"
      ]
    },
    {
      "cell_type": "markdown",
      "metadata": {
        "colab_type": "text",
        "id": "YtVpwWpTsIiT"
      },
      "source": [
        "A documentação sklearn possui uma seção dedicada a [métricas](https://scikit-learn.org/stable/modules/model_evaluation.html#regression-metrics) de regressão."
      ]
    },
    {
      "cell_type": "markdown",
      "metadata": {
        "colab_type": "text",
        "id": "qU6mrDsisIiT"
      },
      "source": [
        "$R^2(y, \\hat{y}) = 1 - \\frac{\\sum_{i=1}^{n} (y_i - \\hat{y}_i)^2}{\\sum_{i=1}^{n} (y_i - \\bar{y})^2}$"
      ]
    },
    {
      "cell_type": "code",
      "metadata": {
        "id": "6epjE-Tedpwl",
        "colab_type": "code",
        "colab": {
          "base_uri": "https://localhost:8080/",
          "height": 34
        },
        "outputId": "4c1bd05f-d54d-4481-a8a1-dc53ee41f776"
      },
      "source": [
        "# R2\n",
        "from sklearn.metrics import r2_score\n",
        "y_true = [1, 2, 3]\n",
        "y_pred = [1, 2, 3]\n",
        "r2_score(y_true, y_pred)"
      ],
      "execution_count": null,
      "outputs": [
        {
          "output_type": "execute_result",
          "data": {
            "text/plain": [
              "1.0"
            ]
          },
          "metadata": {
            "tags": []
          },
          "execution_count": 19
        }
      ]
    },
    {
      "cell_type": "markdown",
      "metadata": {
        "colab_type": "text",
        "id": "i3NmNuLfsIiW"
      },
      "source": [
        "\n",
        "\n",
        "---\n",
        "\n",
        "\n",
        "\n",
        "---\n",
        "\n"
      ]
    },
    {
      "cell_type": "markdown",
      "metadata": {
        "colab_type": "text",
        "id": "b39WLSa5sIiW"
      },
      "source": [
        "$\\text{MSE}(y, \\hat{y}) = \\frac{1}{n_\\text{samples}} \\sum_{i=0}^{n_\\text{samples} - 1} (y_i - \\hat{y}_i)^2.$"
      ]
    },
    {
      "cell_type": "code",
      "metadata": {
        "id": "bBqgD3yRkYmb",
        "colab_type": "code",
        "colab": {
          "base_uri": "https://localhost:8080/",
          "height": 34
        },
        "outputId": "be777118-8fde-495d-c857-837cbf017b58"
      },
      "source": [
        "# MSE\n",
        "from sklearn.metrics import mean_squared_error\n",
        "y_true = [[0.5, 1],[-1, 1],[7, -6]]\n",
        "y_pred = [[0, 2],[-1, 2],[8, -5]]\n",
        "mean_squared_error(y_true, y_pred)"
      ],
      "execution_count": null,
      "outputs": [
        {
          "output_type": "execute_result",
          "data": {
            "text/plain": [
              "0.7083333333333334"
            ]
          },
          "metadata": {
            "tags": []
          },
          "execution_count": 20
        }
      ]
    },
    {
      "cell_type": "markdown",
      "metadata": {
        "colab_type": "text",
        "id": "AKGXxuwjsIiZ"
      },
      "source": [
        "\n",
        "\n",
        "---\n",
        "\n",
        "\n",
        "\n",
        "---\n",
        "\n"
      ]
    },
    {
      "cell_type": "markdown",
      "metadata": {
        "colab_type": "text",
        "id": "eJT6B-HfsIiZ"
      },
      "source": [
        "$\\text{MAE}(y, \\hat{y}) = \\frac{1}{n_{\\text{samples}}} \\sum_{i=0}^{n_{\\text{samples}}-1} \\left| y_i - \\hat{y}_i \\right|.$"
      ]
    },
    {
      "cell_type": "code",
      "metadata": {
        "id": "z2JsswIxksMP",
        "colab_type": "code",
        "colab": {
          "base_uri": "https://localhost:8080/",
          "height": 34
        },
        "outputId": "c8c8c056-5cfd-4b75-b78e-ec04ced05ff4"
      },
      "source": [
        "# MAE\n",
        "from sklearn.metrics import mean_absolute_error\n",
        "y_true = [3, -0.5, 2, 7]\n",
        "y_pred = [2.5, 0.0, 2, 8]\n",
        "mean_absolute_error(y_true, y_pred)"
      ],
      "execution_count": null,
      "outputs": [
        {
          "output_type": "execute_result",
          "data": {
            "text/plain": [
              "0.5"
            ]
          },
          "metadata": {
            "tags": []
          },
          "execution_count": 21
        }
      ]
    },
    {
      "cell_type": "markdown",
      "metadata": {
        "id": "-SnqS52xIKQO",
        "colab_type": "text"
      },
      "source": [
        "> **Sobre o uso das métricas:**\n",
        "\n",
        "\n",
        "Lembre-se que um **problema** de aprendizado de máquinas é geralmente reduzido a um problema de **otimização** (i.e maximizar ou minimizar uma função). \n",
        "\n",
        "\n",
        "Podemos definir a função objetivo como uma função que tem (gradiente) e segunda (hessiana) derivada, enquanto uma métrica não precisa ser diferenciável. **Precisamos que a função objetivo seja diferenciável**, então algoritmos como descida gradiente e até redes neurais (backpropagation) podem ser treinados. \n",
        "\n",
        "\n",
        "Das três métricas citadas acima, **apenas o MSE é diferenciável** ​​(existem algumas funções proxy para algumas métricas, como MAE, que podem ser usadas como um objetivo) e **o resto** só pode ser usado como métricas, **para fins de comparação** de modelos.\n",
        "\n"
      ]
    },
    {
      "cell_type": "markdown",
      "metadata": {
        "colab_type": "text",
        "id": "7BFp9EqaSYio"
      },
      "source": [
        "\n",
        "\n",
        "---\n",
        "\n",
        "\n",
        "\n",
        "---\n",
        "\n"
      ]
    },
    {
      "cell_type": "markdown",
      "metadata": {
        "colab_type": "text",
        "id": "lOErLFIJByFA"
      },
      "source": [
        "> **Intepretação dos modelos (análise dos resíduos)**"
      ]
    },
    {
      "cell_type": "markdown",
      "metadata": {
        "id": "GPhnXwjfNGin",
        "colab_type": "text"
      },
      "source": [
        "O métodos dos **mínimos quadrados** pressupõe que o resíduo $e(t) = y(t) − y_{pred}(t)$ tem **distribuição normal, média nula e variância constante**. Esta hipótese implica implicitamente que **processo é estacionário**, ou seja, que as características estatísticas do processo se mantêm estáveis."
      ]
    },
    {
      "cell_type": "markdown",
      "metadata": {
        "id": "R_HeFNkGQ_GO",
        "colab_type": "text"
      },
      "source": [
        "![picture](https://github.com/nicholasrichers/regressao-neuron/blob/master/img/analise_residuos.png?raw=true)\n",
        "\n",
        "[Fonte](https://ensinandomaquinasblog.wordpress.com/)"
      ]
    },
    {
      "cell_type": "markdown",
      "metadata": {
        "id": "RrxiA9hoS9Oj",
        "colab_type": "text"
      },
      "source": [
        "Agora vamos observar a distribuição da **densidade** dos erros dos 3 modelos que desenvolvemos até aqui."
      ]
    },
    {
      "cell_type": "code",
      "metadata": {
        "id": "-1rLdPg8Clyq",
        "colab_type": "code",
        "colab": {}
      },
      "source": [
        "#resíduo Regressão simples\n",
        "resid_simples = preds_regr_simples.ravel() - y_test\n",
        "\n",
        "#resíduo OLS\n",
        "resid_ols = preds_ols_sklearn - y_test\n",
        "\n",
        "#resíduo SGD\n",
        "resid_sgd = preds_sdg_scaled - y_test\n",
        "\n",
        "\n",
        "#salvando esses resultdos numa lista iterável\n",
        "resids = [resid_simples, resid_ols, resid_sgd]"
      ],
      "execution_count": null,
      "outputs": []
    },
    {
      "cell_type": "markdown",
      "metadata": {
        "id": "mR0KJcIxyXsm",
        "colab_type": "text"
      },
      "source": [
        "Perceba que a premissa que onde **média dos resíduos é zero**, tende a ser **menos provável** a medida que a **dimensionalidade** do dataset **aumenta**, dessa forma, perceba que o modelo linear simples possui um aspecto mais próximo a normal, mesmo sendo um modelo inferior em relação ao $R^{2}$."
      ]
    },
    {
      "cell_type": "code",
      "metadata": {
        "id": "OrBXc_y0dsci",
        "colab_type": "code",
        "colab": {
          "base_uri": "https://localhost:8080/",
          "height": 394
        },
        "outputId": "576d9a68-a124-4622-ecb0-8955b3e542d2"
      },
      "source": [
        "import scipy.stats as stats\n",
        "\n",
        "legend = [\"Linear Simples\", \"OLS\", \"SGD\"]\n",
        "\n",
        "#criando a imagem\n",
        "fig, axes = plt.subplots(1, 3, sharey=True, figsize=(18,6))\n",
        "for i, res in enumerate(resids):\n",
        "\n",
        "  #Histograma de densidade\n",
        "  sns.distplot(res, bins=21, norm_hist=True, kde=False, ax=axes[i])\n",
        "\n",
        "  #Distribuião normal com média nula e std constante\n",
        "  mu, sigma = 0, res.std()\n",
        "\n",
        "  #plotando a normal\n",
        "  x = np.linspace(mu - 3*sigma, mu + 3*sigma, 100)\n",
        "  axes[i].legend([legend[i]], loc = 'upper left', fontsize=16)\n",
        "  axes[i].plot(x, stats.norm.pdf(x, mu, sigma), color = \"green\")\n",
        "\n",
        "\n",
        "plt.show()"
      ],
      "execution_count": null,
      "outputs": [
        {
          "output_type": "display_data",
          "data": {
            "image/png": "[encoded data removed]",
            "text/plain": [
              "<Figure size 1296x432 with 3 Axes>"
            ]
          },
          "metadata": {
            "tags": []
          }
        }
      ]
    },
    {
      "cell_type": "markdown",
      "metadata": {
        "id": "rQXuUE-Bo_gi",
        "colab_type": "text"
      },
      "source": [
        "> Como melhorar?\n",
        "\n",
        "- **Transformaçoes** nos dados (MinMax & StandardScaler)\n",
        "- Busca de **hiperparâmetros**\n",
        "- Remoção de **Outliers**\n",
        "- Remoção de variáveis muito **correlacionadas**"
      ]
    },
    {
      "cell_type": "markdown",
      "metadata": {
        "id": "kQahBgEWk6LH",
        "colab_type": "text"
      },
      "source": [
        "\n",
        "\n",
        "---\n",
        "\n",
        "\n",
        "\n",
        "---\n",
        "\n"
      ]
    },
    {
      "cell_type": "markdown",
      "metadata": {
        "id": "cPr8xe1Au9wG",
        "colab_type": "text"
      },
      "source": [
        "## Regressão Polinomial"
      ]
    },
    {
      "cell_type": "markdown",
      "metadata": {
        "id": "QOkjzkS4xd8-",
        "colab_type": "text"
      },
      "source": [
        "Outra presunção forte da regressão linear é considerar uma **relação linear** das variáveis de entrada e saída."
      ]
    },
    {
      "cell_type": "code",
      "metadata": {
        "id": "fuosfGdfA4xZ",
        "colab_type": "code",
        "colab": {}
      },
      "source": [
        "#selecionei 5 colunas para facilitar a visualização\n",
        "cols = [\"rm\", \"age\", \"tax\" , \"lstat\", \"medv\"]"
      ],
      "execution_count": 25,
      "outputs": []
    },
    {
      "cell_type": "code",
      "metadata": {
        "id": "AVTT5N64u--N",
        "colab_type": "code",
        "colab": {
          "base_uri": "https://localhost:8080/",
          "height": 944
        },
        "outputId": "99722d9e-1029-4e1b-9de3-0b1eb3b767af"
      },
      "source": [
        "sns.pairplot(df[cols], corner=True, kind=\"reg\") "
      ],
      "execution_count": 26,
      "outputs": [
        {
          "output_type": "execute_result",
          "data": {
            "text/plain": [
              "<seaborn.axisgrid.PairGrid at 0x7f38d92827b8>"
            ]
          },
          "metadata": {
            "tags": []
          },
          "execution_count": 26
        },
        {
          "output_type": "display_data",
          "data": {
            "image/png": "[encoded data removed]",
            "text/plain": [
              "<Figure size 900x900 with 20 Axes>"
            ]
          },
          "metadata": {
            "tags": []
          }
        }
      ]
    },
    {
      "cell_type": "markdown",
      "metadata": {
        "id": "CsR4lOlyEWUA",
        "colab_type": "text"
      },
      "source": [
        "Podemos ver na última linha do `pairplot`, que essa hipótese **não é verdadeira para todas as features**, em especial a variável `lstat`. Além disso, é fácil supor que a adição de **mais features** ao modelo torna essa hipótese ainda **mais difícil** de se manter."
      ]
    },
    {
      "cell_type": "markdown",
      "metadata": {
        "id": "sGpbXvjgEYeT",
        "colab_type": "text"
      },
      "source": [
        "\n",
        "\n",
        "---\n",
        "\n",
        "\n",
        "\n",
        "---\n",
        "\n"
      ]
    },
    {
      "cell_type": "markdown",
      "metadata": {
        "id": "PJUA7ik2EZxn",
        "colab_type": "text"
      },
      "source": [
        "> Observe o relacionamento entre um **par de variáveis**, para **diferentes** **graus**, $y= X^1$; $y= X^3$: $y= X^{20}$.\n",
        "\n"
      ]
    },
    {
      "cell_type": "markdown",
      "metadata": {
        "id": "AlZXa2MgAU5g",
        "colab_type": "text"
      },
      "source": [
        "![picture](https://miro.medium.com/max/700/1*zOl_ztYqnzyWRkBffeOsRQ.png)\n",
        "\n",
        "\n",
        "\n",
        "\n",
        "Obs: Os **modelos** acima ainda são considerados **lineares**, porque os **coeficientes**  associados as features ainda são **lineares**, mesmo que a curva que estamos ajustando for quadrática por natureza."
      ]
    },
    {
      "cell_type": "markdown",
      "metadata": {
        "id": "BzQDA81BHvvZ",
        "colab_type": "text"
      },
      "source": [
        "\n",
        "\n",
        "---\n",
        "\n",
        "\n",
        "\n",
        "---\n",
        "\n"
      ]
    },
    {
      "cell_type": "markdown",
      "metadata": {
        "id": "uysHldpNDbCt",
        "colab_type": "text"
      },
      "source": [
        "> Agora, vamos criar um modelo **polinomial** com a ajuda do [sklearn](https://scikit-learn.org/stable/modules/linear_model.html#polynomial-regression-extending-linear-models-with-basis-functions). Imagine uma matriz ($P$) de features com **duas colunas** ($x_{1}$ e $x_{2}$) de entrada e apenas **3 registros**."
      ]
    },
    {
      "cell_type": "code",
      "metadata": {
        "id": "dvVIsiRMHot9",
        "colab_type": "code",
        "colab": {
          "base_uri": "https://localhost:8080/",
          "height": 68
        },
        "outputId": "3e796d72-fc13-42c9-a59a-31427ac4206d"
      },
      "source": [
        "P = np.arange(6).reshape(3, 2)\n",
        "P"
      ],
      "execution_count": 27,
      "outputs": [
        {
          "output_type": "execute_result",
          "data": {
            "text/plain": [
              "array([[0, 1],\n",
              "       [2, 3],\n",
              "       [4, 5]])"
            ]
          },
          "metadata": {
            "tags": []
          },
          "execution_count": 27
        }
      ]
    },
    {
      "cell_type": "markdown",
      "metadata": {
        "id": "dJ0XCycyJfTD",
        "colab_type": "text"
      },
      "source": [
        "As features ($x_{1}$ e $x_{2}$) de $P$, foram **transformadas** para a forma:\n",
        "\n",
        "($x_{1}$ e $x_{2}$) $->$ ($1, x_{1}, x_{2}, x_{1}^{2}, x_{1}x_{2}, x_{2}^{2}$)"
      ]
    },
    {
      "cell_type": "code",
      "metadata": {
        "id": "W9gwJ8BoG72q",
        "colab_type": "code",
        "colab": {
          "base_uri": "https://localhost:8080/",
          "height": 68
        },
        "outputId": "54442316-17cf-47a9-eda4-a9f568d05224"
      },
      "source": [
        "from sklearn.preprocessing import PolynomialFeatures\n",
        "\n",
        "poly = PolynomialFeatures(degree=2)\n",
        "poly.fit_transform(P)"
      ],
      "execution_count": 28,
      "outputs": [
        {
          "output_type": "execute_result",
          "data": {
            "text/plain": [
              "array([[ 1.,  0.,  1.,  0.,  0.,  1.],\n",
              "       [ 1.,  2.,  3.,  4.,  6.,  9.],\n",
              "       [ 1.,  4.,  5., 16., 20., 25.]])"
            ]
          },
          "metadata": {
            "tags": []
          },
          "execution_count": 28
        }
      ]
    },
    {
      "cell_type": "markdown",
      "metadata": {
        "id": "aTO9s65BNxwc",
        "colab_type": "text"
      },
      "source": [
        "Vamos **repetir** esse mesmo **procedimento** para os dados de **treino e teste**, do nosso conjunto de dados de imóveis. Note que criamos uma função para facilitar a repetição do procedimento para diferentes `degrees`."
      ]
    },
    {
      "cell_type": "code",
      "metadata": {
        "id": "ZNLlzO5mylpa",
        "colab_type": "code",
        "colab": {}
      },
      "source": [
        "from sklearn.preprocessing import PolynomialFeatures\n",
        "\n",
        "def create_polynomial_regression_model(degree, get_data=False):\n",
        "  \"Creates a polynomial regression model for the given degree\"\n",
        "  \n",
        "  poly_features = PolynomialFeatures(degree=degree)\n",
        "  \n",
        "  # transforms the existing features to higher degree features.\n",
        "  X_train_poly = poly_features.fit_transform(X_train)\n",
        "  X_test_poly = poly_features.fit_transform(X_test)\n",
        "\n",
        "  #return my poly_data\n",
        "  if get_data==True: return X_train_poly, X_test_poly\n",
        "  \n",
        "  # fit the transformed features to Linear Regression\n",
        "  poly_model = LinearRegression()\n",
        "  poly_model.fit(X_train_poly, y_train)\n",
        "  \n",
        "  # predicting on training data-set\n",
        "  y_train_predicted = poly_model.predict(X_train_poly)\n",
        "  \n",
        "  # predicting on test data-set\n",
        "  y_test_predict = poly_model.predict(X_test_poly)\n",
        "\n",
        "  #salvando nossas predicoes\n",
        "  preds_sdg_sklearn = reg_sgd.predict(X_test)\n",
        "    \n",
        "  # evaluating the model on training dataset\n",
        "  mse_train = mean_squared_error(y_train, y_train_predicted)\n",
        "  r2_train = r2_score(y_train, y_train_predicted)\n",
        "  \n",
        "  # evaluating the model on test dataset\n",
        "  mse_test = mean_squared_error(y_test, y_test_predict)\n",
        "  r2_test = r2_score(y_test, y_test_predict)\n",
        "  \n",
        "  print(\"The model performance for the training set\")\n",
        "  print(\"-------------------------------------------\")\n",
        "  print(\"MSE of training set is {:.3f}\".format(mse_train))\n",
        "  print(\"R2 score of training set is {:.3f}\".format(r2_train))\n",
        "  \n",
        "  print(\"\\n\")\n",
        "  \n",
        "  print(\"The model performance for the test set\")\n",
        "  print(\"-------------------------------------------\")\n",
        "  print(\"MSE of test set is {:.3f}\".format(mse_test))\n",
        "  print(\"R2 score of test set is {:.3f}\".format(r2_test))"
      ],
      "execution_count": 29,
      "outputs": []
    },
    {
      "cell_type": "markdown",
      "metadata": {
        "id": "VY3UJ2S-PCNh",
        "colab_type": "text"
      },
      "source": [
        "> `degree=1`: Chegamos a um resultado **similar** ao que criamos anteriormente, percerba que há uma pequena perda de performance, do treino, para o teste, como o esperado."
      ]
    },
    {
      "cell_type": "code",
      "metadata": {
        "id": "AqZQGcxVFR2C",
        "colab_type": "code",
        "colab": {
          "base_uri": "https://localhost:8080/",
          "height": 187
        },
        "outputId": "df2ded20-88a3-41e5-d618-ba8d2a42c81b"
      },
      "source": [
        "create_polynomial_regression_model(1)"
      ],
      "execution_count": 30,
      "outputs": [
        {
          "output_type": "stream",
          "text": [
            "The model performance for the training set\n",
            "-------------------------------------------\n",
            "MSE of training set is 24.279\n",
            "R2 score of training set is 0.735\n",
            "\n",
            "\n",
            "The model performance for the test set\n",
            "-------------------------------------------\n",
            "MSE of test set is 17.010\n",
            "R2 score of test set is 0.744\n"
          ],
          "name": "stdout"
        }
      ]
    },
    {
      "cell_type": "markdown",
      "metadata": {
        "id": "EqosFZO6PebF",
        "colab_type": "text"
      },
      "source": [
        "> `degree=2`: Houve um signigicativo **ganho de performance** em relação ao anterior, tanto para o treino, como para o teste. Contudo, perceba que a diferença entre treino e teste aumentou um pouco em relação a `degree=1`."
      ]
    },
    {
      "cell_type": "code",
      "metadata": {
        "id": "qUibYT0lFSJj",
        "colab_type": "code",
        "colab": {
          "base_uri": "https://localhost:8080/",
          "height": 187
        },
        "outputId": "8ef19de1-d960-4fb6-cca1-0de16bb08679"
      },
      "source": [
        "create_polynomial_regression_model(2)"
      ],
      "execution_count": 31,
      "outputs": [
        {
          "output_type": "stream",
          "text": [
            "The model performance for the training set\n",
            "-------------------------------------------\n",
            "MSE of training set is 36.226\n",
            "R2 score of training set is 0.605\n",
            "\n",
            "\n",
            "The model performance for the test set\n",
            "-------------------------------------------\n",
            "MSE of test set is 137.905\n",
            "R2 score of test set is -1.076\n"
          ],
          "name": "stdout"
        }
      ]
    },
    {
      "cell_type": "markdown",
      "metadata": {
        "id": "VCoNmmvuP4Du",
        "colab_type": "text"
      },
      "source": [
        "> `degree=3`: As métricas `RMSE=0` e `R2=1`, indicam que o modelo **acertou** o valor de todo o conjunto de **treino**, contudo, teve uma performance **terrível** para o conjunto de **teste**, o que indica que o nosso modelo não conseguiu generalizar o problema e de alguma forma \"**decorou**\" o conjunto de treino e não consegue acertar no conjunto de teste. Isso significa o mesmo que **overfiting**."
      ]
    },
    {
      "cell_type": "code",
      "metadata": {
        "id": "zI-wczzBFRnL",
        "colab_type": "code",
        "colab": {
          "base_uri": "https://localhost:8080/",
          "height": 187
        },
        "outputId": "c4502e74-efe9-4df1-cfbf-a463b5601256"
      },
      "source": [
        "create_polynomial_regression_model(3)"
      ],
      "execution_count": 32,
      "outputs": [
        {
          "output_type": "stream",
          "text": [
            "The model performance for the training set\n",
            "-------------------------------------------\n",
            "MSE of training set is 0.000\n",
            "R2 score of training set is 1.000\n",
            "\n",
            "\n",
            "The model performance for the test set\n",
            "-------------------------------------------\n",
            "MSE of test set is 159407.984\n",
            "R2 score of test set is -2399.110\n"
          ],
          "name": "stdout"
        }
      ]
    },
    {
      "cell_type": "markdown",
      "metadata": {
        "id": "eeW5A0HXQ798",
        "colab_type": "text"
      },
      "source": [
        "\n",
        "\n",
        "---\n",
        "\n",
        "\n",
        "\n",
        "---\n",
        "\n"
      ]
    },
    {
      "cell_type": "markdown",
      "metadata": {
        "id": "c9_dMYqkQ-TI",
        "colab_type": "text"
      },
      "source": [
        "## Bias & Variancia"
      ]
    },
    {
      "cell_type": "markdown",
      "metadata": {
        "id": "o6KV8iDThKu6",
        "colab_type": "text"
      },
      "source": [
        "Relacionane a **legenda** da primeira imagem com a segunda."
      ]
    },
    {
      "cell_type": "markdown",
      "metadata": {
        "id": "0-6cvPExQ-B-",
        "colab_type": "text"
      },
      "source": [
        "![picture](https://miro.medium.com/max/700/1*zOl_ztYqnzyWRkBffeOsRQ.png)\n",
        "\n",
        "![picture](https://qph.fs.quoracdn.net/main-qimg-ed02a43e7c32e81171ba5f7eecb06334)"
      ]
    },
    {
      "cell_type": "markdown",
      "metadata": {
        "id": "EoRZWqQIbUek",
        "colab_type": "text"
      },
      "source": [
        "> Como calcular o **Bias e a Variância**\n",
        "\n",
        "A formula da estimativa do erro em função do viés e da variância pode ser obtida dessa forma.\n",
        "\n",
        "$(1) Erro(x) = (Y - fhat(x))$\n",
        "\n",
        "$(2) Erro(x) = E[(Y - fhat(x))^{2}]$\n",
        "\n",
        "$(3) Erro(x) = E[fhat(x) - f(x)]^{2} + E[fhat(x) - E(fhat(x))^{2}] + \\sigma^{2}$\n",
        "\n",
        "$(4) Erro(x) = Bias^{2} + Variancia + Ruido $"
      ]
    },
    {
      "cell_type": "markdown",
      "metadata": {
        "id": "Y90eYGG3j12f",
        "colab_type": "text"
      },
      "source": [
        "Felizmente, não precisamos realizar esse cálculo manualmente, podemos usar a função [bias_variance_decomp](http://rasbt.github.io/mlxtend/user_guide/evaluate/bias_variance_decomp/) da biblioteca MLxtend."
      ]
    },
    {
      "cell_type": "code",
      "metadata": {
        "id": "gSnK7qcOyllu",
        "colab_type": "code",
        "colab": {}
      },
      "source": [
        "# estimate the bias and variance for a regression model\n",
        "from mlxtend.evaluate import bias_variance_decomp\n",
        "import re\n",
        "\n",
        "def bias_variance(model, X_train, X_test, y_train, y_test):\n",
        "\n",
        "  # Nome do modelo\n",
        "  name = re.findall(\"^.{0,10}\", str(model))[0]\n",
        "\n",
        "  # estima bias and variance (MLxtend nao aceita pandas dataframe) \n",
        "  mse, bias, var = bias_variance_decomp(model, \n",
        "                                        X_train, \n",
        "                                        y_train, \n",
        "                                        X_test, \n",
        "                                        y_test, \n",
        "                                        loss='mse', \n",
        "                                        num_rounds=200, \n",
        "                                        random_seed=42)\n",
        "\n",
        "  \n",
        "  # summarize results\n",
        "  print('Model Name: ', name)\n",
        "  print('MSE: %.3f' % mse)\n",
        "  print('Bias: %.3f' % bias)\n",
        "  print('Variance: %.3f' % var)"
      ],
      "execution_count": 33,
      "outputs": []
    },
    {
      "cell_type": "markdown",
      "metadata": {
        "id": "3l2k_XR5kGKp",
        "colab_type": "text"
      },
      "source": [
        "> `degree=1`: Alto bias e baixa variância."
      ]
    },
    {
      "cell_type": "code",
      "metadata": {
        "id": "TDk8efM0RIiC",
        "colab_type": "code",
        "colab": {
          "base_uri": "https://localhost:8080/",
          "height": 85
        },
        "outputId": "a667e673-1897-4140-84e4-d3756b8e1977"
      },
      "source": [
        "#transformando a matriz de features em uma funcao polinomial\n",
        "X_train_poly, X_test_poly = create_polynomial_regression_model(1, get_data=True)\n",
        "\n",
        "#modelo que iremos usar\n",
        "model= LinearRegression()\n",
        "\n",
        "#calculando o bias e a variância\n",
        "bias_variance(model, X_train_poly, X_test_poly,  y_train.values, y_test.values)"
      ],
      "execution_count": 34,
      "outputs": [
        {
          "output_type": "stream",
          "text": [
            "Model Name:  LinearRegr\n",
            "MSE: 18.008\n",
            "Bias: 16.251\n",
            "Variance: 1.756\n"
          ],
          "name": "stdout"
        }
      ]
    },
    {
      "cell_type": "markdown",
      "metadata": {
        "id": "GYtyA_wkkQyY",
        "colab_type": "text"
      },
      "source": [
        "> `degree=2`: Diminuiu o bias e aumentou variância."
      ]
    },
    {
      "cell_type": "code",
      "metadata": {
        "id": "BYXt2rn2_et1",
        "colab_type": "code",
        "colab": {
          "base_uri": "https://localhost:8080/",
          "height": 85
        },
        "outputId": "30eee7c6-2c1f-4b6d-cafd-17a4d57d5129"
      },
      "source": [
        "#transformando a matriz de features em uma funcao polinomial\n",
        "X_train_poly, X_test_poly = create_polynomial_regression_model(2, get_data=True)\n",
        "\n",
        "#calculando o bias e a variância\n",
        "bias_variance(model, X_train_poly, X_test_poly,  y_train.values, y_test.values)"
      ],
      "execution_count": 35,
      "outputs": [
        {
          "output_type": "stream",
          "text": [
            "Model Name:  LinearRegr\n",
            "MSE: 328.333\n",
            "Bias: 15.493\n",
            "Variance: 312.840\n"
          ],
          "name": "stdout"
        }
      ]
    },
    {
      "cell_type": "markdown",
      "metadata": {
        "id": "V5bP9UuxkWRl",
        "colab_type": "text"
      },
      "source": [
        "> `degree=3`: Bias e variância muito altos."
      ]
    },
    {
      "cell_type": "code",
      "metadata": {
        "id": "gv0mjdNwS9bv",
        "colab_type": "code",
        "colab": {
          "base_uri": "https://localhost:8080/",
          "height": 85
        },
        "outputId": "bf90a630-411b-479f-931d-70dc3f914e9c"
      },
      "source": [
        "#transformando a matriz de features em uma funcao polinomial\n",
        "X_train_poly, X_test_poly = create_polynomial_regression_model(3, get_data=True)\n",
        "\n",
        "\n",
        "#calculando o bias e a variância\n",
        "bias_variance(model, X_train_poly, X_test_poly,  y_train.values, y_test.values)"
      ],
      "execution_count": 36,
      "outputs": [
        {
          "output_type": "stream",
          "text": [
            "Model Name:  LinearRegr\n",
            "MSE: 89584.127\n",
            "Bias: 5767.472\n",
            "Variance: 83816.655\n"
          ],
          "name": "stdout"
        }
      ]
    },
    {
      "cell_type": "markdown",
      "metadata": {
        "id": "Hdn2Fx9Ykf3O",
        "colab_type": "text"
      },
      "source": [
        "Obs: Lembre que os **valores** obtidos acima foram para o conjunto de **dados de teste**."
      ]
    },
    {
      "cell_type": "markdown",
      "metadata": {
        "id": "_kmkK4qQkn09",
        "colab_type": "text"
      },
      "source": [
        "\n",
        "\n",
        "---\n",
        "\n",
        "\n",
        "\n",
        "---\n",
        "\n"
      ]
    },
    {
      "cell_type": "markdown",
      "metadata": {
        "id": "olwe6yJokwbB",
        "colab_type": "text"
      },
      "source": [
        "## Regularização"
      ]
    },
    {
      "cell_type": "markdown",
      "metadata": {
        "id": "vpQB4Hsdk1aO",
        "colab_type": "text"
      },
      "source": [
        "A partir do experimento acima podemos perceber que há um **tradeoff** entre o **erro** e a **complexidade** **do modelo**."
      ]
    },
    {
      "cell_type": "markdown",
      "metadata": {
        "id": "iazE891Ba0FM",
        "colab_type": "text"
      },
      "source": [
        "> **Bias & Variance Tradeoff**"
      ]
    },
    {
      "cell_type": "markdown",
      "metadata": {
        "id": "tY37tVa1YNep",
        "colab_type": "text"
      },
      "source": [
        "![picture](https://miro.medium.com/max/492/1*kADA5Q4al9DRLoXck6_6Xw.png)"
      ]
    },
    {
      "cell_type": "markdown",
      "metadata": {
        "id": "_lmZGKatweIe",
        "colab_type": "text"
      },
      "source": [
        "> Uma maneira eficiente de **controlarmos** a **complexidade** do modelo, e ainda **reduzirmos o Bias**, é através da **regularização**.\n",
        "\n",
        "Voltando ao exemplo onde:\n",
        "($x_{1}$ e $x_{2}$) $->$ ($1, x_{1}, x_{2}, x_{1}^{2}, x_{1}x_{2}, x_{2}^{2}$)\n",
        "\n",
        "Para  o caso onde em $x_{1}$ observássemos um relacionamento **quadrático** com o alvo e em $x_{2}$ um relacionamento **linear**, a melhor função que mapearia os nossos dados seria do tipo ($1, x_{2}, x_{1}^{2}$). Contudo esse tipo de inferência, além de **pouco prática** e propensa a overfiting, incorre em problemas como [data snooping](https://work.caltech.edu/library/173.html). Uma vez que é necessário \"bisbilhotar\" os dados e passar essa informação direto pro modelo.\n"
      ]
    },
    {
      "cell_type": "markdown",
      "metadata": {
        "id": "RtwOYp26zBhQ",
        "colab_type": "text"
      },
      "source": [
        "\n",
        "\n",
        "---\n",
        "\n",
        "\n",
        "\n",
        "---\n",
        "\n"
      ]
    },
    {
      "cell_type": "markdown",
      "metadata": {
        "id": "0RGQelPZ4ZeF",
        "colab_type": "text"
      },
      "source": [
        "> **Modelos lineares com regularização**\n",
        "\n",
        "\n",
        "A maneira correta de controlarmos a complexidade do modelo é através da **regularização**, que a grosso modo **penaliza** os **maiores** **coeficientes**. A seção de [modelos lineares](https://scikit-learn.org/stable/modules/linear_model.html#) da documentação do sklearn, é uma excelente fonte para entender o funcionamento dos modelos e obter alguns exemplos."
      ]
    },
    {
      "cell_type": "markdown",
      "metadata": {
        "id": "fiNQaQb79Q2q",
        "colab_type": "text"
      },
      "source": [
        "> Formalizando **regressao linear (OLS)**, temos:\n",
        "\n",
        "$\\min_{w} || X w - y||_2^2$\n",
        "\n",
        "Onde $w = (w_1, ..., w_p)$, são os nossos **coeficientes**, que minimizam a soma do quadrado dos residuos. \n",
        "\n",
        "\n",
        "$|| X w - y||_2$ é a [l2-norm](https://medium.com/@montjoile/l0-norm-l1-norm-l2-norm-l-infinity-norm-7a7d18a4f40c) do vetor resultante.\n",
        "\n",
        "ou\n",
        "\n",
        "$sqrt(|a|^{2} + |b|^{2} + |c|^{2} + ...)$\n",
        "\n",
        "\n"
      ]
    },
    {
      "cell_type": "markdown",
      "metadata": {
        "id": "ftVmkbxgO5wg",
        "colab_type": "text"
      },
      "source": [
        "> Vamos criar uma função para repetirmos esse procedimento para os diversos modelos. Note que a única coisa que precisamos mudar na chamada da função é o próprio modelo."
      ]
    },
    {
      "cell_type": "code",
      "metadata": {
        "id": "R460B6Jh_Nn5",
        "colab_type": "code",
        "colab": {}
      },
      "source": [
        "def train_linear_model(model, X_train, X_test,  y_train, y_test, print_coef=True):\n",
        "\n",
        "  \n",
        "  #calculando o bias e a variância\n",
        "  bias_variance(model, X_train, X_test,  y_train, y_test) \n",
        "\n",
        "  #não printar com notação científica\n",
        "  np.set_printoptions(suppress=True)\n",
        "\n",
        "\n",
        "  #treinando e avaliando o modelo (R^2)\n",
        "  model.fit(X_train, y_train)\n",
        "  print(\"R2: {:.3f}\".format(model.score(X_test, y_test)))\n",
        "  #print(\"MSE: {}\".format(mean_squared_error(y_test, model.predict(X_test))))\n",
        "\n",
        "  #Coeficientes\n",
        "  if print_coef==True:  \n",
        "    print(\"---------------------\")\n",
        "    print(\"Intercept: {:.3f}\".format(model.intercept_))\n",
        "    print(\"Coeficientes: {}\".format(np.round(model.coef_,3)))\n",
        "    "
      ],
      "execution_count": 37,
      "outputs": []
    },
    {
      "cell_type": "code",
      "metadata": {
        "id": "Yirn4msnlG3l",
        "colab_type": "code",
        "colab": {
          "base_uri": "https://localhost:8080/",
          "height": 170
        },
        "outputId": "3b0d65ea-242e-4df1-c241-f7f755114b87"
      },
      "source": [
        "from sklearn.linear_model import LinearRegression\n",
        "\n",
        "train_linear_model(LinearRegression(), X_train.values, X_test.values,  y_train.values, y_test.values)"
      ],
      "execution_count": 38,
      "outputs": [
        {
          "output_type": "stream",
          "text": [
            "Model Name:  LinearRegr\n",
            "MSE: 18.008\n",
            "Bias: 16.251\n",
            "Variance: 1.756\n",
            "R2: 0.744\n",
            "---------------------\n",
            "Intercept: 37.833\n",
            "Coeficientes: [ -0.104   0.046   0.042   3.161 -18.394   3.841   0.002  -1.448   0.352\n",
            "  -0.014  -1.06    0.011  -0.528]\n"
          ],
          "name": "stdout"
        }
      ]
    },
    {
      "cell_type": "markdown",
      "metadata": {
        "id": "9RsqTrGB3dii",
        "colab_type": "text"
      },
      "source": [
        "\n",
        "\n",
        "---\n",
        "\n",
        "\n",
        "\n",
        "---\n",
        "\n"
      ]
    },
    {
      "cell_type": "markdown",
      "metadata": {
        "colab_type": "text",
        "id": "3qDNo5ZG3fxm"
      },
      "source": [
        "> **Ridge Regressor**\n",
        "\n",
        "\n",
        "A componente de **regularização** é uma **extensão** do método OLS. O parâmetro de regularização $\\alpha \\geq 0$ **controla a penalização**. Quanto maior o valor de $\\alpha$, maior a penalização para a complexidade, portanto os coeficientes se tornam mais **robustos à colinearidade**.\n",
        "\n",
        "\n",
        ">> $\\min_{w} || X w - y||_2^2 + \\alpha ||w||_2^2$\n",
        "\n",
        "Agora precisamos minimizar $||w||_2^2$, a soma dos valores valores absolutos dos coeficientes ao quadrado."
      ]
    },
    {
      "cell_type": "code",
      "metadata": {
        "id": "Eoouc6Rxrh__",
        "colab_type": "code",
        "colab": {
          "base_uri": "https://localhost:8080/",
          "height": 170
        },
        "outputId": "ad6c3b30-b791-4ec0-def7-6291db6c54f0"
      },
      "source": [
        "from sklearn.linear_model import Ridge\n",
        "\n",
        "train_linear_model(Ridge(), X_train.values, X_test.values,  y_train.values, y_test.values)"
      ],
      "execution_count": 39,
      "outputs": [
        {
          "output_type": "stream",
          "text": [
            "Model Name:  Ridge()\n",
            "MSE: 18.015\n",
            "Bias: 16.339\n",
            "Variance: 1.676\n",
            "R2: 0.743\n",
            "---------------------\n",
            "Intercept: 31.224\n",
            "Coeficientes: [-0.105  0.048  0.005  2.941 -9.693  3.948 -0.006 -1.327  0.339 -0.015\n",
            " -0.954  0.012 -0.531]\n"
          ],
          "name": "stdout"
        }
      ]
    },
    {
      "cell_type": "markdown",
      "metadata": {
        "colab_type": "text",
        "id": "C2p5ei6G3fxo"
      },
      "source": [
        "Obs: Perceba que usando o sklearn, a única variável que precisamos alterar é o próprio modelo."
      ]
    },
    {
      "cell_type": "markdown",
      "metadata": {
        "id": "J6GuVw9v5DPM",
        "colab_type": "text"
      },
      "source": [
        "\n",
        "\n",
        "---\n",
        "\n",
        "\n",
        "\n",
        "---\n",
        "\n"
      ]
    },
    {
      "cell_type": "markdown",
      "metadata": {
        "colab_type": "text",
        "id": "ZySEeMMz5Pj2"
      },
      "source": [
        "> **Lasso Regression**\n",
        "\n",
        "Modifica o modelos OLS, porém utiliza a [l1-Norm](https://medium.com/@montjoile/l0-norm-l1-norm-l2-norm-l-infinity-norm-7a7d18a4f40c) ou $(|a| + |b| + |c| + ...)$.\n",
        "\n",
        "\n",
        "\n",
        ">>$\\min_{w} { \\frac{1}{2n_{\\text{samples}}} ||X w - y||_2 ^ 2 + \\alpha ||w||_1}$\n",
        "\n",
        "\n",
        "O modelo Lasso tende a estimar **coeficientes esparsos**, ou sejam com poucos coeficientes diferentes de zero, o que pode ser útil na **presença de variáveis não informativas**."
      ]
    },
    {
      "cell_type": "code",
      "metadata": {
        "id": "NVqRyhJyriUF",
        "colab_type": "code",
        "colab": {
          "base_uri": "https://localhost:8080/",
          "height": 170
        },
        "outputId": "3f09e2a4-399b-4b31-a80c-db62cc271e46"
      },
      "source": [
        "from sklearn.linear_model import Lasso\n",
        "\n",
        "train_linear_model(Lasso(),  X_train.values, X_test.values,  y_train.values, y_test.values)"
      ],
      "execution_count": 40,
      "outputs": [
        {
          "output_type": "stream",
          "text": [
            "Model Name:  Lasso()\n",
            "MSE: 19.780\n",
            "Bias: 18.440\n",
            "Variance: 1.340\n",
            "R2: 0.711\n",
            "---------------------\n",
            "Intercept: 41.653\n",
            "Coeficientes: [-0.046  0.05  -0.     0.    -0.     1.124  0.022 -0.726  0.318 -0.017\n",
            " -0.799  0.01  -0.767]\n"
          ],
          "name": "stdout"
        }
      ]
    },
    {
      "cell_type": "markdown",
      "metadata": {
        "id": "-dJVQ5cx5JcW",
        "colab_type": "text"
      },
      "source": [
        "\n",
        "\n",
        "---\n",
        "\n",
        "\n",
        "\n",
        "---\n",
        "\n"
      ]
    },
    {
      "cell_type": "markdown",
      "metadata": {
        "colab_type": "text",
        "id": "QETOc0-15U3C"
      },
      "source": [
        "> **ElasticNet**\n",
        "\n",
        "\n",
        "Esse modelo é treinado usando a regularização **l1 e l2**, onde temos poucos pesos diferentes de zero, porém mantendo as propriedade de regularização do Ridge.\n",
        "\n",
        "\n",
        "\n",
        ">>$\\min_{w} { \\frac{1}{2n_{\\text{samples}}} ||X w - y||_2 ^ 2 + \\alpha \\rho ||w||_1 +\n",
        "\\frac{\\alpha(1-\\rho)}{2} ||w||_2 ^ 2}$\n",
        "\n",
        "\n",
        "O Elasticnet é útil quando há várias features correlacionadas. O modelo Lasso provavelmente escolherá um desses aleatoriamente, enquanto Elasticnet provavelmente escolherá ambos."
      ]
    },
    {
      "cell_type": "code",
      "metadata": {
        "id": "etK27FWf3EAE",
        "colab_type": "code",
        "colab": {
          "base_uri": "https://localhost:8080/",
          "height": 170
        },
        "outputId": "9b6a6302-3c98-431d-f70f-91552c7eed78"
      },
      "source": [
        "from sklearn.linear_model import ElasticNet\n",
        "\n",
        "train_linear_model(ElasticNet(),  X_train.values, X_test.values,  y_train.values, y_test.values)"
      ],
      "execution_count": 41,
      "outputs": [
        {
          "output_type": "stream",
          "text": [
            "Model Name:  ElasticNet\n",
            "MSE: 19.651\n",
            "Bias: 18.475\n",
            "Variance: 1.176\n",
            "R2: 0.710\n",
            "---------------------\n",
            "Intercept: 43.468\n",
            "Coeficientes: [-0.072  0.055 -0.     0.    -0.     0.998  0.022 -0.799  0.366 -0.019\n",
            " -0.824  0.01  -0.769]\n"
          ],
          "name": "stdout"
        }
      ]
    },
    {
      "cell_type": "markdown",
      "metadata": {
        "id": "C1kMzMg25LAs",
        "colab_type": "text"
      },
      "source": [
        "\n",
        "\n",
        "---\n",
        "\n",
        "\n",
        "\n",
        "---\n",
        "\n"
      ]
    },
    {
      "cell_type": "markdown",
      "metadata": {
        "id": "6WTXMFLfGZZn",
        "colab_type": "text"
      },
      "source": [
        "> **Otimização de hiperparâmetros**\n",
        "\n",
        "\n",
        "Agora vamos observar o comportamento do hiperparâmetro $\\alpha$, na performance dos modelos com regularização."
      ]
    },
    {
      "cell_type": "code",
      "metadata": {
        "id": "dGeoBRlK76XJ",
        "colab_type": "code",
        "colab": {
          "base_uri": "https://localhost:8080/",
          "height": 268
        },
        "outputId": "f4dd3494-83f4-45f0-a168-2c5a0827c508"
      },
      "source": [
        "#declarando um dicionário de modelos\n",
        "models=dict()\n",
        "models[\"Ridge\"] = Ridge()\n",
        "models[\"Lasso\"] = Lasso()\n",
        "models[\"ElasticNet\"] = ElasticNet()\n",
        "#models[\"LassoLars\"] = LassoLars()\n",
        "\n",
        "#uma lista com 10 valores alpha entre (0.01 e 1)\n",
        "alphas =  np.linspace(0.01,1,11)\n",
        "\n",
        "#iterando dentro dos modelos e valores de alpha\n",
        "for name, model in models.items():\n",
        "  mse=list()\n",
        "  for alpha in alphas:\n",
        "\n",
        "    #configurado o parâmetro alpha\n",
        "    model.set_params(**{'alpha': alpha})\n",
        "\n",
        "    #treinando o model\n",
        "    model.fit(X_train, y_train)\n",
        "\n",
        "    #salvando o resultado do mse\n",
        "    mse.append(mean_squared_error(y_test, model.predict(X_test)))\n",
        "\n",
        "  plt.plot(alphas, mse, label='%s' % name)\n",
        "\n",
        "plt.legend()\n",
        "plt.show()"
      ],
      "execution_count": 42,
      "outputs": [
        {
          "output_type": "display_data",
          "data": {
            "image/png": "[encoded data removed]",
            "text/plain": [
              "<Figure size 432x288 with 1 Axes>"
            ]
          },
          "metadata": {
            "tags": []
          }
        }
      ]
    },
    {
      "cell_type": "markdown",
      "metadata": {
        "id": "Lkv7Yx8nxENl",
        "colab_type": "text"
      },
      "source": [
        "\n",
        "\n",
        "---\n",
        "\n",
        "\n",
        "\n",
        "---\n",
        "\n"
      ]
    },
    {
      "cell_type": "markdown",
      "metadata": {
        "id": "hsD5OsTMgVoa",
        "colab_type": "text"
      },
      "source": [
        "### Regressao stepwise (seleção de variáveis)\n",
        "\n",
        "\n",
        "\n"
      ]
    },
    {
      "cell_type": "markdown",
      "metadata": {
        "id": "kktD6_wN5pb_",
        "colab_type": "text"
      },
      "source": [
        "Perceba que ao zerar o coeficiente de uma feature, temos o mesmo efeito de eliminar a coluna referente da matriz de features (X). Na regressão stepwise, adicionamos ou retiramos features iterativamente de maneira [gulosa](https://en.wikipedia.org/wiki/Greedy_algorithm), a fim de encontrar uma combinação de colunas sub-ótima."
      ]
    },
    {
      "cell_type": "markdown",
      "metadata": {
        "colab_type": "text",
        "id": "PB_pkt7_EJcj"
      },
      "source": [
        "> **Least Angle Regression**\n",
        "\n",
        "\n",
        "Em cada etapa, ele encontra a feature mais correlacionada ao target, ou ao resíduo do target. Em caso de haver mais de uma ele segue uma direção equiangular entre essas features.\n",
        "\n",
        "\n",
        ">> **Vantagens**:\n",
        "\n",
        "- Computacionamente eficiente\n",
        "- Robusto a multicolineariedade e alta dimensionalidade\n",
        "- Pode ser combinado a outros algoritmos (ex. LARSLasso)\n",
        "\n",
        "\n",
        "\n",
        ">> **Desvantagens:**\n",
        "\n",
        "- Por usar uma solução gulosa, na maioria dos casos teremos **resultados sub-ótimos**.\n",
        "- Como o modelo refaz o **ajuste** usando os **resíduos**, o **erro** pode **extrapolar** na presença de **ruído**.\n"
      ]
    },
    {
      "cell_type": "code",
      "metadata": {
        "id": "WXPhoZaXHM9v",
        "colab_type": "code",
        "colab": {
          "base_uri": "https://localhost:8080/",
          "height": 170
        },
        "outputId": "c85871f8-e0b8-41ce-9ad6-4048d5a5b7ef"
      },
      "source": [
        "from sklearn.linear_model import Lars\n",
        "\n",
        "train_linear_model(Lars(),  X_train.values, X_test.values,  y_train.values, y_test.values)"
      ],
      "execution_count": 43,
      "outputs": [
        {
          "output_type": "stream",
          "text": [
            "Model Name:  Lars()\n",
            "MSE: 19.084\n",
            "Bias: 16.309\n",
            "Variance: 2.775\n",
            "R2: 0.744\n",
            "---------------------\n",
            "Intercept: 37.833\n",
            "Coeficientes: [ -0.104   0.046   0.042   3.161 -18.394   3.841   0.002  -1.448   0.352\n",
            "  -0.014  -1.06    0.011  -0.528]\n"
          ],
          "name": "stdout"
        }
      ]
    },
    {
      "cell_type": "markdown",
      "metadata": {
        "id": "CkvOgJXp1lwk",
        "colab_type": "text"
      },
      "source": [
        "> Outras Maneiras\n",
        "\n",
        "- Orthogonal Matching Pursuit ([OMP](https://scikit-learn.org/stable/modules/linear_model.html#orthogonal-matching-pursuit-omp))\n",
        "- Recursive Feature Elimination ([RFE](https://scikit-learn.org/stable/modules/generated/sklearn.feature_selection.RFE.html))\n"
      ]
    },
    {
      "cell_type": "markdown",
      "metadata": {
        "id": "yxUGjLr11ofq",
        "colab_type": "text"
      },
      "source": [
        "\n",
        "\n",
        "\n",
        "---\n",
        "\n",
        "\n",
        "\n",
        "---\n",
        "\n",
        "\n",
        "\n"
      ]
    },
    {
      "cell_type": "markdown",
      "metadata": {
        "id": "NrDuk-Yd-n3I",
        "colab_type": "text"
      },
      "source": [
        "### Regressão Robusta"
      ]
    },
    {
      "cell_type": "markdown",
      "metadata": {
        "id": "DZuU1ZDoLCVp",
        "colab_type": "text"
      },
      "source": [
        "> **RANSAC (RANdom SAmple Consensus)**\n",
        "\n",
        "O algoritmo divide os dados completos da amostra de entrada em um conjunto de \"inliners\", e ajusta um modelo para um subconjunto dessas amostras repetidas vezes. Esse modelo pode ser usado em problemas não lineares.\n",
        "\n",
        "\n",
        "![picture](https://scikit-learn.org/stable/_images/sphx_glr_plot_ransac_0011.png)"
      ]
    },
    {
      "cell_type": "code",
      "metadata": {
        "id": "JRoPqipFD-t8",
        "colab_type": "code",
        "colab": {
          "base_uri": "https://localhost:8080/",
          "height": 102
        },
        "outputId": "42662471-8922-44b1-f21d-3ef82dcdeff5"
      },
      "source": [
        "from sklearn.linear_model import RANSACRegressor\n",
        "\n",
        "ransac = RANSACRegressor()\n",
        "\n",
        "#calculando o bias e a variância\n",
        "bias_variance(model, X_train.values, X_test.values,  y_train.values, y_test.values) \n",
        "\n",
        "#treinando e avaliando o modelo (R^2)\n",
        "ransac.fit(X_train, y_train)\n",
        "print(\"R2: {:.3f}\".format(ransac.score(X_test, y_test)))"
      ],
      "execution_count": 44,
      "outputs": [
        {
          "output_type": "stream",
          "text": [
            "Model Name:  ElasticNet\n",
            "MSE: 19.651\n",
            "Bias: 18.475\n",
            "Variance: 1.176\n",
            "R2: 0.694\n"
          ],
          "name": "stdout"
        }
      ]
    },
    {
      "cell_type": "markdown",
      "metadata": {
        "id": "BITIjdL6IfFl",
        "colab_type": "text"
      },
      "source": [
        "\n",
        "\n",
        "---\n",
        "\n"
      ]
    },
    {
      "cell_type": "markdown",
      "metadata": {
        "id": "310U4vnbQCYv",
        "colab_type": "text"
      },
      "source": [
        "> **Variáveis polinomiais**\n",
        "\n",
        "Agora vamos treinar os nossos modelos novamente, **transformando** a matriz de features (X), em uma **função polinomial** de grau 2. "
      ]
    },
    {
      "cell_type": "code",
      "metadata": {
        "id": "TPHMe14V8zDS",
        "colab_type": "code",
        "colab": {
          "base_uri": "https://localhost:8080/",
          "height": 255
        },
        "outputId": "d080ed3a-5f65-4ecf-ea72-80436670388d"
      },
      "source": [
        "#transformando a matriz de features em uma funcao polinomial\n",
        "X_train_poly, X_test_poly = create_polynomial_regression_model(2, get_data=True)\n",
        "\n",
        "models=dict()\n",
        "\n",
        "models[\"LinearRegression\"] = LinearRegression()\n",
        "models[\"Ridge\"] = Ridge(alpha=0.8)\n",
        "\n",
        "#Os modelos abaixo não convegem\n",
        "#models[\"Lasso\"] = Lasso()\n",
        "#models[\"ElasticNet\"] = ElasticNet()\n",
        "#models[\"Lars\"] = Lars()\n",
        "\n",
        "\n",
        "\n",
        "for model in models.values():\n",
        "  print(\"\\n####################################\")\n",
        "  train_linear_model(model, X_train_poly, X_test_poly,  y_train.values, y_test.values, print_coef=False)"
      ],
      "execution_count": 45,
      "outputs": [
        {
          "output_type": "stream",
          "text": [
            "\n",
            "####################################\n",
            "Model Name:  LinearRegr\n",
            "MSE: 328.333\n",
            "Bias: 15.493\n",
            "Variance: 312.840\n",
            "R2: -1.076\n",
            "\n",
            "####################################\n",
            "Model Name:  Ridge(alph\n",
            "MSE: 41.861\n",
            "Bias: 15.178\n",
            "Variance: 26.683\n",
            "R2: 0.764\n"
          ],
          "name": "stdout"
        }
      ]
    },
    {
      "cell_type": "markdown",
      "metadata": {
        "id": "OLopqwY6HCY7",
        "colab_type": "text"
      },
      "source": [
        "\n",
        "\n",
        "---\n",
        "\n",
        "\n",
        "\n",
        "---\n",
        "\n"
      ]
    },
    {
      "cell_type": "markdown",
      "metadata": {
        "id": "6cxOcw2eNpYd",
        "colab_type": "text"
      },
      "source": [
        "> Outros Modelos Lineares\n",
        "\n",
        "- [SVM](https://scikit-learn.org/stable/modules/svm.html#regression)\n",
        "- [Bayesian Regressor](https://scikit-learn.org/stable/modules/linear_model.html#bayesian-regression)\n",
        "- [Generalized Linear Regression](https://scikit-learn.org/stable/modules/linear_model.html#generalized-linear-regression)\n"
      ]
    },
    {
      "cell_type": "markdown",
      "metadata": {
        "id": "Qa5v_F14g58t",
        "colab_type": "text"
      },
      "source": [
        "> Critérios para escolher modelos lineares pela [documentação](https://scikit-learn.org/stable/modules/linear_model.html) do sklearn (são 17 modelos).\n",
        "\n",
        "- Dimensionalidade\n",
        "- Multicolineariedade\n",
        "- Esparsidade\n",
        "- Número de registros\n",
        "- Nivel de ruido\n",
        "- Presença de Outliers\n",
        "- Outros..."
      ]
    },
    {
      "cell_type": "markdown",
      "metadata": {
        "id": "GPG_3cA2HAlU",
        "colab_type": "text"
      },
      "source": [
        "\n",
        "\n",
        "---\n",
        "\n",
        "\n",
        "\n",
        "---\n",
        "\n"
      ]
    },
    {
      "cell_type": "markdown",
      "metadata": {
        "id": "ANEzJ-sXPHbe",
        "colab_type": "text"
      },
      "source": [
        "## Modelos de regressao não linear"
      ]
    },
    {
      "cell_type": "markdown",
      "metadata": {
        "id": "srw1BDy9bad6",
        "colab_type": "text"
      },
      "source": [
        "Voce pode encontrar uma explicação mais extensa sobre modelos de árvores na [apostila](https://github.com/nicholasrichers/regressao-neuron/blob/master/apostila_neuron.pdf) da neuron."
      ]
    },
    {
      "cell_type": "markdown",
      "metadata": {
        "id": "88WpnEXrYslZ",
        "colab_type": "text"
      },
      "source": [
        "![picture](https://miro.medium.com/max/1336/0*Mr6cB6yeOTZWFnFs.png)"
      ]
    },
    {
      "cell_type": "markdown",
      "metadata": {
        "id": "jM6D2NBbbMg0",
        "colab_type": "text"
      },
      "source": [
        "Observe como um **ensemble de árvores** cria um ajuste muito mais adequado para o relacionamento dessas 2 variáveis. Mas é necessário ter atenção com o **overfitting**."
      ]
    },
    {
      "cell_type": "markdown",
      "metadata": {
        "id": "cot06e1JZKHa",
        "colab_type": "text"
      },
      "source": [
        "![picture](https://miro.medium.com/max/691/1*Edq1ZIOo26Iqp3CuUTWotA.png)"
      ]
    },
    {
      "cell_type": "markdown",
      "metadata": {
        "id": "rW2ZvaDwbkYk",
        "colab_type": "text"
      },
      "source": [
        "> Apesar da natureza do **modelo** ser totalmente **diferente**, a forma de fazer o **ajuste** com o sklearn é **idêntica** aos modelos lineares."
      ]
    },
    {
      "cell_type": "code",
      "metadata": {
        "id": "MQk3XE0JkO5U",
        "colab_type": "code",
        "colab": {
          "base_uri": "https://localhost:8080/",
          "height": 136
        },
        "outputId": "1e68ecec-b479-4cf7-a6a7-c29069918f1f"
      },
      "source": [
        "%%time\n",
        "from sklearn.ensemble import RandomForestRegressor\n",
        "\n",
        "reg_rf = RandomForestRegressor(n_estimators=20) #O padrao é 100\n",
        "\n",
        "#calculando o bias e a variância\n",
        "bias_variance(reg_rf, X_train.values, X_test.values,  y_train.values, y_test.values) \n",
        "\n",
        "#treinando e avaliando o modelo (R^2)\n",
        "reg_rf.fit(X_train, y_train)\n",
        "print(\"R2: {:.3f}\".format(reg_rf.score(X_test, y_test)))"
      ],
      "execution_count": 46,
      "outputs": [
        {
          "output_type": "stream",
          "text": [
            "Model Name:  RandomFore\n",
            "MSE: 12.072\n",
            "Bias: 8.276\n",
            "Variance: 3.797\n",
            "R2: 0.859\n",
            "CPU times: user 11.4 s, sys: 104 ms, total: 11.5 s\n",
            "Wall time: 11.5 s\n"
          ],
          "name": "stdout"
        }
      ]
    },
    {
      "cell_type": "markdown",
      "metadata": {
        "id": "2v-ffuZFb52w",
        "colab_type": "text"
      },
      "source": [
        "**Obs: Perceba que para ambas as métricas MSE e R2, tivemos um resultado muito superior aos modelos lineares.**"
      ]
    },
    {
      "cell_type": "markdown",
      "metadata": {
        "id": "lNGG0DjhQRyR",
        "colab_type": "text"
      },
      "source": [
        "> **Outros modelos não lineares**\n",
        "\n",
        "- K-Nearest Neighbors\n",
        "- Redes Neurais"
      ]
    },
    {
      "cell_type": "markdown",
      "metadata": {
        "id": "jNHcdAqk7k81",
        "colab_type": "text"
      },
      "source": [
        "\n",
        "\n",
        "---\n",
        "\n",
        "\n",
        "\n",
        "---\n",
        "\n"
      ]
    },
    {
      "cell_type": "markdown",
      "metadata": {
        "id": "0rZx2I4QgLIZ",
        "colab_type": "text"
      },
      "source": [
        "# Comparacao de modelos com Auto ML"
      ]
    },
    {
      "cell_type": "markdown",
      "metadata": {
        "colab_type": "text",
        "id": "BaoT9As1HjLF"
      },
      "source": [
        "> **Student Dataset**\n",
        "\n",
        "Agora iremos usar um dataset diferente, precisamos **prever a nota** final de um estudante em **matemática**, baseado em dados socioeconômicos.\n",
        "\n",
        "[Link UCI](https://archive.ics.uci.edu/ml/datasets/student+performance)\n",
        "\n",
        "[Descrição](https://github.com/nicholasrichers/regressao-neuron/blob/master/student_dataset/student.txt)"
      ]
    },
    {
      "cell_type": "code",
      "metadata": {
        "colab_type": "code",
        "id": "naaZmmg_HjLI",
        "colab": {
          "base_uri": "https://localhost:8080/",
          "height": 224
        },
        "outputId": "a74645f3-c3db-4b78-de6e-f5fc986e800f"
      },
      "source": [
        "#student\n",
        "import pandas as pd\n",
        "dados_url = 'https://raw.githubusercontent.com/nicholasrichers/regressao-neuron/master/student_dataset/student-mat.csv'\n",
        "\n",
        "data = pd.read_csv(dados_url, sep=\";\")\n",
        "\n",
        "data.head()"
      ],
      "execution_count": 47,
      "outputs": [
        {
          "output_type": "execute_result",
          "data": {
            "text/html": [
              "<div>\n",
              "<style scoped>\n",
              "    .dataframe tbody tr th:only-of-type {\n",
              "        vertical-align: middle;\n",
              "    }\n",
              "\n",
              "    .dataframe tbody tr th {\n",
              "        vertical-align: top;\n",
              "    }\n",
              "\n",
              "    .dataframe thead th {\n",
              "        text-align: right;\n",
              "    }\n",
              "</style>\n",
              "<table border=\"1\" class=\"dataframe\">\n",
              "  <thead>\n",
              "    <tr style=\"text-align: right;\">\n",
              "      <th></th>\n",
              "      <th>school</th>\n",
              "      <th>sex</th>\n",
              "      <th>age</th>\n",
              "      <th>address</th>\n",
              "      <th>famsize</th>\n",
              "      <th>Pstatus</th>\n",
              "      <th>Medu</th>\n",
              "      <th>Fedu</th>\n",
              "      <th>Mjob</th>\n",
              "      <th>Fjob</th>\n",
              "      <th>reason</th>\n",
              "      <th>guardian</th>\n",
              "      <th>traveltime</th>\n",
              "      <th>studytime</th>\n",
              "      <th>failures</th>\n",
              "      <th>schoolsup</th>\n",
              "      <th>famsup</th>\n",
              "      <th>paid</th>\n",
              "      <th>activities</th>\n",
              "      <th>nursery</th>\n",
              "      <th>higher</th>\n",
              "      <th>internet</th>\n",
              "      <th>romantic</th>\n",
              "      <th>famrel</th>\n",
              "      <th>freetime</th>\n",
              "      <th>goout</th>\n",
              "      <th>Dalc</th>\n",
              "      <th>Walc</th>\n",
              "      <th>health</th>\n",
              "      <th>absences</th>\n",
              "      <th>G1</th>\n",
              "      <th>G2</th>\n",
              "      <th>G3</th>\n",
              "    </tr>\n",
              "  </thead>\n",
              "  <tbody>\n",
              "    <tr>\n",
              "      <th>0</th>\n",
              "      <td>GP</td>\n",
              "      <td>F</td>\n",
              "      <td>18</td>\n",
              "      <td>U</td>\n",
              "      <td>GT3</td>\n",
              "      <td>A</td>\n",
              "      <td>4</td>\n",
              "      <td>4</td>\n",
              "      <td>at_home</td>\n",
              "      <td>teacher</td>\n",
              "      <td>course</td>\n",
              "      <td>mother</td>\n",
              "      <td>2</td>\n",
              "      <td>2</td>\n",
              "      <td>0</td>\n",
              "      <td>yes</td>\n",
              "      <td>no</td>\n",
              "      <td>no</td>\n",
              "      <td>no</td>\n",
              "      <td>yes</td>\n",
              "      <td>yes</td>\n",
              "      <td>no</td>\n",
              "      <td>no</td>\n",
              "      <td>4</td>\n",
              "      <td>3</td>\n",
              "      <td>4</td>\n",
              "      <td>1</td>\n",
              "      <td>1</td>\n",
              "      <td>3</td>\n",
              "      <td>6</td>\n",
              "      <td>5</td>\n",
              "      <td>6</td>\n",
              "      <td>6</td>\n",
              "    </tr>\n",
              "    <tr>\n",
              "      <th>1</th>\n",
              "      <td>GP</td>\n",
              "      <td>F</td>\n",
              "      <td>17</td>\n",
              "      <td>U</td>\n",
              "      <td>GT3</td>\n",
              "      <td>T</td>\n",
              "      <td>1</td>\n",
              "      <td>1</td>\n",
              "      <td>at_home</td>\n",
              "      <td>other</td>\n",
              "      <td>course</td>\n",
              "      <td>father</td>\n",
              "      <td>1</td>\n",
              "      <td>2</td>\n",
              "      <td>0</td>\n",
              "      <td>no</td>\n",
              "      <td>yes</td>\n",
              "      <td>no</td>\n",
              "      <td>no</td>\n",
              "      <td>no</td>\n",
              "      <td>yes</td>\n",
              "      <td>yes</td>\n",
              "      <td>no</td>\n",
              "      <td>5</td>\n",
              "      <td>3</td>\n",
              "      <td>3</td>\n",
              "      <td>1</td>\n",
              "      <td>1</td>\n",
              "      <td>3</td>\n",
              "      <td>4</td>\n",
              "      <td>5</td>\n",
              "      <td>5</td>\n",
              "      <td>6</td>\n",
              "    </tr>\n",
              "    <tr>\n",
              "      <th>2</th>\n",
              "      <td>GP</td>\n",
              "      <td>F</td>\n",
              "      <td>15</td>\n",
              "      <td>U</td>\n",
              "      <td>LE3</td>\n",
              "      <td>T</td>\n",
              "      <td>1</td>\n",
              "      <td>1</td>\n",
              "      <td>at_home</td>\n",
              "      <td>other</td>\n",
              "      <td>other</td>\n",
              "      <td>mother</td>\n",
              "      <td>1</td>\n",
              "      <td>2</td>\n",
              "      <td>3</td>\n",
              "      <td>yes</td>\n",
              "      <td>no</td>\n",
              "      <td>yes</td>\n",
              "      <td>no</td>\n",
              "      <td>yes</td>\n",
              "      <td>yes</td>\n",
              "      <td>yes</td>\n",
              "      <td>no</td>\n",
              "      <td>4</td>\n",
              "      <td>3</td>\n",
              "      <td>2</td>\n",
              "      <td>2</td>\n",
              "      <td>3</td>\n",
              "      <td>3</td>\n",
              "      <td>10</td>\n",
              "      <td>7</td>\n",
              "      <td>8</td>\n",
              "      <td>10</td>\n",
              "    </tr>\n",
              "    <tr>\n",
              "      <th>3</th>\n",
              "      <td>GP</td>\n",
              "      <td>F</td>\n",
              "      <td>15</td>\n",
              "      <td>U</td>\n",
              "      <td>GT3</td>\n",
              "      <td>T</td>\n",
              "      <td>4</td>\n",
              "      <td>2</td>\n",
              "      <td>health</td>\n",
              "      <td>services</td>\n",
              "      <td>home</td>\n",
              "      <td>mother</td>\n",
              "      <td>1</td>\n",
              "      <td>3</td>\n",
              "      <td>0</td>\n",
              "      <td>no</td>\n",
              "      <td>yes</td>\n",
              "      <td>yes</td>\n",
              "      <td>yes</td>\n",
              "      <td>yes</td>\n",
              "      <td>yes</td>\n",
              "      <td>yes</td>\n",
              "      <td>yes</td>\n",
              "      <td>3</td>\n",
              "      <td>2</td>\n",
              "      <td>2</td>\n",
              "      <td>1</td>\n",
              "      <td>1</td>\n",
              "      <td>5</td>\n",
              "      <td>2</td>\n",
              "      <td>15</td>\n",
              "      <td>14</td>\n",
              "      <td>15</td>\n",
              "    </tr>\n",
              "    <tr>\n",
              "      <th>4</th>\n",
              "      <td>GP</td>\n",
              "      <td>F</td>\n",
              "      <td>16</td>\n",
              "      <td>U</td>\n",
              "      <td>GT3</td>\n",
              "      <td>T</td>\n",
              "      <td>3</td>\n",
              "      <td>3</td>\n",
              "      <td>other</td>\n",
              "      <td>other</td>\n",
              "      <td>home</td>\n",
              "      <td>father</td>\n",
              "      <td>1</td>\n",
              "      <td>2</td>\n",
              "      <td>0</td>\n",
              "      <td>no</td>\n",
              "      <td>yes</td>\n",
              "      <td>yes</td>\n",
              "      <td>no</td>\n",
              "      <td>yes</td>\n",
              "      <td>yes</td>\n",
              "      <td>no</td>\n",
              "      <td>no</td>\n",
              "      <td>4</td>\n",
              "      <td>3</td>\n",
              "      <td>2</td>\n",
              "      <td>1</td>\n",
              "      <td>2</td>\n",
              "      <td>5</td>\n",
              "      <td>4</td>\n",
              "      <td>6</td>\n",
              "      <td>10</td>\n",
              "      <td>10</td>\n",
              "    </tr>\n",
              "  </tbody>\n",
              "</table>\n",
              "</div>"
            ],
            "text/plain": [
              "  school sex  age address famsize Pstatus  ...  Walc  health absences  G1  G2  G3\n",
              "0     GP   F   18       U     GT3       A  ...     1       3        6   5   6   6\n",
              "1     GP   F   17       U     GT3       T  ...     1       3        4   5   5   6\n",
              "2     GP   F   15       U     LE3       T  ...     3       3       10   7   8  10\n",
              "3     GP   F   15       U     GT3       T  ...     1       5        2  15  14  15\n",
              "4     GP   F   16       U     GT3       T  ...     2       5        4   6  10  10\n",
              "\n",
              "[5 rows x 33 columns]"
            ]
          },
          "metadata": {
            "tags": []
          },
          "execution_count": 47
        }
      ]
    },
    {
      "cell_type": "markdown",
      "metadata": {
        "id": "5B_BjFPnT717",
        "colab_type": "text"
      },
      "source": [
        "Retiramos a nota das 3 provas anteriores para não ficar muito fácil."
      ]
    },
    {
      "cell_type": "code",
      "metadata": {
        "id": "PS3Ju8tWQj8v",
        "colab_type": "code",
        "colab": {
          "base_uri": "https://localhost:8080/",
          "height": 34
        },
        "outputId": "1360c6b2-06ee-48a2-c5f2-8879dc654674"
      },
      "source": [
        "#criei a coluna média das notas\n",
        "data[\"media\"] = (data[\"G1\"] + data[\"G2\"] + data[\"G3\"])/3\n",
        "\n",
        "#deletando as outras notas\n",
        "data.drop(columns=[\"G1\",\"G2\",\"G3\"], inplace=True)\n",
        "\n",
        "data.shape"
      ],
      "execution_count": 48,
      "outputs": [
        {
          "output_type": "execute_result",
          "data": {
            "text/plain": [
              "(395, 31)"
            ]
          },
          "metadata": {
            "tags": []
          },
          "execution_count": 48
        }
      ]
    },
    {
      "cell_type": "markdown",
      "metadata": {
        "id": "9uE6FOxR7iu9",
        "colab_type": "text"
      },
      "source": [
        "\n",
        "\n",
        "---\n",
        "\n",
        "\n",
        "\n",
        "---\n",
        "\n"
      ]
    },
    {
      "cell_type": "markdown",
      "metadata": {
        "id": "iXF_d2jRhBXI",
        "colab_type": "text"
      },
      "source": [
        "> **Pycaret**\n",
        "\n",
        "Pycaret é uma excelente **ferramenta** para usar em **conjunto** com o **sklearn**, esse [post](https://towardsdatascience.com/announcing-pycaret-2-0-39c11014540e) é uma otima introdução a essa biblioteca."
      ]
    },
    {
      "cell_type": "code",
      "metadata": {
        "id": "QbH5vDM2gp6n",
        "colab_type": "code",
        "colab": {}
      },
      "source": [
        "from pycaret.regression import *\n",
        "\n",
        "#lista dos modelos disponiveis\n",
        "#models()"
      ],
      "execution_count": 49,
      "outputs": []
    },
    {
      "cell_type": "code",
      "metadata": {
        "id": "Okg0CCQ0dqxE",
        "colab_type": "code",
        "colab": {
          "base_uri": "https://localhost:8080/",
          "height": 515,
          "referenced_widgets": [
            "a15421acd3e34b6d9c3d2a2a4763e62c",
            "ba5688b118754be483faae22157c52fb",
            "12bdcaf67eaf41498f84371f7593d6a9",
            "b11ae6e1f0564eb78c821e9e5b05a89f",
            "223a58205ccb4e2ab33ab1e1c2ff83dd",
            "3238175d977a4c0888e4cba868cd8cb1",
            "54b687d34e1d47febe05aa2bd01d2162",
            "4f9a4d09542c469a86528805a38ff581",
            "af447887a46d49d3b8e4932b3728f98f"
          ]
        },
        "outputId": "674cdf67-0d73-404c-8698-515afc2672e3"
      },
      "source": [
        "%%time\n",
        "# init setup\n",
        "reg2 = setup(df, target = 'medv') \n",
        "\n",
        "# validação cruzada 5-fold\n",
        "best_specific = compare_models(fold=3, n_select = 5, blacklist = ['tr']) "
      ],
      "execution_count": 50,
      "outputs": [
        {
          "output_type": "display_data",
          "data": {
            "text/html": [
              "<style  type=\"text/css\" >\n",
              "    #T_6abb2914_f399_11ea_a8e4_0242ac1c0002 th {\n",
              "          text-align: left;\n",
              "    }    #T_6abb2914_f399_11ea_a8e4_0242ac1c0002row0_col0 {\n",
              "            text-align:  left;\n",
              "        }    #T_6abb2914_f399_11ea_a8e4_0242ac1c0002row0_col1 {\n",
              "            : ;\n",
              "            text-align:  left;\n",
              "        }    #T_6abb2914_f399_11ea_a8e4_0242ac1c0002row0_col2 {\n",
              "            background-color:  yellow;\n",
              "            text-align:  left;\n",
              "        }    #T_6abb2914_f399_11ea_a8e4_0242ac1c0002row0_col3 {\n",
              "            background-color:  yellow;\n",
              "            text-align:  left;\n",
              "        }    #T_6abb2914_f399_11ea_a8e4_0242ac1c0002row0_col4 {\n",
              "            background-color:  yellow;\n",
              "            text-align:  left;\n",
              "        }    #T_6abb2914_f399_11ea_a8e4_0242ac1c0002row0_col5 {\n",
              "            : ;\n",
              "            text-align:  left;\n",
              "        }    #T_6abb2914_f399_11ea_a8e4_0242ac1c0002row0_col6 {\n",
              "            : ;\n",
              "            text-align:  left;\n",
              "        }    #T_6abb2914_f399_11ea_a8e4_0242ac1c0002row0_col7 {\n",
              "            background-color:  lightgrey;\n",
              "            text-align:  left;\n",
              "        }    #T_6abb2914_f399_11ea_a8e4_0242ac1c0002row1_col0 {\n",
              "            text-align:  left;\n",
              "        }    #T_6abb2914_f399_11ea_a8e4_0242ac1c0002row1_col1 {\n",
              "            background-color:  yellow;\n",
              "            text-align:  left;\n",
              "        }    #T_6abb2914_f399_11ea_a8e4_0242ac1c0002row1_col2 {\n",
              "            : ;\n",
              "            text-align:  left;\n",
              "        }    #T_6abb2914_f399_11ea_a8e4_0242ac1c0002row1_col3 {\n",
              "            : ;\n",
              "            text-align:  left;\n",
              "        }    #T_6abb2914_f399_11ea_a8e4_0242ac1c0002row1_col4 {\n",
              "            : ;\n",
              "            text-align:  left;\n",
              "        }    #T_6abb2914_f399_11ea_a8e4_0242ac1c0002row1_col5 {\n",
              "            background-color:  yellow;\n",
              "            text-align:  left;\n",
              "        }    #T_6abb2914_f399_11ea_a8e4_0242ac1c0002row1_col6 {\n",
              "            background-color:  yellow;\n",
              "            text-align:  left;\n",
              "        }    #T_6abb2914_f399_11ea_a8e4_0242ac1c0002row1_col7 {\n",
              "            background-color:  lightgrey;\n",
              "            text-align:  left;\n",
              "        }    #T_6abb2914_f399_11ea_a8e4_0242ac1c0002row2_col0 {\n",
              "            text-align:  left;\n",
              "        }    #T_6abb2914_f399_11ea_a8e4_0242ac1c0002row2_col1 {\n",
              "            : ;\n",
              "            text-align:  left;\n",
              "        }    #T_6abb2914_f399_11ea_a8e4_0242ac1c0002row2_col2 {\n",
              "            : ;\n",
              "            text-align:  left;\n",
              "        }    #T_6abb2914_f399_11ea_a8e4_0242ac1c0002row2_col3 {\n",
              "            : ;\n",
              "            text-align:  left;\n",
              "        }    #T_6abb2914_f399_11ea_a8e4_0242ac1c0002row2_col4 {\n",
              "            : ;\n",
              "            text-align:  left;\n",
              "        }    #T_6abb2914_f399_11ea_a8e4_0242ac1c0002row2_col5 {\n",
              "            : ;\n",
              "            text-align:  left;\n",
              "        }    #T_6abb2914_f399_11ea_a8e4_0242ac1c0002row2_col6 {\n",
              "            : ;\n",
              "            text-align:  left;\n",
              "        }    #T_6abb2914_f399_11ea_a8e4_0242ac1c0002row2_col7 {\n",
              "            background-color:  lightgrey;\n",
              "            text-align:  left;\n",
              "        }    #T_6abb2914_f399_11ea_a8e4_0242ac1c0002row3_col0 {\n",
              "            text-align:  left;\n",
              "        }    #T_6abb2914_f399_11ea_a8e4_0242ac1c0002row3_col1 {\n",
              "            : ;\n",
              "            text-align:  left;\n",
              "        }    #T_6abb2914_f399_11ea_a8e4_0242ac1c0002row3_col2 {\n",
              "            : ;\n",
              "            text-align:  left;\n",
              "        }    #T_6abb2914_f399_11ea_a8e4_0242ac1c0002row3_col3 {\n",
              "            : ;\n",
              "            text-align:  left;\n",
              "        }    #T_6abb2914_f399_11ea_a8e4_0242ac1c0002row3_col4 {\n",
              "            : ;\n",
              "            text-align:  left;\n",
              "        }    #T_6abb2914_f399_11ea_a8e4_0242ac1c0002row3_col5 {\n",
              "            : ;\n",
              "            text-align:  left;\n",
              "        }    #T_6abb2914_f399_11ea_a8e4_0242ac1c0002row3_col6 {\n",
              "            : ;\n",
              "            text-align:  left;\n",
              "        }    #T_6abb2914_f399_11ea_a8e4_0242ac1c0002row3_col7 {\n",
              "            background-color:  lightgrey;\n",
              "            text-align:  left;\n",
              "        }    #T_6abb2914_f399_11ea_a8e4_0242ac1c0002row4_col0 {\n",
              "            text-align:  left;\n",
              "        }    #T_6abb2914_f399_11ea_a8e4_0242ac1c0002row4_col1 {\n",
              "            : ;\n",
              "            text-align:  left;\n",
              "        }    #T_6abb2914_f399_11ea_a8e4_0242ac1c0002row4_col2 {\n",
              "            : ;\n",
              "            text-align:  left;\n",
              "        }    #T_6abb2914_f399_11ea_a8e4_0242ac1c0002row4_col3 {\n",
              "            : ;\n",
              "            text-align:  left;\n",
              "        }    #T_6abb2914_f399_11ea_a8e4_0242ac1c0002row4_col4 {\n",
              "            : ;\n",
              "            text-align:  left;\n",
              "        }    #T_6abb2914_f399_11ea_a8e4_0242ac1c0002row4_col5 {\n",
              "            : ;\n",
              "            text-align:  left;\n",
              "        }    #T_6abb2914_f399_11ea_a8e4_0242ac1c0002row4_col6 {\n",
              "            : ;\n",
              "            text-align:  left;\n",
              "        }    #T_6abb2914_f399_11ea_a8e4_0242ac1c0002row4_col7 {\n",
              "            background-color:  lightgrey;\n",
              "            text-align:  left;\n",
              "        }    #T_6abb2914_f399_11ea_a8e4_0242ac1c0002row5_col0 {\n",
              "            text-align:  left;\n",
              "        }    #T_6abb2914_f399_11ea_a8e4_0242ac1c0002row5_col1 {\n",
              "            : ;\n",
              "            text-align:  left;\n",
              "        }    #T_6abb2914_f399_11ea_a8e4_0242ac1c0002row5_col2 {\n",
              "            : ;\n",
              "            text-align:  left;\n",
              "        }    #T_6abb2914_f399_11ea_a8e4_0242ac1c0002row5_col3 {\n",
              "            : ;\n",
              "            text-align:  left;\n",
              "        }    #T_6abb2914_f399_11ea_a8e4_0242ac1c0002row5_col4 {\n",
              "            : ;\n",
              "            text-align:  left;\n",
              "        }    #T_6abb2914_f399_11ea_a8e4_0242ac1c0002row5_col5 {\n",
              "            : ;\n",
              "            text-align:  left;\n",
              "        }    #T_6abb2914_f399_11ea_a8e4_0242ac1c0002row5_col6 {\n",
              "            : ;\n",
              "            text-align:  left;\n",
              "        }    #T_6abb2914_f399_11ea_a8e4_0242ac1c0002row5_col7 {\n",
              "            background-color:  lightgrey;\n",
              "            text-align:  left;\n",
              "        }    #T_6abb2914_f399_11ea_a8e4_0242ac1c0002row6_col0 {\n",
              "            text-align:  left;\n",
              "        }    #T_6abb2914_f399_11ea_a8e4_0242ac1c0002row6_col1 {\n",
              "            : ;\n",
              "            text-align:  left;\n",
              "        }    #T_6abb2914_f399_11ea_a8e4_0242ac1c0002row6_col2 {\n",
              "            : ;\n",
              "            text-align:  left;\n",
              "        }    #T_6abb2914_f399_11ea_a8e4_0242ac1c0002row6_col3 {\n",
              "            : ;\n",
              "            text-align:  left;\n",
              "        }    #T_6abb2914_f399_11ea_a8e4_0242ac1c0002row6_col4 {\n",
              "            : ;\n",
              "            text-align:  left;\n",
              "        }    #T_6abb2914_f399_11ea_a8e4_0242ac1c0002row6_col5 {\n",
              "            : ;\n",
              "            text-align:  left;\n",
              "        }    #T_6abb2914_f399_11ea_a8e4_0242ac1c0002row6_col6 {\n",
              "            : ;\n",
              "            text-align:  left;\n",
              "        }    #T_6abb2914_f399_11ea_a8e4_0242ac1c0002row6_col7 {\n",
              "            background-color:  lightgrey;\n",
              "            text-align:  left;\n",
              "        }    #T_6abb2914_f399_11ea_a8e4_0242ac1c0002row7_col0 {\n",
              "            text-align:  left;\n",
              "        }    #T_6abb2914_f399_11ea_a8e4_0242ac1c0002row7_col1 {\n",
              "            : ;\n",
              "            text-align:  left;\n",
              "        }    #T_6abb2914_f399_11ea_a8e4_0242ac1c0002row7_col2 {\n",
              "            : ;\n",
              "            text-align:  left;\n",
              "        }    #T_6abb2914_f399_11ea_a8e4_0242ac1c0002row7_col3 {\n",
              "            : ;\n",
              "            text-align:  left;\n",
              "        }    #T_6abb2914_f399_11ea_a8e4_0242ac1c0002row7_col4 {\n",
              "            : ;\n",
              "            text-align:  left;\n",
              "        }    #T_6abb2914_f399_11ea_a8e4_0242ac1c0002row7_col5 {\n",
              "            : ;\n",
              "            text-align:  left;\n",
              "        }    #T_6abb2914_f399_11ea_a8e4_0242ac1c0002row7_col6 {\n",
              "            : ;\n",
              "            text-align:  left;\n",
              "        }    #T_6abb2914_f399_11ea_a8e4_0242ac1c0002row7_col7 {\n",
              "            background-color:  lightgrey;\n",
              "            text-align:  left;\n",
              "        }    #T_6abb2914_f399_11ea_a8e4_0242ac1c0002row8_col0 {\n",
              "            text-align:  left;\n",
              "        }    #T_6abb2914_f399_11ea_a8e4_0242ac1c0002row8_col1 {\n",
              "            : ;\n",
              "            text-align:  left;\n",
              "        }    #T_6abb2914_f399_11ea_a8e4_0242ac1c0002row8_col2 {\n",
              "            : ;\n",
              "            text-align:  left;\n",
              "        }    #T_6abb2914_f399_11ea_a8e4_0242ac1c0002row8_col3 {\n",
              "            : ;\n",
              "            text-align:  left;\n",
              "        }    #T_6abb2914_f399_11ea_a8e4_0242ac1c0002row8_col4 {\n",
              "            : ;\n",
              "            text-align:  left;\n",
              "        }    #T_6abb2914_f399_11ea_a8e4_0242ac1c0002row8_col5 {\n",
              "            : ;\n",
              "            text-align:  left;\n",
              "        }    #T_6abb2914_f399_11ea_a8e4_0242ac1c0002row8_col6 {\n",
              "            : ;\n",
              "            text-align:  left;\n",
              "        }    #T_6abb2914_f399_11ea_a8e4_0242ac1c0002row8_col7 {\n",
              "            background-color:  lightgrey;\n",
              "            text-align:  left;\n",
              "        }    #T_6abb2914_f399_11ea_a8e4_0242ac1c0002row9_col0 {\n",
              "            text-align:  left;\n",
              "        }    #T_6abb2914_f399_11ea_a8e4_0242ac1c0002row9_col1 {\n",
              "            : ;\n",
              "            text-align:  left;\n",
              "        }    #T_6abb2914_f399_11ea_a8e4_0242ac1c0002row9_col2 {\n",
              "            : ;\n",
              "            text-align:  left;\n",
              "        }    #T_6abb2914_f399_11ea_a8e4_0242ac1c0002row9_col3 {\n",
              "            : ;\n",
              "            text-align:  left;\n",
              "        }    #T_6abb2914_f399_11ea_a8e4_0242ac1c0002row9_col4 {\n",
              "            : ;\n",
              "            text-align:  left;\n",
              "        }    #T_6abb2914_f399_11ea_a8e4_0242ac1c0002row9_col5 {\n",
              "            : ;\n",
              "            text-align:  left;\n",
              "        }    #T_6abb2914_f399_11ea_a8e4_0242ac1c0002row9_col6 {\n",
              "            : ;\n",
              "            text-align:  left;\n",
              "        }    #T_6abb2914_f399_11ea_a8e4_0242ac1c0002row9_col7 {\n",
              "            background-color:  lightgrey;\n",
              "            text-align:  left;\n",
              "        }    #T_6abb2914_f399_11ea_a8e4_0242ac1c0002row10_col0 {\n",
              "            text-align:  left;\n",
              "        }    #T_6abb2914_f399_11ea_a8e4_0242ac1c0002row10_col1 {\n",
              "            : ;\n",
              "            text-align:  left;\n",
              "        }    #T_6abb2914_f399_11ea_a8e4_0242ac1c0002row10_col2 {\n",
              "            : ;\n",
              "            text-align:  left;\n",
              "        }    #T_6abb2914_f399_11ea_a8e4_0242ac1c0002row10_col3 {\n",
              "            : ;\n",
              "            text-align:  left;\n",
              "        }    #T_6abb2914_f399_11ea_a8e4_0242ac1c0002row10_col4 {\n",
              "            : ;\n",
              "            text-align:  left;\n",
              "        }    #T_6abb2914_f399_11ea_a8e4_0242ac1c0002row10_col5 {\n",
              "            : ;\n",
              "            text-align:  left;\n",
              "        }    #T_6abb2914_f399_11ea_a8e4_0242ac1c0002row10_col6 {\n",
              "            : ;\n",
              "            text-align:  left;\n",
              "        }    #T_6abb2914_f399_11ea_a8e4_0242ac1c0002row10_col7 {\n",
              "            background-color:  lightgrey;\n",
              "            text-align:  left;\n",
              "        }    #T_6abb2914_f399_11ea_a8e4_0242ac1c0002row11_col0 {\n",
              "            text-align:  left;\n",
              "        }    #T_6abb2914_f399_11ea_a8e4_0242ac1c0002row11_col1 {\n",
              "            : ;\n",
              "            text-align:  left;\n",
              "        }    #T_6abb2914_f399_11ea_a8e4_0242ac1c0002row11_col2 {\n",
              "            : ;\n",
              "            text-align:  left;\n",
              "        }    #T_6abb2914_f399_11ea_a8e4_0242ac1c0002row11_col3 {\n",
              "            : ;\n",
              "            text-align:  left;\n",
              "        }    #T_6abb2914_f399_11ea_a8e4_0242ac1c0002row11_col4 {\n",
              "            : ;\n",
              "            text-align:  left;\n",
              "        }    #T_6abb2914_f399_11ea_a8e4_0242ac1c0002row11_col5 {\n",
              "            : ;\n",
              "            text-align:  left;\n",
              "        }    #T_6abb2914_f399_11ea_a8e4_0242ac1c0002row11_col6 {\n",
              "            : ;\n",
              "            text-align:  left;\n",
              "        }    #T_6abb2914_f399_11ea_a8e4_0242ac1c0002row11_col7 {\n",
              "            background-color:  lightgrey;\n",
              "            text-align:  left;\n",
              "        }    #T_6abb2914_f399_11ea_a8e4_0242ac1c0002row12_col0 {\n",
              "            text-align:  left;\n",
              "        }    #T_6abb2914_f399_11ea_a8e4_0242ac1c0002row12_col1 {\n",
              "            : ;\n",
              "            text-align:  left;\n",
              "        }    #T_6abb2914_f399_11ea_a8e4_0242ac1c0002row12_col2 {\n",
              "            : ;\n",
              "            text-align:  left;\n",
              "        }    #T_6abb2914_f399_11ea_a8e4_0242ac1c0002row12_col3 {\n",
              "            : ;\n",
              "            text-align:  left;\n",
              "        }    #T_6abb2914_f399_11ea_a8e4_0242ac1c0002row12_col4 {\n",
              "            : ;\n",
              "            text-align:  left;\n",
              "        }    #T_6abb2914_f399_11ea_a8e4_0242ac1c0002row12_col5 {\n",
              "            : ;\n",
              "            text-align:  left;\n",
              "        }    #T_6abb2914_f399_11ea_a8e4_0242ac1c0002row12_col6 {\n",
              "            : ;\n",
              "            text-align:  left;\n",
              "        }    #T_6abb2914_f399_11ea_a8e4_0242ac1c0002row12_col7 {\n",
              "            background-color:  lightgrey;\n",
              "            text-align:  left;\n",
              "        }    #T_6abb2914_f399_11ea_a8e4_0242ac1c0002row13_col0 {\n",
              "            text-align:  left;\n",
              "        }    #T_6abb2914_f399_11ea_a8e4_0242ac1c0002row13_col1 {\n",
              "            : ;\n",
              "            text-align:  left;\n",
              "        }    #T_6abb2914_f399_11ea_a8e4_0242ac1c0002row13_col2 {\n",
              "            : ;\n",
              "            text-align:  left;\n",
              "        }    #T_6abb2914_f399_11ea_a8e4_0242ac1c0002row13_col3 {\n",
              "            : ;\n",
              "            text-align:  left;\n",
              "        }    #T_6abb2914_f399_11ea_a8e4_0242ac1c0002row13_col4 {\n",
              "            : ;\n",
              "            text-align:  left;\n",
              "        }    #T_6abb2914_f399_11ea_a8e4_0242ac1c0002row13_col5 {\n",
              "            : ;\n",
              "            text-align:  left;\n",
              "        }    #T_6abb2914_f399_11ea_a8e4_0242ac1c0002row13_col6 {\n",
              "            : ;\n",
              "            text-align:  left;\n",
              "        }    #T_6abb2914_f399_11ea_a8e4_0242ac1c0002row13_col7 {\n",
              "            background-color:  lightgrey;\n",
              "            text-align:  left;\n",
              "        }    #T_6abb2914_f399_11ea_a8e4_0242ac1c0002row14_col0 {\n",
              "            text-align:  left;\n",
              "        }    #T_6abb2914_f399_11ea_a8e4_0242ac1c0002row14_col1 {\n",
              "            : ;\n",
              "            text-align:  left;\n",
              "        }    #T_6abb2914_f399_11ea_a8e4_0242ac1c0002row14_col2 {\n",
              "            : ;\n",
              "            text-align:  left;\n",
              "        }    #T_6abb2914_f399_11ea_a8e4_0242ac1c0002row14_col3 {\n",
              "            : ;\n",
              "            text-align:  left;\n",
              "        }    #T_6abb2914_f399_11ea_a8e4_0242ac1c0002row14_col4 {\n",
              "            : ;\n",
              "            text-align:  left;\n",
              "        }    #T_6abb2914_f399_11ea_a8e4_0242ac1c0002row14_col5 {\n",
              "            : ;\n",
              "            text-align:  left;\n",
              "        }    #T_6abb2914_f399_11ea_a8e4_0242ac1c0002row14_col6 {\n",
              "            : ;\n",
              "            text-align:  left;\n",
              "        }    #T_6abb2914_f399_11ea_a8e4_0242ac1c0002row14_col7 {\n",
              "            background-color:  lightgrey;\n",
              "            text-align:  left;\n",
              "        }    #T_6abb2914_f399_11ea_a8e4_0242ac1c0002row15_col0 {\n",
              "            text-align:  left;\n",
              "        }    #T_6abb2914_f399_11ea_a8e4_0242ac1c0002row15_col1 {\n",
              "            : ;\n",
              "            text-align:  left;\n",
              "        }    #T_6abb2914_f399_11ea_a8e4_0242ac1c0002row15_col2 {\n",
              "            : ;\n",
              "            text-align:  left;\n",
              "        }    #T_6abb2914_f399_11ea_a8e4_0242ac1c0002row15_col3 {\n",
              "            : ;\n",
              "            text-align:  left;\n",
              "        }    #T_6abb2914_f399_11ea_a8e4_0242ac1c0002row15_col4 {\n",
              "            : ;\n",
              "            text-align:  left;\n",
              "        }    #T_6abb2914_f399_11ea_a8e4_0242ac1c0002row15_col5 {\n",
              "            : ;\n",
              "            text-align:  left;\n",
              "        }    #T_6abb2914_f399_11ea_a8e4_0242ac1c0002row15_col6 {\n",
              "            : ;\n",
              "            text-align:  left;\n",
              "        }    #T_6abb2914_f399_11ea_a8e4_0242ac1c0002row15_col7 {\n",
              "            background-color:  lightgrey;\n",
              "            text-align:  left;\n",
              "        }    #T_6abb2914_f399_11ea_a8e4_0242ac1c0002row16_col0 {\n",
              "            text-align:  left;\n",
              "        }    #T_6abb2914_f399_11ea_a8e4_0242ac1c0002row16_col1 {\n",
              "            : ;\n",
              "            text-align:  left;\n",
              "        }    #T_6abb2914_f399_11ea_a8e4_0242ac1c0002row16_col2 {\n",
              "            : ;\n",
              "            text-align:  left;\n",
              "        }    #T_6abb2914_f399_11ea_a8e4_0242ac1c0002row16_col3 {\n",
              "            : ;\n",
              "            text-align:  left;\n",
              "        }    #T_6abb2914_f399_11ea_a8e4_0242ac1c0002row16_col4 {\n",
              "            : ;\n",
              "            text-align:  left;\n",
              "        }    #T_6abb2914_f399_11ea_a8e4_0242ac1c0002row16_col5 {\n",
              "            : ;\n",
              "            text-align:  left;\n",
              "        }    #T_6abb2914_f399_11ea_a8e4_0242ac1c0002row16_col6 {\n",
              "            : ;\n",
              "            text-align:  left;\n",
              "        }    #T_6abb2914_f399_11ea_a8e4_0242ac1c0002row16_col7 {\n",
              "            background-color:  lightgrey;\n",
              "            text-align:  left;\n",
              "        }    #T_6abb2914_f399_11ea_a8e4_0242ac1c0002row17_col0 {\n",
              "            text-align:  left;\n",
              "        }    #T_6abb2914_f399_11ea_a8e4_0242ac1c0002row17_col1 {\n",
              "            : ;\n",
              "            text-align:  left;\n",
              "        }    #T_6abb2914_f399_11ea_a8e4_0242ac1c0002row17_col2 {\n",
              "            : ;\n",
              "            text-align:  left;\n",
              "        }    #T_6abb2914_f399_11ea_a8e4_0242ac1c0002row17_col3 {\n",
              "            : ;\n",
              "            text-align:  left;\n",
              "        }    #T_6abb2914_f399_11ea_a8e4_0242ac1c0002row17_col4 {\n",
              "            : ;\n",
              "            text-align:  left;\n",
              "        }    #T_6abb2914_f399_11ea_a8e4_0242ac1c0002row17_col5 {\n",
              "            : ;\n",
              "            text-align:  left;\n",
              "        }    #T_6abb2914_f399_11ea_a8e4_0242ac1c0002row17_col6 {\n",
              "            : ;\n",
              "            text-align:  left;\n",
              "        }    #T_6abb2914_f399_11ea_a8e4_0242ac1c0002row17_col7 {\n",
              "            background-color:  lightgrey;\n",
              "            text-align:  left;\n",
              "        }    #T_6abb2914_f399_11ea_a8e4_0242ac1c0002row18_col0 {\n",
              "            text-align:  left;\n",
              "        }    #T_6abb2914_f399_11ea_a8e4_0242ac1c0002row18_col1 {\n",
              "            : ;\n",
              "            text-align:  left;\n",
              "        }    #T_6abb2914_f399_11ea_a8e4_0242ac1c0002row18_col2 {\n",
              "            : ;\n",
              "            text-align:  left;\n",
              "        }    #T_6abb2914_f399_11ea_a8e4_0242ac1c0002row18_col3 {\n",
              "            : ;\n",
              "            text-align:  left;\n",
              "        }    #T_6abb2914_f399_11ea_a8e4_0242ac1c0002row18_col4 {\n",
              "            : ;\n",
              "            text-align:  left;\n",
              "        }    #T_6abb2914_f399_11ea_a8e4_0242ac1c0002row18_col5 {\n",
              "            : ;\n",
              "            text-align:  left;\n",
              "        }    #T_6abb2914_f399_11ea_a8e4_0242ac1c0002row18_col6 {\n",
              "            : ;\n",
              "            text-align:  left;\n",
              "        }    #T_6abb2914_f399_11ea_a8e4_0242ac1c0002row18_col7 {\n",
              "            background-color:  lightgrey;\n",
              "            text-align:  left;\n",
              "        }    #T_6abb2914_f399_11ea_a8e4_0242ac1c0002row19_col0 {\n",
              "            text-align:  left;\n",
              "        }    #T_6abb2914_f399_11ea_a8e4_0242ac1c0002row19_col1 {\n",
              "            : ;\n",
              "            text-align:  left;\n",
              "        }    #T_6abb2914_f399_11ea_a8e4_0242ac1c0002row19_col2 {\n",
              "            : ;\n",
              "            text-align:  left;\n",
              "        }    #T_6abb2914_f399_11ea_a8e4_0242ac1c0002row19_col3 {\n",
              "            : ;\n",
              "            text-align:  left;\n",
              "        }    #T_6abb2914_f399_11ea_a8e4_0242ac1c0002row19_col4 {\n",
              "            : ;\n",
              "            text-align:  left;\n",
              "        }    #T_6abb2914_f399_11ea_a8e4_0242ac1c0002row19_col5 {\n",
              "            : ;\n",
              "            text-align:  left;\n",
              "        }    #T_6abb2914_f399_11ea_a8e4_0242ac1c0002row19_col6 {\n",
              "            : ;\n",
              "            text-align:  left;\n",
              "        }    #T_6abb2914_f399_11ea_a8e4_0242ac1c0002row19_col7 {\n",
              "            background-color:  lightgrey;\n",
              "            text-align:  left;\n",
              "        }    #T_6abb2914_f399_11ea_a8e4_0242ac1c0002row20_col0 {\n",
              "            text-align:  left;\n",
              "        }    #T_6abb2914_f399_11ea_a8e4_0242ac1c0002row20_col1 {\n",
              "            : ;\n",
              "            text-align:  left;\n",
              "        }    #T_6abb2914_f399_11ea_a8e4_0242ac1c0002row20_col2 {\n",
              "            : ;\n",
              "            text-align:  left;\n",
              "        }    #T_6abb2914_f399_11ea_a8e4_0242ac1c0002row20_col3 {\n",
              "            : ;\n",
              "            text-align:  left;\n",
              "        }    #T_6abb2914_f399_11ea_a8e4_0242ac1c0002row20_col4 {\n",
              "            : ;\n",
              "            text-align:  left;\n",
              "        }    #T_6abb2914_f399_11ea_a8e4_0242ac1c0002row20_col5 {\n",
              "            : ;\n",
              "            text-align:  left;\n",
              "        }    #T_6abb2914_f399_11ea_a8e4_0242ac1c0002row20_col6 {\n",
              "            : ;\n",
              "            text-align:  left;\n",
              "        }    #T_6abb2914_f399_11ea_a8e4_0242ac1c0002row20_col7 {\n",
              "            background-color:  lightgrey;\n",
              "            text-align:  left;\n",
              "        }</style><table id=\"T_6abb2914_f399_11ea_a8e4_0242ac1c0002\" ><thead>    <tr>        <th class=\"blank level0\" ></th>        <th class=\"col_heading level0 col0\" >Model</th>        <th class=\"col_heading level0 col1\" >MAE</th>        <th class=\"col_heading level0 col2\" >MSE</th>        <th class=\"col_heading level0 col3\" >RMSE</th>        <th class=\"col_heading level0 col4\" >R2</th>        <th class=\"col_heading level0 col5\" >RMSLE</th>        <th class=\"col_heading level0 col6\" >MAPE</th>        <th class=\"col_heading level0 col7\" >TT (Sec)</th>    </tr></thead><tbody>\n",
              "                <tr>\n",
              "                        <th id=\"T_6abb2914_f399_11ea_a8e4_0242ac1c0002level0_row0\" class=\"row_heading level0 row0\" >0</th>\n",
              "                        <td id=\"T_6abb2914_f399_11ea_a8e4_0242ac1c0002row0_col0\" class=\"data row0 col0\" >Extra Trees Regressor</td>\n",
              "                        <td id=\"T_6abb2914_f399_11ea_a8e4_0242ac1c0002row0_col1\" class=\"data row0 col1\" >2.2535</td>\n",
              "                        <td id=\"T_6abb2914_f399_11ea_a8e4_0242ac1c0002row0_col2\" class=\"data row0 col2\" >10.8517</td>\n",
              "                        <td id=\"T_6abb2914_f399_11ea_a8e4_0242ac1c0002row0_col3\" class=\"data row0 col3\" >3.2615</td>\n",
              "                        <td id=\"T_6abb2914_f399_11ea_a8e4_0242ac1c0002row0_col4\" class=\"data row0 col4\" >0.8592</td>\n",
              "                        <td id=\"T_6abb2914_f399_11ea_a8e4_0242ac1c0002row0_col5\" class=\"data row0 col5\" >0.1457</td>\n",
              "                        <td id=\"T_6abb2914_f399_11ea_a8e4_0242ac1c0002row0_col6\" class=\"data row0 col6\" >0.1136</td>\n",
              "                        <td id=\"T_6abb2914_f399_11ea_a8e4_0242ac1c0002row0_col7\" class=\"data row0 col7\" >0.2500</td>\n",
              "            </tr>\n",
              "            <tr>\n",
              "                        <th id=\"T_6abb2914_f399_11ea_a8e4_0242ac1c0002level0_row1\" class=\"row_heading level0 row1\" >1</th>\n",
              "                        <td id=\"T_6abb2914_f399_11ea_a8e4_0242ac1c0002row1_col0\" class=\"data row1 col0\" >CatBoost Regressor</td>\n",
              "                        <td id=\"T_6abb2914_f399_11ea_a8e4_0242ac1c0002row1_col1\" class=\"data row1 col1\" >2.1867</td>\n",
              "                        <td id=\"T_6abb2914_f399_11ea_a8e4_0242ac1c0002row1_col2\" class=\"data row1 col2\" >11.4104</td>\n",
              "                        <td id=\"T_6abb2914_f399_11ea_a8e4_0242ac1c0002row1_col3\" class=\"data row1 col3\" >3.3427</td>\n",
              "                        <td id=\"T_6abb2914_f399_11ea_a8e4_0242ac1c0002row1_col4\" class=\"data row1 col4\" >0.8520</td>\n",
              "                        <td id=\"T_6abb2914_f399_11ea_a8e4_0242ac1c0002row1_col5\" class=\"data row1 col5\" >0.1423</td>\n",
              "                        <td id=\"T_6abb2914_f399_11ea_a8e4_0242ac1c0002row1_col6\" class=\"data row1 col6\" >0.1068</td>\n",
              "                        <td id=\"T_6abb2914_f399_11ea_a8e4_0242ac1c0002row1_col7\" class=\"data row1 col7\" >1.9799</td>\n",
              "            </tr>\n",
              "            <tr>\n",
              "                        <th id=\"T_6abb2914_f399_11ea_a8e4_0242ac1c0002level0_row2\" class=\"row_heading level0 row2\" >2</th>\n",
              "                        <td id=\"T_6abb2914_f399_11ea_a8e4_0242ac1c0002row2_col0\" class=\"data row2 col0\" >Gradient Boosting Regressor</td>\n",
              "                        <td id=\"T_6abb2914_f399_11ea_a8e4_0242ac1c0002row2_col1\" class=\"data row2 col1\" >2.4287</td>\n",
              "                        <td id=\"T_6abb2914_f399_11ea_a8e4_0242ac1c0002row2_col2\" class=\"data row2 col2\" >12.7878</td>\n",
              "                        <td id=\"T_6abb2914_f399_11ea_a8e4_0242ac1c0002row2_col3\" class=\"data row2 col3\" >3.5306</td>\n",
              "                        <td id=\"T_6abb2914_f399_11ea_a8e4_0242ac1c0002row2_col4\" class=\"data row2 col4\" >0.8343</td>\n",
              "                        <td id=\"T_6abb2914_f399_11ea_a8e4_0242ac1c0002row2_col5\" class=\"data row2 col5\" >0.1496</td>\n",
              "                        <td id=\"T_6abb2914_f399_11ea_a8e4_0242ac1c0002row2_col6\" class=\"data row2 col6\" >0.1185</td>\n",
              "                        <td id=\"T_6abb2914_f399_11ea_a8e4_0242ac1c0002row2_col7\" class=\"data row2 col7\" >0.0930</td>\n",
              "            </tr>\n",
              "            <tr>\n",
              "                        <th id=\"T_6abb2914_f399_11ea_a8e4_0242ac1c0002level0_row3\" class=\"row_heading level0 row3\" >3</th>\n",
              "                        <td id=\"T_6abb2914_f399_11ea_a8e4_0242ac1c0002row3_col0\" class=\"data row3 col0\" >Extreme Gradient Boosting</td>\n",
              "                        <td id=\"T_6abb2914_f399_11ea_a8e4_0242ac1c0002row3_col1\" class=\"data row3 col1\" >2.4679</td>\n",
              "                        <td id=\"T_6abb2914_f399_11ea_a8e4_0242ac1c0002row3_col2\" class=\"data row3 col2\" >14.0198</td>\n",
              "                        <td id=\"T_6abb2914_f399_11ea_a8e4_0242ac1c0002row3_col3\" class=\"data row3 col3\" >3.6724</td>\n",
              "                        <td id=\"T_6abb2914_f399_11ea_a8e4_0242ac1c0002row3_col4\" class=\"data row3 col4\" >0.8202</td>\n",
              "                        <td id=\"T_6abb2914_f399_11ea_a8e4_0242ac1c0002row3_col5\" class=\"data row3 col5\" >0.1524</td>\n",
              "                        <td id=\"T_6abb2914_f399_11ea_a8e4_0242ac1c0002row3_col6\" class=\"data row3 col6\" >0.1187</td>\n",
              "                        <td id=\"T_6abb2914_f399_11ea_a8e4_0242ac1c0002row3_col7\" class=\"data row3 col7\" >0.0373</td>\n",
              "            </tr>\n",
              "            <tr>\n",
              "                        <th id=\"T_6abb2914_f399_11ea_a8e4_0242ac1c0002level0_row4\" class=\"row_heading level0 row4\" >4</th>\n",
              "                        <td id=\"T_6abb2914_f399_11ea_a8e4_0242ac1c0002row4_col0\" class=\"data row4 col0\" >Random Forest</td>\n",
              "                        <td id=\"T_6abb2914_f399_11ea_a8e4_0242ac1c0002row4_col1\" class=\"data row4 col1\" >2.4296</td>\n",
              "                        <td id=\"T_6abb2914_f399_11ea_a8e4_0242ac1c0002row4_col2\" class=\"data row4 col2\" >15.0522</td>\n",
              "                        <td id=\"T_6abb2914_f399_11ea_a8e4_0242ac1c0002row4_col3\" class=\"data row4 col3\" >3.7625</td>\n",
              "                        <td id=\"T_6abb2914_f399_11ea_a8e4_0242ac1c0002row4_col4\" class=\"data row4 col4\" >0.8076</td>\n",
              "                        <td id=\"T_6abb2914_f399_11ea_a8e4_0242ac1c0002row4_col5\" class=\"data row4 col5\" >0.1578</td>\n",
              "                        <td id=\"T_6abb2914_f399_11ea_a8e4_0242ac1c0002row4_col6\" class=\"data row4 col6\" >0.1185</td>\n",
              "                        <td id=\"T_6abb2914_f399_11ea_a8e4_0242ac1c0002row4_col7\" class=\"data row4 col7\" >0.3169</td>\n",
              "            </tr>\n",
              "            <tr>\n",
              "                        <th id=\"T_6abb2914_f399_11ea_a8e4_0242ac1c0002level0_row5\" class=\"row_heading level0 row5\" >5</th>\n",
              "                        <td id=\"T_6abb2914_f399_11ea_a8e4_0242ac1c0002row5_col0\" class=\"data row5 col0\" >Light Gradient Boosting Machine</td>\n",
              "                        <td id=\"T_6abb2914_f399_11ea_a8e4_0242ac1c0002row5_col1\" class=\"data row5 col1\" >2.6368</td>\n",
              "                        <td id=\"T_6abb2914_f399_11ea_a8e4_0242ac1c0002row5_col2\" class=\"data row5 col2\" >15.1530</td>\n",
              "                        <td id=\"T_6abb2914_f399_11ea_a8e4_0242ac1c0002row5_col3\" class=\"data row5 col3\" >3.8414</td>\n",
              "                        <td id=\"T_6abb2914_f399_11ea_a8e4_0242ac1c0002row5_col4\" class=\"data row5 col4\" >0.8032</td>\n",
              "                        <td id=\"T_6abb2914_f399_11ea_a8e4_0242ac1c0002row5_col5\" class=\"data row5 col5\" >0.1622</td>\n",
              "                        <td id=\"T_6abb2914_f399_11ea_a8e4_0242ac1c0002row5_col6\" class=\"data row5 col6\" >0.1261</td>\n",
              "                        <td id=\"T_6abb2914_f399_11ea_a8e4_0242ac1c0002row5_col7\" class=\"data row5 col7\" >0.0304</td>\n",
              "            </tr>\n",
              "            <tr>\n",
              "                        <th id=\"T_6abb2914_f399_11ea_a8e4_0242ac1c0002level0_row6\" class=\"row_heading level0 row6\" >6</th>\n",
              "                        <td id=\"T_6abb2914_f399_11ea_a8e4_0242ac1c0002row6_col0\" class=\"data row6 col0\" >AdaBoost Regressor</td>\n",
              "                        <td id=\"T_6abb2914_f399_11ea_a8e4_0242ac1c0002row6_col1\" class=\"data row6 col1\" >2.7918</td>\n",
              "                        <td id=\"T_6abb2914_f399_11ea_a8e4_0242ac1c0002row6_col2\" class=\"data row6 col2\" >17.7613</td>\n",
              "                        <td id=\"T_6abb2914_f399_11ea_a8e4_0242ac1c0002row6_col3\" class=\"data row6 col3\" >4.1531</td>\n",
              "                        <td id=\"T_6abb2914_f399_11ea_a8e4_0242ac1c0002row6_col4\" class=\"data row6 col4\" >0.7702</td>\n",
              "                        <td id=\"T_6abb2914_f399_11ea_a8e4_0242ac1c0002row6_col5\" class=\"data row6 col5\" >0.1818</td>\n",
              "                        <td id=\"T_6abb2914_f399_11ea_a8e4_0242ac1c0002row6_col6\" class=\"data row6 col6\" >0.1425</td>\n",
              "                        <td id=\"T_6abb2914_f399_11ea_a8e4_0242ac1c0002row6_col7\" class=\"data row6 col7\" >0.0998</td>\n",
              "            </tr>\n",
              "            <tr>\n",
              "                        <th id=\"T_6abb2914_f399_11ea_a8e4_0242ac1c0002level0_row7\" class=\"row_heading level0 row7\" >7</th>\n",
              "                        <td id=\"T_6abb2914_f399_11ea_a8e4_0242ac1c0002row7_col0\" class=\"data row7 col0\" >Linear Regression</td>\n",
              "                        <td id=\"T_6abb2914_f399_11ea_a8e4_0242ac1c0002row7_col1\" class=\"data row7 col1\" >3.2325</td>\n",
              "                        <td id=\"T_6abb2914_f399_11ea_a8e4_0242ac1c0002row7_col2\" class=\"data row7 col2\" >23.2528</td>\n",
              "                        <td id=\"T_6abb2914_f399_11ea_a8e4_0242ac1c0002row7_col3\" class=\"data row7 col3\" >4.7739</td>\n",
              "                        <td id=\"T_6abb2914_f399_11ea_a8e4_0242ac1c0002row7_col4\" class=\"data row7 col4\" >0.7028</td>\n",
              "                        <td id=\"T_6abb2914_f399_11ea_a8e4_0242ac1c0002row7_col5\" class=\"data row7 col5\" >0.2439</td>\n",
              "                        <td id=\"T_6abb2914_f399_11ea_a8e4_0242ac1c0002row7_col6\" class=\"data row7 col6\" >0.1640</td>\n",
              "                        <td id=\"T_6abb2914_f399_11ea_a8e4_0242ac1c0002row7_col7\" class=\"data row7 col7\" >0.0055</td>\n",
              "            </tr>\n",
              "            <tr>\n",
              "                        <th id=\"T_6abb2914_f399_11ea_a8e4_0242ac1c0002level0_row8\" class=\"row_heading level0 row8\" >8</th>\n",
              "                        <td id=\"T_6abb2914_f399_11ea_a8e4_0242ac1c0002row8_col0\" class=\"data row8 col0\" >Ridge Regression</td>\n",
              "                        <td id=\"T_6abb2914_f399_11ea_a8e4_0242ac1c0002row8_col1\" class=\"data row8 col1\" >3.2106</td>\n",
              "                        <td id=\"T_6abb2914_f399_11ea_a8e4_0242ac1c0002row8_col2\" class=\"data row8 col2\" >23.4490</td>\n",
              "                        <td id=\"T_6abb2914_f399_11ea_a8e4_0242ac1c0002row8_col3\" class=\"data row8 col3\" >4.7964</td>\n",
              "                        <td id=\"T_6abb2914_f399_11ea_a8e4_0242ac1c0002row8_col4\" class=\"data row8 col4\" >0.7002</td>\n",
              "                        <td id=\"T_6abb2914_f399_11ea_a8e4_0242ac1c0002row8_col5\" class=\"data row8 col5\" >0.2443</td>\n",
              "                        <td id=\"T_6abb2914_f399_11ea_a8e4_0242ac1c0002row8_col6\" class=\"data row8 col6\" >0.1635</td>\n",
              "                        <td id=\"T_6abb2914_f399_11ea_a8e4_0242ac1c0002row8_col7\" class=\"data row8 col7\" >0.0053</td>\n",
              "            </tr>\n",
              "            <tr>\n",
              "                        <th id=\"T_6abb2914_f399_11ea_a8e4_0242ac1c0002level0_row9\" class=\"row_heading level0 row9\" >9</th>\n",
              "                        <td id=\"T_6abb2914_f399_11ea_a8e4_0242ac1c0002row9_col0\" class=\"data row9 col0\" >Random Sample Consensus</td>\n",
              "                        <td id=\"T_6abb2914_f399_11ea_a8e4_0242ac1c0002row9_col1\" class=\"data row9 col1\" >3.0153</td>\n",
              "                        <td id=\"T_6abb2914_f399_11ea_a8e4_0242ac1c0002row9_col2\" class=\"data row9 col2\" >23.4844</td>\n",
              "                        <td id=\"T_6abb2914_f399_11ea_a8e4_0242ac1c0002row9_col3\" class=\"data row9 col3\" >4.7902</td>\n",
              "                        <td id=\"T_6abb2914_f399_11ea_a8e4_0242ac1c0002row9_col4\" class=\"data row9 col4\" >0.6994</td>\n",
              "                        <td id=\"T_6abb2914_f399_11ea_a8e4_0242ac1c0002row9_col5\" class=\"data row9 col5\" >0.2307</td>\n",
              "                        <td id=\"T_6abb2914_f399_11ea_a8e4_0242ac1c0002row9_col6\" class=\"data row9 col6\" >0.1462</td>\n",
              "                        <td id=\"T_6abb2914_f399_11ea_a8e4_0242ac1c0002row9_col7\" class=\"data row9 col7\" >0.0952</td>\n",
              "            </tr>\n",
              "            <tr>\n",
              "                        <th id=\"T_6abb2914_f399_11ea_a8e4_0242ac1c0002level0_row10\" class=\"row_heading level0 row10\" >10</th>\n",
              "                        <td id=\"T_6abb2914_f399_11ea_a8e4_0242ac1c0002row10_col0\" class=\"data row10 col0\" >Bayesian Ridge</td>\n",
              "                        <td id=\"T_6abb2914_f399_11ea_a8e4_0242ac1c0002row10_col1\" class=\"data row10 col1\" >3.2371</td>\n",
              "                        <td id=\"T_6abb2914_f399_11ea_a8e4_0242ac1c0002row10_col2\" class=\"data row10 col2\" >24.2704</td>\n",
              "                        <td id=\"T_6abb2914_f399_11ea_a8e4_0242ac1c0002row10_col3\" class=\"data row10 col3\" >4.8928</td>\n",
              "                        <td id=\"T_6abb2914_f399_11ea_a8e4_0242ac1c0002row10_col4\" class=\"data row10 col4\" >0.6885</td>\n",
              "                        <td id=\"T_6abb2914_f399_11ea_a8e4_0242ac1c0002row10_col5\" class=\"data row10 col5\" >0.2479</td>\n",
              "                        <td id=\"T_6abb2914_f399_11ea_a8e4_0242ac1c0002row10_col6\" class=\"data row10 col6\" >0.1643</td>\n",
              "                        <td id=\"T_6abb2914_f399_11ea_a8e4_0242ac1c0002row10_col7\" class=\"data row10 col7\" >0.0067</td>\n",
              "            </tr>\n",
              "            <tr>\n",
              "                        <th id=\"T_6abb2914_f399_11ea_a8e4_0242ac1c0002level0_row11\" class=\"row_heading level0 row11\" >11</th>\n",
              "                        <td id=\"T_6abb2914_f399_11ea_a8e4_0242ac1c0002row11_col0\" class=\"data row11 col0\" >Decision Tree</td>\n",
              "                        <td id=\"T_6abb2914_f399_11ea_a8e4_0242ac1c0002row11_col1\" class=\"data row11 col1\" >3.2777</td>\n",
              "                        <td id=\"T_6abb2914_f399_11ea_a8e4_0242ac1c0002row11_col2\" class=\"data row11 col2\" >24.0336</td>\n",
              "                        <td id=\"T_6abb2914_f399_11ea_a8e4_0242ac1c0002row11_col3\" class=\"data row11 col3\" >4.8314</td>\n",
              "                        <td id=\"T_6abb2914_f399_11ea_a8e4_0242ac1c0002row11_col4\" class=\"data row11 col4\" >0.6849</td>\n",
              "                        <td id=\"T_6abb2914_f399_11ea_a8e4_0242ac1c0002row11_col5\" class=\"data row11 col5\" >0.2024</td>\n",
              "                        <td id=\"T_6abb2914_f399_11ea_a8e4_0242ac1c0002row11_col6\" class=\"data row11 col6\" >0.1542</td>\n",
              "                        <td id=\"T_6abb2914_f399_11ea_a8e4_0242ac1c0002row11_col7\" class=\"data row11 col7\" >0.0086</td>\n",
              "            </tr>\n",
              "            <tr>\n",
              "                        <th id=\"T_6abb2914_f399_11ea_a8e4_0242ac1c0002level0_row12\" class=\"row_heading level0 row12\" >12</th>\n",
              "                        <td id=\"T_6abb2914_f399_11ea_a8e4_0242ac1c0002row12_col0\" class=\"data row12 col0\" >Elastic Net</td>\n",
              "                        <td id=\"T_6abb2914_f399_11ea_a8e4_0242ac1c0002row12_col1\" class=\"data row12 col1\" >3.7070</td>\n",
              "                        <td id=\"T_6abb2914_f399_11ea_a8e4_0242ac1c0002row12_col2\" class=\"data row12 col2\" >29.7015</td>\n",
              "                        <td id=\"T_6abb2914_f399_11ea_a8e4_0242ac1c0002row12_col3\" class=\"data row12 col3\" >5.4346</td>\n",
              "                        <td id=\"T_6abb2914_f399_11ea_a8e4_0242ac1c0002row12_col4\" class=\"data row12 col4\" >0.6156</td>\n",
              "                        <td id=\"T_6abb2914_f399_11ea_a8e4_0242ac1c0002row12_col5\" class=\"data row12 col5\" >0.2745</td>\n",
              "                        <td id=\"T_6abb2914_f399_11ea_a8e4_0242ac1c0002row12_col6\" class=\"data row12 col6\" >0.1804</td>\n",
              "                        <td id=\"T_6abb2914_f399_11ea_a8e4_0242ac1c0002row12_col7\" class=\"data row12 col7\" >0.0058</td>\n",
              "            </tr>\n",
              "            <tr>\n",
              "                        <th id=\"T_6abb2914_f399_11ea_a8e4_0242ac1c0002level0_row13\" class=\"row_heading level0 row13\" >13</th>\n",
              "                        <td id=\"T_6abb2914_f399_11ea_a8e4_0242ac1c0002row13_col0\" class=\"data row13 col0\" >Lasso Regression</td>\n",
              "                        <td id=\"T_6abb2914_f399_11ea_a8e4_0242ac1c0002row13_col1\" class=\"data row13 col1\" >3.7390</td>\n",
              "                        <td id=\"T_6abb2914_f399_11ea_a8e4_0242ac1c0002row13_col2\" class=\"data row13 col2\" >30.7048</td>\n",
              "                        <td id=\"T_6abb2914_f399_11ea_a8e4_0242ac1c0002row13_col3\" class=\"data row13 col3\" >5.5244</td>\n",
              "                        <td id=\"T_6abb2914_f399_11ea_a8e4_0242ac1c0002row13_col4\" class=\"data row13 col4\" >0.6026</td>\n",
              "                        <td id=\"T_6abb2914_f399_11ea_a8e4_0242ac1c0002row13_col5\" class=\"data row13 col5\" >0.2768</td>\n",
              "                        <td id=\"T_6abb2914_f399_11ea_a8e4_0242ac1c0002row13_col6\" class=\"data row13 col6\" >0.1812</td>\n",
              "                        <td id=\"T_6abb2914_f399_11ea_a8e4_0242ac1c0002row13_col7\" class=\"data row13 col7\" >0.0064</td>\n",
              "            </tr>\n",
              "            <tr>\n",
              "                        <th id=\"T_6abb2914_f399_11ea_a8e4_0242ac1c0002level0_row14\" class=\"row_heading level0 row14\" >14</th>\n",
              "                        <td id=\"T_6abb2914_f399_11ea_a8e4_0242ac1c0002row14_col0\" class=\"data row14 col0\" >Least Angle Regression</td>\n",
              "                        <td id=\"T_6abb2914_f399_11ea_a8e4_0242ac1c0002row14_col1\" class=\"data row14 col1\" >3.8454</td>\n",
              "                        <td id=\"T_6abb2914_f399_11ea_a8e4_0242ac1c0002row14_col2\" class=\"data row14 col2\" >31.7847</td>\n",
              "                        <td id=\"T_6abb2914_f399_11ea_a8e4_0242ac1c0002row14_col3\" class=\"data row14 col3\" >5.4775</td>\n",
              "                        <td id=\"T_6abb2914_f399_11ea_a8e4_0242ac1c0002row14_col4\" class=\"data row14 col4\" >0.5976</td>\n",
              "                        <td id=\"T_6abb2914_f399_11ea_a8e4_0242ac1c0002row14_col5\" class=\"data row14 col5\" >0.2922</td>\n",
              "                        <td id=\"T_6abb2914_f399_11ea_a8e4_0242ac1c0002row14_col6\" class=\"data row14 col6\" >0.1946</td>\n",
              "                        <td id=\"T_6abb2914_f399_11ea_a8e4_0242ac1c0002row14_col7\" class=\"data row14 col7\" >0.0112</td>\n",
              "            </tr>\n",
              "            <tr>\n",
              "                        <th id=\"T_6abb2914_f399_11ea_a8e4_0242ac1c0002level0_row15\" class=\"row_heading level0 row15\" >15</th>\n",
              "                        <td id=\"T_6abb2914_f399_11ea_a8e4_0242ac1c0002row15_col0\" class=\"data row15 col0\" >Huber Regressor</td>\n",
              "                        <td id=\"T_6abb2914_f399_11ea_a8e4_0242ac1c0002row15_col1\" class=\"data row15 col1\" >3.6977</td>\n",
              "                        <td id=\"T_6abb2914_f399_11ea_a8e4_0242ac1c0002row15_col2\" class=\"data row15 col2\" >31.6257</td>\n",
              "                        <td id=\"T_6abb2914_f399_11ea_a8e4_0242ac1c0002row15_col3\" class=\"data row15 col3\" >5.5583</td>\n",
              "                        <td id=\"T_6abb2914_f399_11ea_a8e4_0242ac1c0002row15_col4\" class=\"data row15 col4\" >0.5966</td>\n",
              "                        <td id=\"T_6abb2914_f399_11ea_a8e4_0242ac1c0002row15_col5\" class=\"data row15 col5\" >0.2822</td>\n",
              "                        <td id=\"T_6abb2914_f399_11ea_a8e4_0242ac1c0002row15_col6\" class=\"data row15 col6\" >0.1810</td>\n",
              "                        <td id=\"T_6abb2914_f399_11ea_a8e4_0242ac1c0002row15_col7\" class=\"data row15 col7\" >0.0321</td>\n",
              "            </tr>\n",
              "            <tr>\n",
              "                        <th id=\"T_6abb2914_f399_11ea_a8e4_0242ac1c0002level0_row16\" class=\"row_heading level0 row16\" >16</th>\n",
              "                        <td id=\"T_6abb2914_f399_11ea_a8e4_0242ac1c0002row16_col0\" class=\"data row16 col0\" >Orthogonal Matching Pursuit</td>\n",
              "                        <td id=\"T_6abb2914_f399_11ea_a8e4_0242ac1c0002row16_col1\" class=\"data row16 col1\" >4.0958</td>\n",
              "                        <td id=\"T_6abb2914_f399_11ea_a8e4_0242ac1c0002row16_col2\" class=\"data row16 col2\" >38.7342</td>\n",
              "                        <td id=\"T_6abb2914_f399_11ea_a8e4_0242ac1c0002row16_col3\" class=\"data row16 col3\" >6.1475</td>\n",
              "                        <td id=\"T_6abb2914_f399_11ea_a8e4_0242ac1c0002row16_col4\" class=\"data row16 col4\" >0.5053</td>\n",
              "                        <td id=\"T_6abb2914_f399_11ea_a8e4_0242ac1c0002row16_col5\" class=\"data row16 col5\" >0.3418</td>\n",
              "                        <td id=\"T_6abb2914_f399_11ea_a8e4_0242ac1c0002row16_col6\" class=\"data row16 col6\" >0.2091</td>\n",
              "                        <td id=\"T_6abb2914_f399_11ea_a8e4_0242ac1c0002row16_col7\" class=\"data row16 col7\" >0.0051</td>\n",
              "            </tr>\n",
              "            <tr>\n",
              "                        <th id=\"T_6abb2914_f399_11ea_a8e4_0242ac1c0002level0_row17\" class=\"row_heading level0 row17\" >17</th>\n",
              "                        <td id=\"T_6abb2914_f399_11ea_a8e4_0242ac1c0002row17_col0\" class=\"data row17 col0\" >K Neighbors Regressor</td>\n",
              "                        <td id=\"T_6abb2914_f399_11ea_a8e4_0242ac1c0002row17_col1\" class=\"data row17 col1\" >4.6994</td>\n",
              "                        <td id=\"T_6abb2914_f399_11ea_a8e4_0242ac1c0002row17_col2\" class=\"data row17 col2\" >48.0262</td>\n",
              "                        <td id=\"T_6abb2914_f399_11ea_a8e4_0242ac1c0002row17_col3\" class=\"data row17 col3\" >6.9269</td>\n",
              "                        <td id=\"T_6abb2914_f399_11ea_a8e4_0242ac1c0002row17_col4\" class=\"data row17 col4\" >0.3726</td>\n",
              "                        <td id=\"T_6abb2914_f399_11ea_a8e4_0242ac1c0002row17_col5\" class=\"data row17 col5\" >0.2660</td>\n",
              "                        <td id=\"T_6abb2914_f399_11ea_a8e4_0242ac1c0002row17_col6\" class=\"data row17 col6\" >0.2211</td>\n",
              "                        <td id=\"T_6abb2914_f399_11ea_a8e4_0242ac1c0002row17_col7\" class=\"data row17 col7\" >0.0048</td>\n",
              "            </tr>\n",
              "            <tr>\n",
              "                        <th id=\"T_6abb2914_f399_11ea_a8e4_0242ac1c0002level0_row18\" class=\"row_heading level0 row18\" >18</th>\n",
              "                        <td id=\"T_6abb2914_f399_11ea_a8e4_0242ac1c0002row18_col0\" class=\"data row18 col0\" >Support Vector Machine</td>\n",
              "                        <td id=\"T_6abb2914_f399_11ea_a8e4_0242ac1c0002row18_col1\" class=\"data row18 col1\" >5.2284</td>\n",
              "                        <td id=\"T_6abb2914_f399_11ea_a8e4_0242ac1c0002row18_col2\" class=\"data row18 col2\" >64.4146</td>\n",
              "                        <td id=\"T_6abb2914_f399_11ea_a8e4_0242ac1c0002row18_col3\" class=\"data row18 col3\" >8.0048</td>\n",
              "                        <td id=\"T_6abb2914_f399_11ea_a8e4_0242ac1c0002row18_col4\" class=\"data row18 col4\" >0.1650</td>\n",
              "                        <td id=\"T_6abb2914_f399_11ea_a8e4_0242ac1c0002row18_col5\" class=\"data row18 col5\" >0.3097</td>\n",
              "                        <td id=\"T_6abb2914_f399_11ea_a8e4_0242ac1c0002row18_col6\" class=\"data row18 col6\" >0.2370</td>\n",
              "                        <td id=\"T_6abb2914_f399_11ea_a8e4_0242ac1c0002row18_col7\" class=\"data row18 col7\" >0.0121</td>\n",
              "            </tr>\n",
              "            <tr>\n",
              "                        <th id=\"T_6abb2914_f399_11ea_a8e4_0242ac1c0002level0_row19\" class=\"row_heading level0 row19\" >19</th>\n",
              "                        <td id=\"T_6abb2914_f399_11ea_a8e4_0242ac1c0002row19_col0\" class=\"data row19 col0\" >Lasso Least Angle Regression</td>\n",
              "                        <td id=\"T_6abb2914_f399_11ea_a8e4_0242ac1c0002row19_col1\" class=\"data row19 col1\" >6.3439</td>\n",
              "                        <td id=\"T_6abb2914_f399_11ea_a8e4_0242ac1c0002row19_col2\" class=\"data row19 col2\" >77.3765</td>\n",
              "                        <td id=\"T_6abb2914_f399_11ea_a8e4_0242ac1c0002row19_col3\" class=\"data row19 col3\" >8.7857</td>\n",
              "                        <td id=\"T_6abb2914_f399_11ea_a8e4_0242ac1c0002row19_col4\" class=\"data row19 col4\" >-0.0057</td>\n",
              "                        <td id=\"T_6abb2914_f399_11ea_a8e4_0242ac1c0002row19_col5\" class=\"data row19 col5\" >0.3743</td>\n",
              "                        <td id=\"T_6abb2914_f399_11ea_a8e4_0242ac1c0002row19_col6\" class=\"data row19 col6\" >0.3396</td>\n",
              "                        <td id=\"T_6abb2914_f399_11ea_a8e4_0242ac1c0002row19_col7\" class=\"data row19 col7\" >0.0046</td>\n",
              "            </tr>\n",
              "            <tr>\n",
              "                        <th id=\"T_6abb2914_f399_11ea_a8e4_0242ac1c0002level0_row20\" class=\"row_heading level0 row20\" >20</th>\n",
              "                        <td id=\"T_6abb2914_f399_11ea_a8e4_0242ac1c0002row20_col0\" class=\"data row20 col0\" >Passive Aggressive Regressor</td>\n",
              "                        <td id=\"T_6abb2914_f399_11ea_a8e4_0242ac1c0002row20_col1\" class=\"data row20 col1\" >10.8111</td>\n",
              "                        <td id=\"T_6abb2914_f399_11ea_a8e4_0242ac1c0002row20_col2\" class=\"data row20 col2\" >198.0863</td>\n",
              "                        <td id=\"T_6abb2914_f399_11ea_a8e4_0242ac1c0002row20_col3\" class=\"data row20 col3\" >13.3037</td>\n",
              "                        <td id=\"T_6abb2914_f399_11ea_a8e4_0242ac1c0002row20_col4\" class=\"data row20 col4\" >-1.5458</td>\n",
              "                        <td id=\"T_6abb2914_f399_11ea_a8e4_0242ac1c0002row20_col5\" class=\"data row20 col5\" >0.5966</td>\n",
              "                        <td id=\"T_6abb2914_f399_11ea_a8e4_0242ac1c0002row20_col6\" class=\"data row20 col6\" >0.5912</td>\n",
              "                        <td id=\"T_6abb2914_f399_11ea_a8e4_0242ac1c0002row20_col7\" class=\"data row20 col7\" >0.0063</td>\n",
              "            </tr>\n",
              "    </tbody></table>"
            ],
            "text/plain": [
              "<pandas.io.formats.style.Styler at 0x7f38b6392b38>"
            ]
          },
          "metadata": {
            "tags": []
          }
        },
        {
          "output_type": "stream",
          "text": [
            "CPU times: user 1min 9s, sys: 4.81 s, total: 1min 14s\n",
            "Wall time: 3min 25s\n"
          ],
          "name": "stdout"
        }
      ]
    },
    {
      "cell_type": "code",
      "metadata": {
        "id": "zACh5gxXgOlG",
        "colab_type": "code",
        "colab": {
          "base_uri": "https://localhost:8080/",
          "height": 651,
          "referenced_widgets": [
            "6e0f37403f064f03aa1352ecd0882b20",
            "a5a238010383462c9dd52b5805eb91e9",
            "9f0a8bff232e42f78f1a3d5683d36b73",
            "e8f60f5056b54a4e89961cb959cc2a80",
            "1a73c69ec8a545689ddcad3b89bb1c32",
            "53046d8a77ab41d9a6eaa174c9626fde",
            "752c3a7905ba4a39a4f922078fcecfad",
            "1abd396573184be68f81ab5f192faaef",
            "aed378a14bbf494f8e2a51e1b86129fa"
          ]
        },
        "outputId": "68cc492d-dbc8-4606-ee4f-970bcb75c720"
      },
      "source": [
        "%%time\n",
        "# init setup\n",
        "reg1 = setup(data, target = 'media') \n",
        "\n",
        "# validação cruzada 3-fold\n",
        "best_specific = compare_models(fold=3, n_select = 5, blacklist = ['tr']) "
      ],
      "execution_count": 51,
      "outputs": [
        {
          "output_type": "display_data",
          "data": {
            "text/html": [
              "<style  type=\"text/css\" >\n",
              "    #T_8c24f166_f399_11ea_a8e4_0242ac1c0002 th {\n",
              "          text-align: left;\n",
              "    }    #T_8c24f166_f399_11ea_a8e4_0242ac1c0002row0_col0 {\n",
              "            text-align:  left;\n",
              "        }    #T_8c24f166_f399_11ea_a8e4_0242ac1c0002row0_col1 {\n",
              "            background-color:  yellow;\n",
              "            text-align:  left;\n",
              "        }    #T_8c24f166_f399_11ea_a8e4_0242ac1c0002row0_col2 {\n",
              "            background-color:  yellow;\n",
              "            text-align:  left;\n",
              "        }    #T_8c24f166_f399_11ea_a8e4_0242ac1c0002row0_col3 {\n",
              "            background-color:  yellow;\n",
              "            text-align:  left;\n",
              "        }    #T_8c24f166_f399_11ea_a8e4_0242ac1c0002row0_col4 {\n",
              "            background-color:  yellow;\n",
              "            text-align:  left;\n",
              "        }    #T_8c24f166_f399_11ea_a8e4_0242ac1c0002row0_col5 {\n",
              "            background-color:  yellow;\n",
              "            text-align:  left;\n",
              "        }    #T_8c24f166_f399_11ea_a8e4_0242ac1c0002row0_col6 {\n",
              "            : ;\n",
              "            text-align:  left;\n",
              "        }    #T_8c24f166_f399_11ea_a8e4_0242ac1c0002row0_col7 {\n",
              "            background-color:  lightgrey;\n",
              "            text-align:  left;\n",
              "        }    #T_8c24f166_f399_11ea_a8e4_0242ac1c0002row1_col0 {\n",
              "            text-align:  left;\n",
              "        }    #T_8c24f166_f399_11ea_a8e4_0242ac1c0002row1_col1 {\n",
              "            : ;\n",
              "            text-align:  left;\n",
              "        }    #T_8c24f166_f399_11ea_a8e4_0242ac1c0002row1_col2 {\n",
              "            : ;\n",
              "            text-align:  left;\n",
              "        }    #T_8c24f166_f399_11ea_a8e4_0242ac1c0002row1_col3 {\n",
              "            : ;\n",
              "            text-align:  left;\n",
              "        }    #T_8c24f166_f399_11ea_a8e4_0242ac1c0002row1_col4 {\n",
              "            : ;\n",
              "            text-align:  left;\n",
              "        }    #T_8c24f166_f399_11ea_a8e4_0242ac1c0002row1_col5 {\n",
              "            : ;\n",
              "            text-align:  left;\n",
              "        }    #T_8c24f166_f399_11ea_a8e4_0242ac1c0002row1_col6 {\n",
              "            : ;\n",
              "            text-align:  left;\n",
              "        }    #T_8c24f166_f399_11ea_a8e4_0242ac1c0002row1_col7 {\n",
              "            background-color:  lightgrey;\n",
              "            text-align:  left;\n",
              "        }    #T_8c24f166_f399_11ea_a8e4_0242ac1c0002row2_col0 {\n",
              "            text-align:  left;\n",
              "        }    #T_8c24f166_f399_11ea_a8e4_0242ac1c0002row2_col1 {\n",
              "            : ;\n",
              "            text-align:  left;\n",
              "        }    #T_8c24f166_f399_11ea_a8e4_0242ac1c0002row2_col2 {\n",
              "            : ;\n",
              "            text-align:  left;\n",
              "        }    #T_8c24f166_f399_11ea_a8e4_0242ac1c0002row2_col3 {\n",
              "            : ;\n",
              "            text-align:  left;\n",
              "        }    #T_8c24f166_f399_11ea_a8e4_0242ac1c0002row2_col4 {\n",
              "            : ;\n",
              "            text-align:  left;\n",
              "        }    #T_8c24f166_f399_11ea_a8e4_0242ac1c0002row2_col5 {\n",
              "            : ;\n",
              "            text-align:  left;\n",
              "        }    #T_8c24f166_f399_11ea_a8e4_0242ac1c0002row2_col6 {\n",
              "            : ;\n",
              "            text-align:  left;\n",
              "        }    #T_8c24f166_f399_11ea_a8e4_0242ac1c0002row2_col7 {\n",
              "            background-color:  lightgrey;\n",
              "            text-align:  left;\n",
              "        }    #T_8c24f166_f399_11ea_a8e4_0242ac1c0002row3_col0 {\n",
              "            text-align:  left;\n",
              "        }    #T_8c24f166_f399_11ea_a8e4_0242ac1c0002row3_col1 {\n",
              "            : ;\n",
              "            text-align:  left;\n",
              "        }    #T_8c24f166_f399_11ea_a8e4_0242ac1c0002row3_col2 {\n",
              "            : ;\n",
              "            text-align:  left;\n",
              "        }    #T_8c24f166_f399_11ea_a8e4_0242ac1c0002row3_col3 {\n",
              "            : ;\n",
              "            text-align:  left;\n",
              "        }    #T_8c24f166_f399_11ea_a8e4_0242ac1c0002row3_col4 {\n",
              "            : ;\n",
              "            text-align:  left;\n",
              "        }    #T_8c24f166_f399_11ea_a8e4_0242ac1c0002row3_col5 {\n",
              "            : ;\n",
              "            text-align:  left;\n",
              "        }    #T_8c24f166_f399_11ea_a8e4_0242ac1c0002row3_col6 {\n",
              "            background-color:  yellow;\n",
              "            text-align:  left;\n",
              "        }    #T_8c24f166_f399_11ea_a8e4_0242ac1c0002row3_col7 {\n",
              "            background-color:  lightgrey;\n",
              "            text-align:  left;\n",
              "        }    #T_8c24f166_f399_11ea_a8e4_0242ac1c0002row4_col0 {\n",
              "            text-align:  left;\n",
              "        }    #T_8c24f166_f399_11ea_a8e4_0242ac1c0002row4_col1 {\n",
              "            : ;\n",
              "            text-align:  left;\n",
              "        }    #T_8c24f166_f399_11ea_a8e4_0242ac1c0002row4_col2 {\n",
              "            : ;\n",
              "            text-align:  left;\n",
              "        }    #T_8c24f166_f399_11ea_a8e4_0242ac1c0002row4_col3 {\n",
              "            : ;\n",
              "            text-align:  left;\n",
              "        }    #T_8c24f166_f399_11ea_a8e4_0242ac1c0002row4_col4 {\n",
              "            : ;\n",
              "            text-align:  left;\n",
              "        }    #T_8c24f166_f399_11ea_a8e4_0242ac1c0002row4_col5 {\n",
              "            : ;\n",
              "            text-align:  left;\n",
              "        }    #T_8c24f166_f399_11ea_a8e4_0242ac1c0002row4_col6 {\n",
              "            : ;\n",
              "            text-align:  left;\n",
              "        }    #T_8c24f166_f399_11ea_a8e4_0242ac1c0002row4_col7 {\n",
              "            background-color:  lightgrey;\n",
              "            text-align:  left;\n",
              "        }    #T_8c24f166_f399_11ea_a8e4_0242ac1c0002row5_col0 {\n",
              "            text-align:  left;\n",
              "        }    #T_8c24f166_f399_11ea_a8e4_0242ac1c0002row5_col1 {\n",
              "            : ;\n",
              "            text-align:  left;\n",
              "        }    #T_8c24f166_f399_11ea_a8e4_0242ac1c0002row5_col2 {\n",
              "            : ;\n",
              "            text-align:  left;\n",
              "        }    #T_8c24f166_f399_11ea_a8e4_0242ac1c0002row5_col3 {\n",
              "            : ;\n",
              "            text-align:  left;\n",
              "        }    #T_8c24f166_f399_11ea_a8e4_0242ac1c0002row5_col4 {\n",
              "            : ;\n",
              "            text-align:  left;\n",
              "        }    #T_8c24f166_f399_11ea_a8e4_0242ac1c0002row5_col5 {\n",
              "            : ;\n",
              "            text-align:  left;\n",
              "        }    #T_8c24f166_f399_11ea_a8e4_0242ac1c0002row5_col6 {\n",
              "            : ;\n",
              "            text-align:  left;\n",
              "        }    #T_8c24f166_f399_11ea_a8e4_0242ac1c0002row5_col7 {\n",
              "            background-color:  lightgrey;\n",
              "            text-align:  left;\n",
              "        }    #T_8c24f166_f399_11ea_a8e4_0242ac1c0002row6_col0 {\n",
              "            text-align:  left;\n",
              "        }    #T_8c24f166_f399_11ea_a8e4_0242ac1c0002row6_col1 {\n",
              "            : ;\n",
              "            text-align:  left;\n",
              "        }    #T_8c24f166_f399_11ea_a8e4_0242ac1c0002row6_col2 {\n",
              "            : ;\n",
              "            text-align:  left;\n",
              "        }    #T_8c24f166_f399_11ea_a8e4_0242ac1c0002row6_col3 {\n",
              "            : ;\n",
              "            text-align:  left;\n",
              "        }    #T_8c24f166_f399_11ea_a8e4_0242ac1c0002row6_col4 {\n",
              "            : ;\n",
              "            text-align:  left;\n",
              "        }    #T_8c24f166_f399_11ea_a8e4_0242ac1c0002row6_col5 {\n",
              "            : ;\n",
              "            text-align:  left;\n",
              "        }    #T_8c24f166_f399_11ea_a8e4_0242ac1c0002row6_col6 {\n",
              "            : ;\n",
              "            text-align:  left;\n",
              "        }    #T_8c24f166_f399_11ea_a8e4_0242ac1c0002row6_col7 {\n",
              "            background-color:  lightgrey;\n",
              "            text-align:  left;\n",
              "        }    #T_8c24f166_f399_11ea_a8e4_0242ac1c0002row7_col0 {\n",
              "            text-align:  left;\n",
              "        }    #T_8c24f166_f399_11ea_a8e4_0242ac1c0002row7_col1 {\n",
              "            : ;\n",
              "            text-align:  left;\n",
              "        }    #T_8c24f166_f399_11ea_a8e4_0242ac1c0002row7_col2 {\n",
              "            : ;\n",
              "            text-align:  left;\n",
              "        }    #T_8c24f166_f399_11ea_a8e4_0242ac1c0002row7_col3 {\n",
              "            : ;\n",
              "            text-align:  left;\n",
              "        }    #T_8c24f166_f399_11ea_a8e4_0242ac1c0002row7_col4 {\n",
              "            : ;\n",
              "            text-align:  left;\n",
              "        }    #T_8c24f166_f399_11ea_a8e4_0242ac1c0002row7_col5 {\n",
              "            : ;\n",
              "            text-align:  left;\n",
              "        }    #T_8c24f166_f399_11ea_a8e4_0242ac1c0002row7_col6 {\n",
              "            : ;\n",
              "            text-align:  left;\n",
              "        }    #T_8c24f166_f399_11ea_a8e4_0242ac1c0002row7_col7 {\n",
              "            background-color:  lightgrey;\n",
              "            text-align:  left;\n",
              "        }    #T_8c24f166_f399_11ea_a8e4_0242ac1c0002row8_col0 {\n",
              "            text-align:  left;\n",
              "        }    #T_8c24f166_f399_11ea_a8e4_0242ac1c0002row8_col1 {\n",
              "            : ;\n",
              "            text-align:  left;\n",
              "        }    #T_8c24f166_f399_11ea_a8e4_0242ac1c0002row8_col2 {\n",
              "            : ;\n",
              "            text-align:  left;\n",
              "        }    #T_8c24f166_f399_11ea_a8e4_0242ac1c0002row8_col3 {\n",
              "            : ;\n",
              "            text-align:  left;\n",
              "        }    #T_8c24f166_f399_11ea_a8e4_0242ac1c0002row8_col4 {\n",
              "            : ;\n",
              "            text-align:  left;\n",
              "        }    #T_8c24f166_f399_11ea_a8e4_0242ac1c0002row8_col5 {\n",
              "            : ;\n",
              "            text-align:  left;\n",
              "        }    #T_8c24f166_f399_11ea_a8e4_0242ac1c0002row8_col6 {\n",
              "            : ;\n",
              "            text-align:  left;\n",
              "        }    #T_8c24f166_f399_11ea_a8e4_0242ac1c0002row8_col7 {\n",
              "            background-color:  lightgrey;\n",
              "            text-align:  left;\n",
              "        }    #T_8c24f166_f399_11ea_a8e4_0242ac1c0002row9_col0 {\n",
              "            text-align:  left;\n",
              "        }    #T_8c24f166_f399_11ea_a8e4_0242ac1c0002row9_col1 {\n",
              "            : ;\n",
              "            text-align:  left;\n",
              "        }    #T_8c24f166_f399_11ea_a8e4_0242ac1c0002row9_col2 {\n",
              "            : ;\n",
              "            text-align:  left;\n",
              "        }    #T_8c24f166_f399_11ea_a8e4_0242ac1c0002row9_col3 {\n",
              "            : ;\n",
              "            text-align:  left;\n",
              "        }    #T_8c24f166_f399_11ea_a8e4_0242ac1c0002row9_col4 {\n",
              "            : ;\n",
              "            text-align:  left;\n",
              "        }    #T_8c24f166_f399_11ea_a8e4_0242ac1c0002row9_col5 {\n",
              "            : ;\n",
              "            text-align:  left;\n",
              "        }    #T_8c24f166_f399_11ea_a8e4_0242ac1c0002row9_col6 {\n",
              "            : ;\n",
              "            text-align:  left;\n",
              "        }    #T_8c24f166_f399_11ea_a8e4_0242ac1c0002row9_col7 {\n",
              "            background-color:  lightgrey;\n",
              "            text-align:  left;\n",
              "        }    #T_8c24f166_f399_11ea_a8e4_0242ac1c0002row10_col0 {\n",
              "            text-align:  left;\n",
              "        }    #T_8c24f166_f399_11ea_a8e4_0242ac1c0002row10_col1 {\n",
              "            : ;\n",
              "            text-align:  left;\n",
              "        }    #T_8c24f166_f399_11ea_a8e4_0242ac1c0002row10_col2 {\n",
              "            : ;\n",
              "            text-align:  left;\n",
              "        }    #T_8c24f166_f399_11ea_a8e4_0242ac1c0002row10_col3 {\n",
              "            : ;\n",
              "            text-align:  left;\n",
              "        }    #T_8c24f166_f399_11ea_a8e4_0242ac1c0002row10_col4 {\n",
              "            : ;\n",
              "            text-align:  left;\n",
              "        }    #T_8c24f166_f399_11ea_a8e4_0242ac1c0002row10_col5 {\n",
              "            : ;\n",
              "            text-align:  left;\n",
              "        }    #T_8c24f166_f399_11ea_a8e4_0242ac1c0002row10_col6 {\n",
              "            : ;\n",
              "            text-align:  left;\n",
              "        }    #T_8c24f166_f399_11ea_a8e4_0242ac1c0002row10_col7 {\n",
              "            background-color:  lightgrey;\n",
              "            text-align:  left;\n",
              "        }    #T_8c24f166_f399_11ea_a8e4_0242ac1c0002row11_col0 {\n",
              "            text-align:  left;\n",
              "        }    #T_8c24f166_f399_11ea_a8e4_0242ac1c0002row11_col1 {\n",
              "            : ;\n",
              "            text-align:  left;\n",
              "        }    #T_8c24f166_f399_11ea_a8e4_0242ac1c0002row11_col2 {\n",
              "            : ;\n",
              "            text-align:  left;\n",
              "        }    #T_8c24f166_f399_11ea_a8e4_0242ac1c0002row11_col3 {\n",
              "            : ;\n",
              "            text-align:  left;\n",
              "        }    #T_8c24f166_f399_11ea_a8e4_0242ac1c0002row11_col4 {\n",
              "            : ;\n",
              "            text-align:  left;\n",
              "        }    #T_8c24f166_f399_11ea_a8e4_0242ac1c0002row11_col5 {\n",
              "            : ;\n",
              "            text-align:  left;\n",
              "        }    #T_8c24f166_f399_11ea_a8e4_0242ac1c0002row11_col6 {\n",
              "            : ;\n",
              "            text-align:  left;\n",
              "        }    #T_8c24f166_f399_11ea_a8e4_0242ac1c0002row11_col7 {\n",
              "            background-color:  lightgrey;\n",
              "            text-align:  left;\n",
              "        }    #T_8c24f166_f399_11ea_a8e4_0242ac1c0002row12_col0 {\n",
              "            text-align:  left;\n",
              "        }    #T_8c24f166_f399_11ea_a8e4_0242ac1c0002row12_col1 {\n",
              "            : ;\n",
              "            text-align:  left;\n",
              "        }    #T_8c24f166_f399_11ea_a8e4_0242ac1c0002row12_col2 {\n",
              "            : ;\n",
              "            text-align:  left;\n",
              "        }    #T_8c24f166_f399_11ea_a8e4_0242ac1c0002row12_col3 {\n",
              "            : ;\n",
              "            text-align:  left;\n",
              "        }    #T_8c24f166_f399_11ea_a8e4_0242ac1c0002row12_col4 {\n",
              "            : ;\n",
              "            text-align:  left;\n",
              "        }    #T_8c24f166_f399_11ea_a8e4_0242ac1c0002row12_col5 {\n",
              "            : ;\n",
              "            text-align:  left;\n",
              "        }    #T_8c24f166_f399_11ea_a8e4_0242ac1c0002row12_col6 {\n",
              "            : ;\n",
              "            text-align:  left;\n",
              "        }    #T_8c24f166_f399_11ea_a8e4_0242ac1c0002row12_col7 {\n",
              "            background-color:  lightgrey;\n",
              "            text-align:  left;\n",
              "        }    #T_8c24f166_f399_11ea_a8e4_0242ac1c0002row13_col0 {\n",
              "            text-align:  left;\n",
              "        }    #T_8c24f166_f399_11ea_a8e4_0242ac1c0002row13_col1 {\n",
              "            : ;\n",
              "            text-align:  left;\n",
              "        }    #T_8c24f166_f399_11ea_a8e4_0242ac1c0002row13_col2 {\n",
              "            : ;\n",
              "            text-align:  left;\n",
              "        }    #T_8c24f166_f399_11ea_a8e4_0242ac1c0002row13_col3 {\n",
              "            : ;\n",
              "            text-align:  left;\n",
              "        }    #T_8c24f166_f399_11ea_a8e4_0242ac1c0002row13_col4 {\n",
              "            : ;\n",
              "            text-align:  left;\n",
              "        }    #T_8c24f166_f399_11ea_a8e4_0242ac1c0002row13_col5 {\n",
              "            : ;\n",
              "            text-align:  left;\n",
              "        }    #T_8c24f166_f399_11ea_a8e4_0242ac1c0002row13_col6 {\n",
              "            : ;\n",
              "            text-align:  left;\n",
              "        }    #T_8c24f166_f399_11ea_a8e4_0242ac1c0002row13_col7 {\n",
              "            background-color:  lightgrey;\n",
              "            text-align:  left;\n",
              "        }    #T_8c24f166_f399_11ea_a8e4_0242ac1c0002row14_col0 {\n",
              "            text-align:  left;\n",
              "        }    #T_8c24f166_f399_11ea_a8e4_0242ac1c0002row14_col1 {\n",
              "            : ;\n",
              "            text-align:  left;\n",
              "        }    #T_8c24f166_f399_11ea_a8e4_0242ac1c0002row14_col2 {\n",
              "            : ;\n",
              "            text-align:  left;\n",
              "        }    #T_8c24f166_f399_11ea_a8e4_0242ac1c0002row14_col3 {\n",
              "            : ;\n",
              "            text-align:  left;\n",
              "        }    #T_8c24f166_f399_11ea_a8e4_0242ac1c0002row14_col4 {\n",
              "            : ;\n",
              "            text-align:  left;\n",
              "        }    #T_8c24f166_f399_11ea_a8e4_0242ac1c0002row14_col5 {\n",
              "            : ;\n",
              "            text-align:  left;\n",
              "        }    #T_8c24f166_f399_11ea_a8e4_0242ac1c0002row14_col6 {\n",
              "            : ;\n",
              "            text-align:  left;\n",
              "        }    #T_8c24f166_f399_11ea_a8e4_0242ac1c0002row14_col7 {\n",
              "            background-color:  lightgrey;\n",
              "            text-align:  left;\n",
              "        }    #T_8c24f166_f399_11ea_a8e4_0242ac1c0002row15_col0 {\n",
              "            text-align:  left;\n",
              "        }    #T_8c24f166_f399_11ea_a8e4_0242ac1c0002row15_col1 {\n",
              "            : ;\n",
              "            text-align:  left;\n",
              "        }    #T_8c24f166_f399_11ea_a8e4_0242ac1c0002row15_col2 {\n",
              "            : ;\n",
              "            text-align:  left;\n",
              "        }    #T_8c24f166_f399_11ea_a8e4_0242ac1c0002row15_col3 {\n",
              "            : ;\n",
              "            text-align:  left;\n",
              "        }    #T_8c24f166_f399_11ea_a8e4_0242ac1c0002row15_col4 {\n",
              "            : ;\n",
              "            text-align:  left;\n",
              "        }    #T_8c24f166_f399_11ea_a8e4_0242ac1c0002row15_col5 {\n",
              "            : ;\n",
              "            text-align:  left;\n",
              "        }    #T_8c24f166_f399_11ea_a8e4_0242ac1c0002row15_col6 {\n",
              "            : ;\n",
              "            text-align:  left;\n",
              "        }    #T_8c24f166_f399_11ea_a8e4_0242ac1c0002row15_col7 {\n",
              "            background-color:  lightgrey;\n",
              "            text-align:  left;\n",
              "        }    #T_8c24f166_f399_11ea_a8e4_0242ac1c0002row16_col0 {\n",
              "            text-align:  left;\n",
              "        }    #T_8c24f166_f399_11ea_a8e4_0242ac1c0002row16_col1 {\n",
              "            : ;\n",
              "            text-align:  left;\n",
              "        }    #T_8c24f166_f399_11ea_a8e4_0242ac1c0002row16_col2 {\n",
              "            : ;\n",
              "            text-align:  left;\n",
              "        }    #T_8c24f166_f399_11ea_a8e4_0242ac1c0002row16_col3 {\n",
              "            : ;\n",
              "            text-align:  left;\n",
              "        }    #T_8c24f166_f399_11ea_a8e4_0242ac1c0002row16_col4 {\n",
              "            : ;\n",
              "            text-align:  left;\n",
              "        }    #T_8c24f166_f399_11ea_a8e4_0242ac1c0002row16_col5 {\n",
              "            : ;\n",
              "            text-align:  left;\n",
              "        }    #T_8c24f166_f399_11ea_a8e4_0242ac1c0002row16_col6 {\n",
              "            : ;\n",
              "            text-align:  left;\n",
              "        }    #T_8c24f166_f399_11ea_a8e4_0242ac1c0002row16_col7 {\n",
              "            background-color:  lightgrey;\n",
              "            text-align:  left;\n",
              "        }    #T_8c24f166_f399_11ea_a8e4_0242ac1c0002row17_col0 {\n",
              "            text-align:  left;\n",
              "        }    #T_8c24f166_f399_11ea_a8e4_0242ac1c0002row17_col1 {\n",
              "            : ;\n",
              "            text-align:  left;\n",
              "        }    #T_8c24f166_f399_11ea_a8e4_0242ac1c0002row17_col2 {\n",
              "            : ;\n",
              "            text-align:  left;\n",
              "        }    #T_8c24f166_f399_11ea_a8e4_0242ac1c0002row17_col3 {\n",
              "            : ;\n",
              "            text-align:  left;\n",
              "        }    #T_8c24f166_f399_11ea_a8e4_0242ac1c0002row17_col4 {\n",
              "            : ;\n",
              "            text-align:  left;\n",
              "        }    #T_8c24f166_f399_11ea_a8e4_0242ac1c0002row17_col5 {\n",
              "            : ;\n",
              "            text-align:  left;\n",
              "        }    #T_8c24f166_f399_11ea_a8e4_0242ac1c0002row17_col6 {\n",
              "            : ;\n",
              "            text-align:  left;\n",
              "        }    #T_8c24f166_f399_11ea_a8e4_0242ac1c0002row17_col7 {\n",
              "            background-color:  lightgrey;\n",
              "            text-align:  left;\n",
              "        }    #T_8c24f166_f399_11ea_a8e4_0242ac1c0002row18_col0 {\n",
              "            text-align:  left;\n",
              "        }    #T_8c24f166_f399_11ea_a8e4_0242ac1c0002row18_col1 {\n",
              "            : ;\n",
              "            text-align:  left;\n",
              "        }    #T_8c24f166_f399_11ea_a8e4_0242ac1c0002row18_col2 {\n",
              "            : ;\n",
              "            text-align:  left;\n",
              "        }    #T_8c24f166_f399_11ea_a8e4_0242ac1c0002row18_col3 {\n",
              "            : ;\n",
              "            text-align:  left;\n",
              "        }    #T_8c24f166_f399_11ea_a8e4_0242ac1c0002row18_col4 {\n",
              "            : ;\n",
              "            text-align:  left;\n",
              "        }    #T_8c24f166_f399_11ea_a8e4_0242ac1c0002row18_col5 {\n",
              "            : ;\n",
              "            text-align:  left;\n",
              "        }    #T_8c24f166_f399_11ea_a8e4_0242ac1c0002row18_col6 {\n",
              "            : ;\n",
              "            text-align:  left;\n",
              "        }    #T_8c24f166_f399_11ea_a8e4_0242ac1c0002row18_col7 {\n",
              "            background-color:  lightgrey;\n",
              "            text-align:  left;\n",
              "        }    #T_8c24f166_f399_11ea_a8e4_0242ac1c0002row19_col0 {\n",
              "            text-align:  left;\n",
              "        }    #T_8c24f166_f399_11ea_a8e4_0242ac1c0002row19_col1 {\n",
              "            : ;\n",
              "            text-align:  left;\n",
              "        }    #T_8c24f166_f399_11ea_a8e4_0242ac1c0002row19_col2 {\n",
              "            : ;\n",
              "            text-align:  left;\n",
              "        }    #T_8c24f166_f399_11ea_a8e4_0242ac1c0002row19_col3 {\n",
              "            : ;\n",
              "            text-align:  left;\n",
              "        }    #T_8c24f166_f399_11ea_a8e4_0242ac1c0002row19_col4 {\n",
              "            : ;\n",
              "            text-align:  left;\n",
              "        }    #T_8c24f166_f399_11ea_a8e4_0242ac1c0002row19_col5 {\n",
              "            : ;\n",
              "            text-align:  left;\n",
              "        }    #T_8c24f166_f399_11ea_a8e4_0242ac1c0002row19_col6 {\n",
              "            : ;\n",
              "            text-align:  left;\n",
              "        }    #T_8c24f166_f399_11ea_a8e4_0242ac1c0002row19_col7 {\n",
              "            background-color:  lightgrey;\n",
              "            text-align:  left;\n",
              "        }    #T_8c24f166_f399_11ea_a8e4_0242ac1c0002row20_col0 {\n",
              "            text-align:  left;\n",
              "        }    #T_8c24f166_f399_11ea_a8e4_0242ac1c0002row20_col1 {\n",
              "            : ;\n",
              "            text-align:  left;\n",
              "        }    #T_8c24f166_f399_11ea_a8e4_0242ac1c0002row20_col2 {\n",
              "            : ;\n",
              "            text-align:  left;\n",
              "        }    #T_8c24f166_f399_11ea_a8e4_0242ac1c0002row20_col3 {\n",
              "            : ;\n",
              "            text-align:  left;\n",
              "        }    #T_8c24f166_f399_11ea_a8e4_0242ac1c0002row20_col4 {\n",
              "            : ;\n",
              "            text-align:  left;\n",
              "        }    #T_8c24f166_f399_11ea_a8e4_0242ac1c0002row20_col5 {\n",
              "            : ;\n",
              "            text-align:  left;\n",
              "        }    #T_8c24f166_f399_11ea_a8e4_0242ac1c0002row20_col6 {\n",
              "            : ;\n",
              "            text-align:  left;\n",
              "        }    #T_8c24f166_f399_11ea_a8e4_0242ac1c0002row20_col7 {\n",
              "            background-color:  lightgrey;\n",
              "            text-align:  left;\n",
              "        }</style><table id=\"T_8c24f166_f399_11ea_a8e4_0242ac1c0002\" ><thead>    <tr>        <th class=\"blank level0\" ></th>        <th class=\"col_heading level0 col0\" >Model</th>        <th class=\"col_heading level0 col1\" >MAE</th>        <th class=\"col_heading level0 col2\" >MSE</th>        <th class=\"col_heading level0 col3\" >RMSE</th>        <th class=\"col_heading level0 col4\" >R2</th>        <th class=\"col_heading level0 col5\" >RMSLE</th>        <th class=\"col_heading level0 col6\" >MAPE</th>        <th class=\"col_heading level0 col7\" >TT (Sec)</th>    </tr></thead><tbody>\n",
              "                <tr>\n",
              "                        <th id=\"T_8c24f166_f399_11ea_a8e4_0242ac1c0002level0_row0\" class=\"row_heading level0 row0\" >0</th>\n",
              "                        <td id=\"T_8c24f166_f399_11ea_a8e4_0242ac1c0002row0_col0\" class=\"data row0 col0\" >Random Forest</td>\n",
              "                        <td id=\"T_8c24f166_f399_11ea_a8e4_0242ac1c0002row0_col1\" class=\"data row0 col1\" >2.6422</td>\n",
              "                        <td id=\"T_8c24f166_f399_11ea_a8e4_0242ac1c0002row0_col2\" class=\"data row0 col2\" >10.7924</td>\n",
              "                        <td id=\"T_8c24f166_f399_11ea_a8e4_0242ac1c0002row0_col3\" class=\"data row0 col3\" >3.2821</td>\n",
              "                        <td id=\"T_8c24f166_f399_11ea_a8e4_0242ac1c0002row0_col4\" class=\"data row0 col4\" >0.1544</td>\n",
              "                        <td id=\"T_8c24f166_f399_11ea_a8e4_0242ac1c0002row0_col5\" class=\"data row0 col5\" >0.3195</td>\n",
              "                        <td id=\"T_8c24f166_f399_11ea_a8e4_0242ac1c0002row0_col6\" class=\"data row0 col6\" >0.3217</td>\n",
              "                        <td id=\"T_8c24f166_f399_11ea_a8e4_0242ac1c0002row0_col7\" class=\"data row0 col7\" >0.3505</td>\n",
              "            </tr>\n",
              "            <tr>\n",
              "                        <th id=\"T_8c24f166_f399_11ea_a8e4_0242ac1c0002level0_row1\" class=\"row_heading level0 row1\" >1</th>\n",
              "                        <td id=\"T_8c24f166_f399_11ea_a8e4_0242ac1c0002row1_col0\" class=\"data row1 col0\" >CatBoost Regressor</td>\n",
              "                        <td id=\"T_8c24f166_f399_11ea_a8e4_0242ac1c0002row1_col1\" class=\"data row1 col1\" >2.7043</td>\n",
              "                        <td id=\"T_8c24f166_f399_11ea_a8e4_0242ac1c0002row1_col2\" class=\"data row1 col2\" >10.8886</td>\n",
              "                        <td id=\"T_8c24f166_f399_11ea_a8e4_0242ac1c0002row1_col3\" class=\"data row1 col3\" >3.2977</td>\n",
              "                        <td id=\"T_8c24f166_f399_11ea_a8e4_0242ac1c0002row1_col4\" class=\"data row1 col4\" >0.1469</td>\n",
              "                        <td id=\"T_8c24f166_f399_11ea_a8e4_0242ac1c0002row1_col5\" class=\"data row1 col5\" >0.3254</td>\n",
              "                        <td id=\"T_8c24f166_f399_11ea_a8e4_0242ac1c0002row1_col6\" class=\"data row1 col6\" >0.3355</td>\n",
              "                        <td id=\"T_8c24f166_f399_11ea_a8e4_0242ac1c0002row1_col7\" class=\"data row1 col7\" >1.9061</td>\n",
              "            </tr>\n",
              "            <tr>\n",
              "                        <th id=\"T_8c24f166_f399_11ea_a8e4_0242ac1c0002level0_row2\" class=\"row_heading level0 row2\" >2</th>\n",
              "                        <td id=\"T_8c24f166_f399_11ea_a8e4_0242ac1c0002row2_col0\" class=\"data row2 col0\" >AdaBoost Regressor</td>\n",
              "                        <td id=\"T_8c24f166_f399_11ea_a8e4_0242ac1c0002row2_col1\" class=\"data row2 col1\" >2.7087</td>\n",
              "                        <td id=\"T_8c24f166_f399_11ea_a8e4_0242ac1c0002row2_col2\" class=\"data row2 col2\" >11.1258</td>\n",
              "                        <td id=\"T_8c24f166_f399_11ea_a8e4_0242ac1c0002row2_col3\" class=\"data row2 col3\" >3.3318</td>\n",
              "                        <td id=\"T_8c24f166_f399_11ea_a8e4_0242ac1c0002row2_col4\" class=\"data row2 col4\" >0.1290</td>\n",
              "                        <td id=\"T_8c24f166_f399_11ea_a8e4_0242ac1c0002row2_col5\" class=\"data row2 col5\" >0.3292</td>\n",
              "                        <td id=\"T_8c24f166_f399_11ea_a8e4_0242ac1c0002row2_col6\" class=\"data row2 col6\" >0.3408</td>\n",
              "                        <td id=\"T_8c24f166_f399_11ea_a8e4_0242ac1c0002row2_col7\" class=\"data row2 col7\" >0.1057</td>\n",
              "            </tr>\n",
              "            <tr>\n",
              "                        <th id=\"T_8c24f166_f399_11ea_a8e4_0242ac1c0002level0_row3\" class=\"row_heading level0 row3\" >3</th>\n",
              "                        <td id=\"T_8c24f166_f399_11ea_a8e4_0242ac1c0002row3_col0\" class=\"data row3 col0\" >Extreme Gradient Boosting</td>\n",
              "                        <td id=\"T_8c24f166_f399_11ea_a8e4_0242ac1c0002row3_col1\" class=\"data row3 col1\" >2.7056</td>\n",
              "                        <td id=\"T_8c24f166_f399_11ea_a8e4_0242ac1c0002row3_col2\" class=\"data row3 col2\" >11.3461</td>\n",
              "                        <td id=\"T_8c24f166_f399_11ea_a8e4_0242ac1c0002row3_col3\" class=\"data row3 col3\" >3.3646</td>\n",
              "                        <td id=\"T_8c24f166_f399_11ea_a8e4_0242ac1c0002row3_col4\" class=\"data row3 col4\" >0.1121</td>\n",
              "                        <td id=\"T_8c24f166_f399_11ea_a8e4_0242ac1c0002row3_col5\" class=\"data row3 col5\" >0.3210</td>\n",
              "                        <td id=\"T_8c24f166_f399_11ea_a8e4_0242ac1c0002row3_col6\" class=\"data row3 col6\" >0.3194</td>\n",
              "                        <td id=\"T_8c24f166_f399_11ea_a8e4_0242ac1c0002row3_col7\" class=\"data row3 col7\" >0.0605</td>\n",
              "            </tr>\n",
              "            <tr>\n",
              "                        <th id=\"T_8c24f166_f399_11ea_a8e4_0242ac1c0002level0_row4\" class=\"row_heading level0 row4\" >4</th>\n",
              "                        <td id=\"T_8c24f166_f399_11ea_a8e4_0242ac1c0002row4_col0\" class=\"data row4 col0\" >Light Gradient Boosting Machine</td>\n",
              "                        <td id=\"T_8c24f166_f399_11ea_a8e4_0242ac1c0002row4_col1\" class=\"data row4 col1\" >2.7315</td>\n",
              "                        <td id=\"T_8c24f166_f399_11ea_a8e4_0242ac1c0002row4_col2\" class=\"data row4 col2\" >11.6374</td>\n",
              "                        <td id=\"T_8c24f166_f399_11ea_a8e4_0242ac1c0002row4_col3\" class=\"data row4 col3\" >3.4046</td>\n",
              "                        <td id=\"T_8c24f166_f399_11ea_a8e4_0242ac1c0002row4_col4\" class=\"data row4 col4\" >0.0909</td>\n",
              "                        <td id=\"T_8c24f166_f399_11ea_a8e4_0242ac1c0002row4_col5\" class=\"data row4 col5\" >0.3241</td>\n",
              "                        <td id=\"T_8c24f166_f399_11ea_a8e4_0242ac1c0002row4_col6\" class=\"data row4 col6\" >0.3209</td>\n",
              "                        <td id=\"T_8c24f166_f399_11ea_a8e4_0242ac1c0002row4_col7\" class=\"data row4 col7\" >0.0247</td>\n",
              "            </tr>\n",
              "            <tr>\n",
              "                        <th id=\"T_8c24f166_f399_11ea_a8e4_0242ac1c0002level0_row5\" class=\"row_heading level0 row5\" >5</th>\n",
              "                        <td id=\"T_8c24f166_f399_11ea_a8e4_0242ac1c0002row5_col0\" class=\"data row5 col0\" >Gradient Boosting Regressor</td>\n",
              "                        <td id=\"T_8c24f166_f399_11ea_a8e4_0242ac1c0002row5_col1\" class=\"data row5 col1\" >2.7324</td>\n",
              "                        <td id=\"T_8c24f166_f399_11ea_a8e4_0242ac1c0002row5_col2\" class=\"data row5 col2\" >11.6753</td>\n",
              "                        <td id=\"T_8c24f166_f399_11ea_a8e4_0242ac1c0002row5_col3\" class=\"data row5 col3\" >3.4138</td>\n",
              "                        <td id=\"T_8c24f166_f399_11ea_a8e4_0242ac1c0002row5_col4\" class=\"data row5 col4\" >0.0858</td>\n",
              "                        <td id=\"T_8c24f166_f399_11ea_a8e4_0242ac1c0002row5_col5\" class=\"data row5 col5\" >0.3274</td>\n",
              "                        <td id=\"T_8c24f166_f399_11ea_a8e4_0242ac1c0002row5_col6\" class=\"data row5 col6\" >0.3262</td>\n",
              "                        <td id=\"T_8c24f166_f399_11ea_a8e4_0242ac1c0002row5_col7\" class=\"data row5 col7\" >0.0905</td>\n",
              "            </tr>\n",
              "            <tr>\n",
              "                        <th id=\"T_8c24f166_f399_11ea_a8e4_0242ac1c0002level0_row6\" class=\"row_heading level0 row6\" >6</th>\n",
              "                        <td id=\"T_8c24f166_f399_11ea_a8e4_0242ac1c0002row6_col0\" class=\"data row6 col0\" >Bayesian Ridge</td>\n",
              "                        <td id=\"T_8c24f166_f399_11ea_a8e4_0242ac1c0002row6_col1\" class=\"data row6 col1\" >2.7924</td>\n",
              "                        <td id=\"T_8c24f166_f399_11ea_a8e4_0242ac1c0002row6_col2\" class=\"data row6 col2\" >11.8856</td>\n",
              "                        <td id=\"T_8c24f166_f399_11ea_a8e4_0242ac1c0002row6_col3\" class=\"data row6 col3\" >3.4434</td>\n",
              "                        <td id=\"T_8c24f166_f399_11ea_a8e4_0242ac1c0002row6_col4\" class=\"data row6 col4\" >0.0700</td>\n",
              "                        <td id=\"T_8c24f166_f399_11ea_a8e4_0242ac1c0002row6_col5\" class=\"data row6 col5\" >0.3437</td>\n",
              "                        <td id=\"T_8c24f166_f399_11ea_a8e4_0242ac1c0002row6_col6\" class=\"data row6 col6\" >0.3583</td>\n",
              "                        <td id=\"T_8c24f166_f399_11ea_a8e4_0242ac1c0002row6_col7\" class=\"data row6 col7\" >0.0146</td>\n",
              "            </tr>\n",
              "            <tr>\n",
              "                        <th id=\"T_8c24f166_f399_11ea_a8e4_0242ac1c0002level0_row7\" class=\"row_heading level0 row7\" >7</th>\n",
              "                        <td id=\"T_8c24f166_f399_11ea_a8e4_0242ac1c0002row7_col0\" class=\"data row7 col0\" >K Neighbors Regressor</td>\n",
              "                        <td id=\"T_8c24f166_f399_11ea_a8e4_0242ac1c0002row7_col1\" class=\"data row7 col1\" >2.8471</td>\n",
              "                        <td id=\"T_8c24f166_f399_11ea_a8e4_0242ac1c0002row7_col2\" class=\"data row7 col2\" >12.0099</td>\n",
              "                        <td id=\"T_8c24f166_f399_11ea_a8e4_0242ac1c0002row7_col3\" class=\"data row7 col3\" >3.4605</td>\n",
              "                        <td id=\"T_8c24f166_f399_11ea_a8e4_0242ac1c0002row7_col4\" class=\"data row7 col4\" >0.0600</td>\n",
              "                        <td id=\"T_8c24f166_f399_11ea_a8e4_0242ac1c0002row7_col5\" class=\"data row7 col5\" >0.3423</td>\n",
              "                        <td id=\"T_8c24f166_f399_11ea_a8e4_0242ac1c0002row7_col6\" class=\"data row7 col6\" >0.3651</td>\n",
              "                        <td id=\"T_8c24f166_f399_11ea_a8e4_0242ac1c0002row7_col7\" class=\"data row7 col7\" >0.0050</td>\n",
              "            </tr>\n",
              "            <tr>\n",
              "                        <th id=\"T_8c24f166_f399_11ea_a8e4_0242ac1c0002level0_row8\" class=\"row_heading level0 row8\" >8</th>\n",
              "                        <td id=\"T_8c24f166_f399_11ea_a8e4_0242ac1c0002row8_col0\" class=\"data row8 col0\" >Support Vector Machine</td>\n",
              "                        <td id=\"T_8c24f166_f399_11ea_a8e4_0242ac1c0002row8_col1\" class=\"data row8 col1\" >2.8820</td>\n",
              "                        <td id=\"T_8c24f166_f399_11ea_a8e4_0242ac1c0002row8_col2\" class=\"data row8 col2\" >12.4575</td>\n",
              "                        <td id=\"T_8c24f166_f399_11ea_a8e4_0242ac1c0002row8_col3\" class=\"data row8 col3\" >3.5272</td>\n",
              "                        <td id=\"T_8c24f166_f399_11ea_a8e4_0242ac1c0002row8_col4\" class=\"data row8 col4\" >0.0235</td>\n",
              "                        <td id=\"T_8c24f166_f399_11ea_a8e4_0242ac1c0002row8_col5\" class=\"data row8 col5\" >0.3527</td>\n",
              "                        <td id=\"T_8c24f166_f399_11ea_a8e4_0242ac1c0002row8_col6\" class=\"data row8 col6\" >0.3744</td>\n",
              "                        <td id=\"T_8c24f166_f399_11ea_a8e4_0242ac1c0002row8_col7\" class=\"data row8 col7\" >0.0144</td>\n",
              "            </tr>\n",
              "            <tr>\n",
              "                        <th id=\"T_8c24f166_f399_11ea_a8e4_0242ac1c0002level0_row9\" class=\"row_heading level0 row9\" >9</th>\n",
              "                        <td id=\"T_8c24f166_f399_11ea_a8e4_0242ac1c0002row9_col0\" class=\"data row9 col0\" >Elastic Net</td>\n",
              "                        <td id=\"T_8c24f166_f399_11ea_a8e4_0242ac1c0002row9_col1\" class=\"data row9 col1\" >2.9204</td>\n",
              "                        <td id=\"T_8c24f166_f399_11ea_a8e4_0242ac1c0002row9_col2\" class=\"data row9 col2\" >12.9810</td>\n",
              "                        <td id=\"T_8c24f166_f399_11ea_a8e4_0242ac1c0002row9_col3\" class=\"data row9 col3\" >3.6021</td>\n",
              "                        <td id=\"T_8c24f166_f399_11ea_a8e4_0242ac1c0002row9_col4\" class=\"data row9 col4\" >-0.0187</td>\n",
              "                        <td id=\"T_8c24f166_f399_11ea_a8e4_0242ac1c0002row9_col5\" class=\"data row9 col5\" >0.3603</td>\n",
              "                        <td id=\"T_8c24f166_f399_11ea_a8e4_0242ac1c0002row9_col6\" class=\"data row9 col6\" >0.3852</td>\n",
              "                        <td id=\"T_8c24f166_f399_11ea_a8e4_0242ac1c0002row9_col7\" class=\"data row9 col7\" >0.0064</td>\n",
              "            </tr>\n",
              "            <tr>\n",
              "                        <th id=\"T_8c24f166_f399_11ea_a8e4_0242ac1c0002level0_row10\" class=\"row_heading level0 row10\" >10</th>\n",
              "                        <td id=\"T_8c24f166_f399_11ea_a8e4_0242ac1c0002row10_col0\" class=\"data row10 col0\" >Lasso Least Angle Regression</td>\n",
              "                        <td id=\"T_8c24f166_f399_11ea_a8e4_0242ac1c0002row10_col1\" class=\"data row10 col1\" >2.9208</td>\n",
              "                        <td id=\"T_8c24f166_f399_11ea_a8e4_0242ac1c0002row10_col2\" class=\"data row10 col2\" >12.9871</td>\n",
              "                        <td id=\"T_8c24f166_f399_11ea_a8e4_0242ac1c0002row10_col3\" class=\"data row10 col3\" >3.6029</td>\n",
              "                        <td id=\"T_8c24f166_f399_11ea_a8e4_0242ac1c0002row10_col4\" class=\"data row10 col4\" >-0.0191</td>\n",
              "                        <td id=\"T_8c24f166_f399_11ea_a8e4_0242ac1c0002row10_col5\" class=\"data row10 col5\" >0.3603</td>\n",
              "                        <td id=\"T_8c24f166_f399_11ea_a8e4_0242ac1c0002row10_col6\" class=\"data row10 col6\" >0.3851</td>\n",
              "                        <td id=\"T_8c24f166_f399_11ea_a8e4_0242ac1c0002row10_col7\" class=\"data row10 col7\" >0.0061</td>\n",
              "            </tr>\n",
              "            <tr>\n",
              "                        <th id=\"T_8c24f166_f399_11ea_a8e4_0242ac1c0002level0_row11\" class=\"row_heading level0 row11\" >11</th>\n",
              "                        <td id=\"T_8c24f166_f399_11ea_a8e4_0242ac1c0002row11_col0\" class=\"data row11 col0\" >Lasso Regression</td>\n",
              "                        <td id=\"T_8c24f166_f399_11ea_a8e4_0242ac1c0002row11_col1\" class=\"data row11 col1\" >2.9208</td>\n",
              "                        <td id=\"T_8c24f166_f399_11ea_a8e4_0242ac1c0002row11_col2\" class=\"data row11 col2\" >12.9871</td>\n",
              "                        <td id=\"T_8c24f166_f399_11ea_a8e4_0242ac1c0002row11_col3\" class=\"data row11 col3\" >3.6029</td>\n",
              "                        <td id=\"T_8c24f166_f399_11ea_a8e4_0242ac1c0002row11_col4\" class=\"data row11 col4\" >-0.0191</td>\n",
              "                        <td id=\"T_8c24f166_f399_11ea_a8e4_0242ac1c0002row11_col5\" class=\"data row11 col5\" >0.3603</td>\n",
              "                        <td id=\"T_8c24f166_f399_11ea_a8e4_0242ac1c0002row11_col6\" class=\"data row11 col6\" >0.3851</td>\n",
              "                        <td id=\"T_8c24f166_f399_11ea_a8e4_0242ac1c0002row11_col7\" class=\"data row11 col7\" >0.0058</td>\n",
              "            </tr>\n",
              "            <tr>\n",
              "                        <th id=\"T_8c24f166_f399_11ea_a8e4_0242ac1c0002level0_row12\" class=\"row_heading level0 row12\" >12</th>\n",
              "                        <td id=\"T_8c24f166_f399_11ea_a8e4_0242ac1c0002row12_col0\" class=\"data row12 col0\" >Orthogonal Matching Pursuit</td>\n",
              "                        <td id=\"T_8c24f166_f399_11ea_a8e4_0242ac1c0002row12_col1\" class=\"data row12 col1\" >2.8810</td>\n",
              "                        <td id=\"T_8c24f166_f399_11ea_a8e4_0242ac1c0002row12_col2\" class=\"data row12 col2\" >13.2370</td>\n",
              "                        <td id=\"T_8c24f166_f399_11ea_a8e4_0242ac1c0002row12_col3\" class=\"data row12 col3\" >3.6359</td>\n",
              "                        <td id=\"T_8c24f166_f399_11ea_a8e4_0242ac1c0002row12_col4\" class=\"data row12 col4\" >-0.0382</td>\n",
              "                        <td id=\"T_8c24f166_f399_11ea_a8e4_0242ac1c0002row12_col5\" class=\"data row12 col5\" >0.3518</td>\n",
              "                        <td id=\"T_8c24f166_f399_11ea_a8e4_0242ac1c0002row12_col6\" class=\"data row12 col6\" >0.3471</td>\n",
              "                        <td id=\"T_8c24f166_f399_11ea_a8e4_0242ac1c0002row12_col7\" class=\"data row12 col7\" >0.0067</td>\n",
              "            </tr>\n",
              "            <tr>\n",
              "                        <th id=\"T_8c24f166_f399_11ea_a8e4_0242ac1c0002level0_row13\" class=\"row_heading level0 row13\" >13</th>\n",
              "                        <td id=\"T_8c24f166_f399_11ea_a8e4_0242ac1c0002row13_col0\" class=\"data row13 col0\" >Ridge Regression</td>\n",
              "                        <td id=\"T_8c24f166_f399_11ea_a8e4_0242ac1c0002row13_col1\" class=\"data row13 col1\" >3.1127</td>\n",
              "                        <td id=\"T_8c24f166_f399_11ea_a8e4_0242ac1c0002row13_col2\" class=\"data row13 col2\" >15.0736</td>\n",
              "                        <td id=\"T_8c24f166_f399_11ea_a8e4_0242ac1c0002row13_col3\" class=\"data row13 col3\" >3.8761</td>\n",
              "                        <td id=\"T_8c24f166_f399_11ea_a8e4_0242ac1c0002row13_col4\" class=\"data row13 col4\" >-0.1784</td>\n",
              "                        <td id=\"T_8c24f166_f399_11ea_a8e4_0242ac1c0002row13_col5\" class=\"data row13 col5\" >0.3767</td>\n",
              "                        <td id=\"T_8c24f166_f399_11ea_a8e4_0242ac1c0002row13_col6\" class=\"data row13 col6\" >0.3706</td>\n",
              "                        <td id=\"T_8c24f166_f399_11ea_a8e4_0242ac1c0002row13_col7\" class=\"data row13 col7\" >0.0063</td>\n",
              "            </tr>\n",
              "            <tr>\n",
              "                        <th id=\"T_8c24f166_f399_11ea_a8e4_0242ac1c0002level0_row14\" class=\"row_heading level0 row14\" >14</th>\n",
              "                        <td id=\"T_8c24f166_f399_11ea_a8e4_0242ac1c0002row14_col0\" class=\"data row14 col0\" >Passive Aggressive Regressor</td>\n",
              "                        <td id=\"T_8c24f166_f399_11ea_a8e4_0242ac1c0002row14_col1\" class=\"data row14 col1\" >3.4359</td>\n",
              "                        <td id=\"T_8c24f166_f399_11ea_a8e4_0242ac1c0002row14_col2\" class=\"data row14 col2\" >17.5401</td>\n",
              "                        <td id=\"T_8c24f166_f399_11ea_a8e4_0242ac1c0002row14_col3\" class=\"data row14 col3\" >4.1844</td>\n",
              "                        <td id=\"T_8c24f166_f399_11ea_a8e4_0242ac1c0002row14_col4\" class=\"data row14 col4\" >-0.3736</td>\n",
              "                        <td id=\"T_8c24f166_f399_11ea_a8e4_0242ac1c0002row14_col5\" class=\"data row14 col5\" >0.4203</td>\n",
              "                        <td id=\"T_8c24f166_f399_11ea_a8e4_0242ac1c0002row14_col6\" class=\"data row14 col6\" >0.3883</td>\n",
              "                        <td id=\"T_8c24f166_f399_11ea_a8e4_0242ac1c0002row14_col7\" class=\"data row14 col7\" >0.0073</td>\n",
              "            </tr>\n",
              "            <tr>\n",
              "                        <th id=\"T_8c24f166_f399_11ea_a8e4_0242ac1c0002level0_row15\" class=\"row_heading level0 row15\" >15</th>\n",
              "                        <td id=\"T_8c24f166_f399_11ea_a8e4_0242ac1c0002row15_col0\" class=\"data row15 col0\" >Huber Regressor</td>\n",
              "                        <td id=\"T_8c24f166_f399_11ea_a8e4_0242ac1c0002row15_col1\" class=\"data row15 col1\" >3.5282</td>\n",
              "                        <td id=\"T_8c24f166_f399_11ea_a8e4_0242ac1c0002row15_col2\" class=\"data row15 col2\" >20.0673</td>\n",
              "                        <td id=\"T_8c24f166_f399_11ea_a8e4_0242ac1c0002row15_col3\" class=\"data row15 col3\" >4.4785</td>\n",
              "                        <td id=\"T_8c24f166_f399_11ea_a8e4_0242ac1c0002row15_col4\" class=\"data row15 col4\" >-0.5755</td>\n",
              "                        <td id=\"T_8c24f166_f399_11ea_a8e4_0242ac1c0002row15_col5\" class=\"data row15 col5\" >0.4524</td>\n",
              "                        <td id=\"T_8c24f166_f399_11ea_a8e4_0242ac1c0002row15_col6\" class=\"data row15 col6\" >0.4211</td>\n",
              "                        <td id=\"T_8c24f166_f399_11ea_a8e4_0242ac1c0002row15_col7\" class=\"data row15 col7\" >0.0604</td>\n",
              "            </tr>\n",
              "            <tr>\n",
              "                        <th id=\"T_8c24f166_f399_11ea_a8e4_0242ac1c0002level0_row16\" class=\"row_heading level0 row16\" >16</th>\n",
              "                        <td id=\"T_8c24f166_f399_11ea_a8e4_0242ac1c0002row16_col0\" class=\"data row16 col0\" >Extra Trees Regressor</td>\n",
              "                        <td id=\"T_8c24f166_f399_11ea_a8e4_0242ac1c0002row16_col1\" class=\"data row16 col1\" >3.7137</td>\n",
              "                        <td id=\"T_8c24f166_f399_11ea_a8e4_0242ac1c0002row16_col2\" class=\"data row16 col2\" >20.9393</td>\n",
              "                        <td id=\"T_8c24f166_f399_11ea_a8e4_0242ac1c0002row16_col3\" class=\"data row16 col3\" >4.5709</td>\n",
              "                        <td id=\"T_8c24f166_f399_11ea_a8e4_0242ac1c0002row16_col4\" class=\"data row16 col4\" >-0.6388</td>\n",
              "                        <td id=\"T_8c24f166_f399_11ea_a8e4_0242ac1c0002row16_col5\" class=\"data row16 col5\" >0.4351</td>\n",
              "                        <td id=\"T_8c24f166_f399_11ea_a8e4_0242ac1c0002row16_col6\" class=\"data row16 col6\" >0.4243</td>\n",
              "                        <td id=\"T_8c24f166_f399_11ea_a8e4_0242ac1c0002row16_col7\" class=\"data row16 col7\" >0.3537</td>\n",
              "            </tr>\n",
              "            <tr>\n",
              "                        <th id=\"T_8c24f166_f399_11ea_a8e4_0242ac1c0002level0_row17\" class=\"row_heading level0 row17\" >17</th>\n",
              "                        <td id=\"T_8c24f166_f399_11ea_a8e4_0242ac1c0002row17_col0\" class=\"data row17 col0\" >Decision Tree</td>\n",
              "                        <td id=\"T_8c24f166_f399_11ea_a8e4_0242ac1c0002row17_col1\" class=\"data row17 col1\" >3.7826</td>\n",
              "                        <td id=\"T_8c24f166_f399_11ea_a8e4_0242ac1c0002row17_col2\" class=\"data row17 col2\" >22.0282</td>\n",
              "                        <td id=\"T_8c24f166_f399_11ea_a8e4_0242ac1c0002row17_col3\" class=\"data row17 col3\" >4.6866</td>\n",
              "                        <td id=\"T_8c24f166_f399_11ea_a8e4_0242ac1c0002row17_col4\" class=\"data row17 col4\" >-0.7235</td>\n",
              "                        <td id=\"T_8c24f166_f399_11ea_a8e4_0242ac1c0002row17_col5\" class=\"data row17 col5\" >0.4539</td>\n",
              "                        <td id=\"T_8c24f166_f399_11ea_a8e4_0242ac1c0002row17_col6\" class=\"data row17 col6\" >0.4342</td>\n",
              "                        <td id=\"T_8c24f166_f399_11ea_a8e4_0242ac1c0002row17_col7\" class=\"data row17 col7\" >0.0101</td>\n",
              "            </tr>\n",
              "            <tr>\n",
              "                        <th id=\"T_8c24f166_f399_11ea_a8e4_0242ac1c0002level0_row18\" class=\"row_heading level0 row18\" >18</th>\n",
              "                        <td id=\"T_8c24f166_f399_11ea_a8e4_0242ac1c0002row18_col0\" class=\"data row18 col0\" >Linear Regression</td>\n",
              "                        <td id=\"T_8c24f166_f399_11ea_a8e4_0242ac1c0002row18_col1\" class=\"data row18 col1\" >2574468801.6948</td>\n",
              "                        <td id=\"T_8c24f166_f399_11ea_a8e4_0242ac1c0002row18_col2\" class=\"data row18 col2\" >812145417963701665792.0000</td>\n",
              "                        <td id=\"T_8c24f166_f399_11ea_a8e4_0242ac1c0002row18_col3\" class=\"data row18 col3\" >17907540559.7231</td>\n",
              "                        <td id=\"T_8c24f166_f399_11ea_a8e4_0242ac1c0002row18_col4\" class=\"data row18 col4\" >-68022023915117387776.0000</td>\n",
              "                        <td id=\"T_8c24f166_f399_11ea_a8e4_0242ac1c0002row18_col5\" class=\"data row18 col5\" >2.1042</td>\n",
              "                        <td id=\"T_8c24f166_f399_11ea_a8e4_0242ac1c0002row18_col6\" class=\"data row18 col6\" >172388608.6105</td>\n",
              "                        <td id=\"T_8c24f166_f399_11ea_a8e4_0242ac1c0002row18_col7\" class=\"data row18 col7\" >0.0132</td>\n",
              "            </tr>\n",
              "            <tr>\n",
              "                        <th id=\"T_8c24f166_f399_11ea_a8e4_0242ac1c0002level0_row19\" class=\"row_heading level0 row19\" >19</th>\n",
              "                        <td id=\"T_8c24f166_f399_11ea_a8e4_0242ac1c0002row19_col0\" class=\"data row19 col0\" >Least Angle Regression</td>\n",
              "                        <td id=\"T_8c24f166_f399_11ea_a8e4_0242ac1c0002row19_col1\" class=\"data row19 col1\" >34089203974.4559</td>\n",
              "                        <td id=\"T_8c24f166_f399_11ea_a8e4_0242ac1c0002row19_col2\" class=\"data row19 col2\" >160366187903178674012160.0000</td>\n",
              "                        <td id=\"T_8c24f166_f399_11ea_a8e4_0242ac1c0002row19_col3\" class=\"data row19 col3\" >231204229997.8903</td>\n",
              "                        <td id=\"T_8c24f166_f399_11ea_a8e4_0242ac1c0002row19_col4\" class=\"data row19 col4\" >-13446518769248976764928.0000</td>\n",
              "                        <td id=\"T_8c24f166_f399_11ea_a8e4_0242ac1c0002row19_col5\" class=\"data row19 col5\" >1.7080</td>\n",
              "                        <td id=\"T_8c24f166_f399_11ea_a8e4_0242ac1c0002row19_col6\" class=\"data row19 col6\" >2126920747.1190</td>\n",
              "                        <td id=\"T_8c24f166_f399_11ea_a8e4_0242ac1c0002row19_col7\" class=\"data row19 col7\" >0.0423</td>\n",
              "            </tr>\n",
              "            <tr>\n",
              "                        <th id=\"T_8c24f166_f399_11ea_a8e4_0242ac1c0002level0_row20\" class=\"row_heading level0 row20\" >20</th>\n",
              "                        <td id=\"T_8c24f166_f399_11ea_a8e4_0242ac1c0002row20_col0\" class=\"data row20 col0\" >Random Sample Consensus</td>\n",
              "                        <td id=\"T_8c24f166_f399_11ea_a8e4_0242ac1c0002row20_col1\" class=\"data row20 col1\" >361676930435.4680</td>\n",
              "                        <td id=\"T_8c24f166_f399_11ea_a8e4_0242ac1c0002row20_col2\" class=\"data row20 col2\" >16065909528326869323087872.0000</td>\n",
              "                        <td id=\"T_8c24f166_f399_11ea_a8e4_0242ac1c0002row20_col3\" class=\"data row20 col3\" >2345171160190.5308</td>\n",
              "                        <td id=\"T_8c24f166_f399_11ea_a8e4_0242ac1c0002row20_col4\" class=\"data row20 col4\" >-1347095104952635513372672.0000</td>\n",
              "                        <td id=\"T_8c24f166_f399_11ea_a8e4_0242ac1c0002row20_col5\" class=\"data row20 col5\" >4.5754</td>\n",
              "                        <td id=\"T_8c24f166_f399_11ea_a8e4_0242ac1c0002row20_col6\" class=\"data row20 col6\" >23361546634.5997</td>\n",
              "                        <td id=\"T_8c24f166_f399_11ea_a8e4_0242ac1c0002row20_col7\" class=\"data row20 col7\" >0.3901</td>\n",
              "            </tr>\n",
              "    </tbody></table>"
            ],
            "text/plain": [
              "<pandas.io.formats.style.Styler at 0x7f38f2320f28>"
            ]
          },
          "metadata": {
            "tags": []
          }
        },
        {
          "output_type": "stream",
          "text": [
            "CPU times: user 1min 1s, sys: 8.36 s, total: 1min 9s\n",
            "Wall time: 56 s\n"
          ],
          "name": "stdout"
        }
      ]
    },
    {
      "cell_type": "code",
      "metadata": {
        "id": "PaE00q7F4iCb",
        "colab_type": "code",
        "colab": {
          "base_uri": "https://localhost:8080/",
          "height": 34
        },
        "outputId": "41bdd4e1-7b69-4e84-fa7a-f9190c2b4652"
      },
      "source": [
        "best_specific[1]"
      ],
      "execution_count": 52,
      "outputs": [
        {
          "output_type": "execute_result",
          "data": {
            "text/plain": [
              "<catboost.core.CatBoostRegressor at 0x7f38b7c80a20>"
            ]
          },
          "metadata": {
            "tags": []
          },
          "execution_count": 52
        }
      ]
    },
    {
      "cell_type": "code",
      "metadata": {
        "id": "bTpjhIc-5uRb",
        "colab_type": "code",
        "colab": {
          "base_uri": "https://localhost:8080/",
          "height": 34
        },
        "outputId": "09e0bdbe-1d08-4b08-9c99-1352ad69e28a"
      },
      "source": [
        "type(best_specific[1])"
      ],
      "execution_count": 53,
      "outputs": [
        {
          "output_type": "execute_result",
          "data": {
            "text/plain": [
              "catboost.core.CatBoostRegressor"
            ]
          },
          "metadata": {
            "tags": []
          },
          "execution_count": 53
        }
      ]
    },
    {
      "cell_type": "markdown",
      "metadata": {
        "id": "50utClmE7q0O",
        "colab_type": "text"
      },
      "source": [
        "\n",
        "\n",
        "---\n",
        "\n",
        "\n",
        "\n",
        "---\n",
        "\n"
      ]
    },
    {
      "cell_type": "markdown",
      "metadata": {
        "id": "MXax2qOu7ssS",
        "colab_type": "text"
      },
      "source": [
        "> **H2O**\n",
        "\n",
        "Agora se voce quer usar apenas uma ferramenta, o H2O é a ferramenta certa pra você. [Artigo Neuron](https://medium.com/@nicholasrichers/crie-modelos-de-machine-learning-em-menos-de-10-minutos-com-automl-d4ecf67fab02) sobre o H2O."
      ]
    },
    {
      "cell_type": "code",
      "metadata": {
        "id": "D4dVSbyq801Z",
        "colab_type": "code",
        "colab": {
          "base_uri": "https://localhost:8080/",
          "height": 545
        },
        "outputId": "2f389fdf-201e-4478-e19d-6f559bff438c"
      },
      "source": [
        "import h2o\n",
        "\n",
        "h2o.init()"
      ],
      "execution_count": 54,
      "outputs": [
        {
          "output_type": "stream",
          "text": [
            "Checking whether there is an H2O instance running at http://localhost:54321 ..... not found.\n",
            "Attempting to start a local H2O server...\n",
            "  Java Version: openjdk version \"11.0.8\" 2020-07-14; OpenJDK Runtime Environment (build 11.0.8+10-post-Ubuntu-0ubuntu118.04.1); OpenJDK 64-Bit Server VM (build 11.0.8+10-post-Ubuntu-0ubuntu118.04.1, mixed mode, sharing)\n",
            "  Starting server from /usr/local/lib/python3.6/dist-packages/h2o/backend/bin/h2o.jar\n",
            "  Ice root: /tmp/tmp2rj39gls\n",
            "  JVM stdout: /tmp/tmp2rj39gls/h2o_unknownUser_started_from_python.out\n",
            "  JVM stderr: /tmp/tmp2rj39gls/h2o_unknownUser_started_from_python.err\n",
            "  Server is running at http://127.0.0.1:54321\n",
            "Connecting to H2O server at http://127.0.0.1:54321 ... successful.\n"
          ],
          "name": "stdout"
        },
        {
          "output_type": "display_data",
          "data": {
            "text/html": [
              "<div style=\"overflow:auto\"><table style=\"width:50%\"><tr><td>H2O_cluster_uptime:</td>\n",
              "<td>02 secs</td></tr>\n",
              "<tr><td>H2O_cluster_timezone:</td>\n",
              "<td>Etc/UTC</td></tr>\n",
              "<tr><td>H2O_data_parsing_timezone:</td>\n",
              "<td>UTC</td></tr>\n",
              "<tr><td>H2O_cluster_version:</td>\n",
              "<td>3.30.1.2</td></tr>\n",
              "<tr><td>H2O_cluster_version_age:</td>\n",
              "<td>7 days and 21 minutes </td></tr>\n",
              "<tr><td>H2O_cluster_name:</td>\n",
              "<td>H2O_from_python_unknownUser_mcmyud</td></tr>\n",
              "<tr><td>H2O_cluster_total_nodes:</td>\n",
              "<td>1</td></tr>\n",
              "<tr><td>H2O_cluster_free_memory:</td>\n",
              "<td>3.180 Gb</td></tr>\n",
              "<tr><td>H2O_cluster_total_cores:</td>\n",
              "<td>2</td></tr>\n",
              "<tr><td>H2O_cluster_allowed_cores:</td>\n",
              "<td>2</td></tr>\n",
              "<tr><td>H2O_cluster_status:</td>\n",
              "<td>accepting new members, healthy</td></tr>\n",
              "<tr><td>H2O_connection_url:</td>\n",
              "<td>http://127.0.0.1:54321</td></tr>\n",
              "<tr><td>H2O_connection_proxy:</td>\n",
              "<td>{\"http\": null, \"https\": null}</td></tr>\n",
              "<tr><td>H2O_internal_security:</td>\n",
              "<td>False</td></tr>\n",
              "<tr><td>H2O_API_Extensions:</td>\n",
              "<td>Amazon S3, XGBoost, Algos, AutoML, Core V3, TargetEncoder, Core V4</td></tr>\n",
              "<tr><td>Python_version:</td>\n",
              "<td>3.6.9 final</td></tr></table></div>"
            ],
            "text/plain": [
              "--------------------------  ------------------------------------------------------------------\n",
              "H2O_cluster_uptime:         02 secs\n",
              "H2O_cluster_timezone:       Etc/UTC\n",
              "H2O_data_parsing_timezone:  UTC\n",
              "H2O_cluster_version:        3.30.1.2\n",
              "H2O_cluster_version_age:    7 days and 21 minutes\n",
              "H2O_cluster_name:           H2O_from_python_unknownUser_mcmyud\n",
              "H2O_cluster_total_nodes:    1\n",
              "H2O_cluster_free_memory:    3.180 Gb\n",
              "H2O_cluster_total_cores:    2\n",
              "H2O_cluster_allowed_cores:  2\n",
              "H2O_cluster_status:         accepting new members, healthy\n",
              "H2O_connection_url:         http://127.0.0.1:54321\n",
              "H2O_connection_proxy:       {\"http\": null, \"https\": null}\n",
              "H2O_internal_security:      False\n",
              "H2O_API_Extensions:         Amazon S3, XGBoost, Algos, AutoML, Core V3, TargetEncoder, Core V4\n",
              "Python_version:             3.6.9 final\n",
              "--------------------------  ------------------------------------------------------------------"
            ]
          },
          "metadata": {
            "tags": []
          }
        }
      ]
    },
    {
      "cell_type": "code",
      "metadata": {
        "id": "mNMxGX3g2Kou",
        "colab_type": "code",
        "colab": {
          "base_uri": "https://localhost:8080/",
          "height": 51
        },
        "outputId": "ba1f5fd5-ed90-431c-faa2-1dac09705f58"
      },
      "source": [
        "dados_url = 'https://raw.githubusercontent.com/nicholasrichers/regressao-neuron/master/student_dataset/student-mat.csv'\n",
        "\n",
        "data = h2o.import_file(dados_url)\n",
        "data[\"media\"] = (data[\"G1\"] + data[\"G2\"] + data[\"G3\"])/3\n",
        "\n",
        "type(data)"
      ],
      "execution_count": 55,
      "outputs": [
        {
          "output_type": "stream",
          "text": [
            "Parse progress: |█████████████████████████████████████████████████████████| 100%\n"
          ],
          "name": "stdout"
        },
        {
          "output_type": "execute_result",
          "data": {
            "text/plain": [
              "h2o.frame.H2OFrame"
            ]
          },
          "metadata": {
            "tags": []
          },
          "execution_count": 55
        }
      ]
    },
    {
      "cell_type": "code",
      "metadata": {
        "id": "_d_Absi29g3T",
        "colab_type": "code",
        "colab": {
          "base_uri": "https://localhost:8080/",
          "height": 485
        },
        "outputId": "c61532c7-7d54-4a8b-9261-a4787088e6ec"
      },
      "source": [
        "data.describe()"
      ],
      "execution_count": 56,
      "outputs": [
        {
          "output_type": "stream",
          "text": [
            "Rows:395\n",
            "Cols:34\n",
            "\n",
            "\n"
          ],
          "name": "stdout"
        },
        {
          "output_type": "display_data",
          "data": {
            "text/html": [
              "<table>\n",
              "<thead>\n",
              "<tr><th>       </th><th>school  </th><th>sex  </th><th>age               </th><th>address  </th><th>famsize  </th><th>Pstatus  </th><th>Medu              </th><th>Fedu              </th><th>Mjob    </th><th>Fjob    </th><th>reason    </th><th>guardian  </th><th>traveltime        </th><th>studytime         </th><th>failures          </th><th>schoolsup  </th><th>famsup  </th><th>paid  </th><th>activities  </th><th>nursery  </th><th>higher  </th><th>internet  </th><th>romantic  </th><th>famrel            </th><th>freetime          </th><th>goout             </th><th>Dalc              </th><th>Walc              </th><th>health            </th><th>absences         </th><th>G1                </th><th>G2                </th><th>G3                </th><th>media             </th></tr>\n",
              "</thead>\n",
              "<tbody>\n",
              "<tr><td>type   </td><td>enum    </td><td>enum </td><td>int               </td><td>enum     </td><td>enum     </td><td>enum     </td><td>int               </td><td>int               </td><td>enum    </td><td>enum    </td><td>enum      </td><td>enum      </td><td>int               </td><td>int               </td><td>int               </td><td>enum       </td><td>enum    </td><td>enum  </td><td>enum        </td><td>enum     </td><td>enum    </td><td>enum      </td><td>enum      </td><td>int               </td><td>int               </td><td>int               </td><td>int               </td><td>int               </td><td>int               </td><td>int              </td><td>int               </td><td>int               </td><td>int               </td><td>real              </td></tr>\n",
              "<tr><td>mins   </td><td>        </td><td>     </td><td>15.0              </td><td>         </td><td>         </td><td>         </td><td>0.0               </td><td>0.0               </td><td>        </td><td>        </td><td>          </td><td>          </td><td>1.0               </td><td>1.0               </td><td>0.0               </td><td>           </td><td>        </td><td>      </td><td>            </td><td>         </td><td>        </td><td>          </td><td>          </td><td>1.0               </td><td>1.0               </td><td>1.0               </td><td>1.0               </td><td>1.0               </td><td>1.0               </td><td>0.0              </td><td>3.0               </td><td>0.0               </td><td>0.0               </td><td>1.3333333333333333</td></tr>\n",
              "<tr><td>mean   </td><td>        </td><td>     </td><td>16.69620253164557 </td><td>         </td><td>         </td><td>         </td><td>2.749367088607595 </td><td>2.5215189873417736</td><td>        </td><td>        </td><td>          </td><td>          </td><td>1.4481012658227845</td><td>2.0354430379746833</td><td>0.3341772151898734</td><td>           </td><td>        </td><td>      </td><td>            </td><td>         </td><td>        </td><td>          </td><td>          </td><td>3.9443037974683564</td><td>3.235443037974683 </td><td>3.1088607594936697</td><td>1.4810126582278482</td><td>2.291139240506329 </td><td>3.5544303797468384</td><td>5.708860759493671</td><td>10.908860759493665</td><td>10.71392405063291 </td><td>10.41518987341772 </td><td>10.679324894514771</td></tr>\n",
              "<tr><td>maxs   </td><td>        </td><td>     </td><td>22.0              </td><td>         </td><td>         </td><td>         </td><td>4.0               </td><td>4.0               </td><td>        </td><td>        </td><td>          </td><td>          </td><td>4.0               </td><td>4.0               </td><td>3.0               </td><td>           </td><td>        </td><td>      </td><td>            </td><td>         </td><td>        </td><td>          </td><td>          </td><td>5.0               </td><td>5.0               </td><td>5.0               </td><td>5.0               </td><td>5.0               </td><td>5.0               </td><td>75.0             </td><td>19.0              </td><td>19.0              </td><td>20.0              </td><td>19.333333333333332</td></tr>\n",
              "<tr><td>sigma  </td><td>        </td><td>     </td><td>1.2760427246056265</td><td>         </td><td>         </td><td>         </td><td>1.0947351414285371</td><td>1.0882005458269433</td><td>        </td><td>        </td><td>          </td><td>          </td><td>0.6975047549086822</td><td>0.8392403464185556</td><td>0.7436509736062509</td><td>           </td><td>        </td><td>      </td><td>            </td><td>         </td><td>        </td><td>          </td><td>          </td><td>0.8966586076885046</td><td>0.9988620396657203</td><td>1.1132781740183422</td><td>0.8907414280909669</td><td>1.2878965924510932</td><td>1.3903033913095773</td><td>8.003095687108184</td><td>3.3191946715076686</td><td>3.7615046595560306</td><td>4.5814426109978434</td><td>3.6967856336770732</td></tr>\n",
              "<tr><td>zeros  </td><td>        </td><td>     </td><td>0                 </td><td>         </td><td>         </td><td>         </td><td>3                 </td><td>2                 </td><td>        </td><td>        </td><td>          </td><td>          </td><td>0                 </td><td>0                 </td><td>312               </td><td>           </td><td>        </td><td>      </td><td>            </td><td>         </td><td>        </td><td>          </td><td>          </td><td>0                 </td><td>0                 </td><td>0                 </td><td>0                 </td><td>0                 </td><td>0                 </td><td>115              </td><td>0                 </td><td>13                </td><td>38                </td><td>0                 </td></tr>\n",
              "<tr><td>missing</td><td>0       </td><td>0    </td><td>0                 </td><td>0        </td><td>0        </td><td>0        </td><td>0                 </td><td>0                 </td><td>0       </td><td>0       </td><td>0         </td><td>0         </td><td>0                 </td><td>0                 </td><td>0                 </td><td>0          </td><td>0       </td><td>0     </td><td>0           </td><td>0        </td><td>0       </td><td>0         </td><td>0         </td><td>0                 </td><td>0                 </td><td>0                 </td><td>0                 </td><td>0                 </td><td>0                 </td><td>0                </td><td>0                 </td><td>0                 </td><td>0                 </td><td>0                 </td></tr>\n",
              "<tr><td>0      </td><td>GP      </td><td>F    </td><td>18.0              </td><td>U        </td><td>GT3      </td><td>A        </td><td>4.0               </td><td>4.0               </td><td>at_home </td><td>teacher </td><td>course    </td><td>mother    </td><td>2.0               </td><td>2.0               </td><td>0.0               </td><td>yes        </td><td>no      </td><td>no    </td><td>no          </td><td>yes      </td><td>yes     </td><td>no        </td><td>no        </td><td>4.0               </td><td>3.0               </td><td>4.0               </td><td>1.0               </td><td>1.0               </td><td>3.0               </td><td>6.0              </td><td>5.0               </td><td>6.0               </td><td>6.0               </td><td>5.666666666666667 </td></tr>\n",
              "<tr><td>1      </td><td>GP      </td><td>F    </td><td>17.0              </td><td>U        </td><td>GT3      </td><td>T        </td><td>1.0               </td><td>1.0               </td><td>at_home </td><td>other   </td><td>course    </td><td>father    </td><td>1.0               </td><td>2.0               </td><td>0.0               </td><td>no         </td><td>yes     </td><td>no    </td><td>no          </td><td>no       </td><td>yes     </td><td>yes       </td><td>no        </td><td>5.0               </td><td>3.0               </td><td>3.0               </td><td>1.0               </td><td>1.0               </td><td>3.0               </td><td>4.0              </td><td>5.0               </td><td>5.0               </td><td>6.0               </td><td>5.333333333333333 </td></tr>\n",
              "<tr><td>2      </td><td>GP      </td><td>F    </td><td>15.0              </td><td>U        </td><td>LE3      </td><td>T        </td><td>1.0               </td><td>1.0               </td><td>at_home </td><td>other   </td><td>other     </td><td>mother    </td><td>1.0               </td><td>2.0               </td><td>3.0               </td><td>yes        </td><td>no      </td><td>yes   </td><td>no          </td><td>yes      </td><td>yes     </td><td>yes       </td><td>no        </td><td>4.0               </td><td>3.0               </td><td>2.0               </td><td>2.0               </td><td>3.0               </td><td>3.0               </td><td>10.0             </td><td>7.0               </td><td>8.0               </td><td>10.0              </td><td>8.333333333333334 </td></tr>\n",
              "<tr><td>3      </td><td>GP      </td><td>F    </td><td>15.0              </td><td>U        </td><td>GT3      </td><td>T        </td><td>4.0               </td><td>2.0               </td><td>health  </td><td>services</td><td>home      </td><td>mother    </td><td>1.0               </td><td>3.0               </td><td>0.0               </td><td>no         </td><td>yes     </td><td>yes   </td><td>yes         </td><td>yes      </td><td>yes     </td><td>yes       </td><td>yes       </td><td>3.0               </td><td>2.0               </td><td>2.0               </td><td>1.0               </td><td>1.0               </td><td>5.0               </td><td>2.0              </td><td>15.0              </td><td>14.0              </td><td>15.0              </td><td>14.666666666666666</td></tr>\n",
              "<tr><td>4      </td><td>GP      </td><td>F    </td><td>16.0              </td><td>U        </td><td>GT3      </td><td>T        </td><td>3.0               </td><td>3.0               </td><td>other   </td><td>other   </td><td>home      </td><td>father    </td><td>1.0               </td><td>2.0               </td><td>0.0               </td><td>no         </td><td>yes     </td><td>yes   </td><td>no          </td><td>yes      </td><td>yes     </td><td>no        </td><td>no        </td><td>4.0               </td><td>3.0               </td><td>2.0               </td><td>1.0               </td><td>2.0               </td><td>5.0               </td><td>4.0              </td><td>6.0               </td><td>10.0              </td><td>10.0              </td><td>8.666666666666666 </td></tr>\n",
              "<tr><td>5      </td><td>GP      </td><td>M    </td><td>16.0              </td><td>U        </td><td>LE3      </td><td>T        </td><td>4.0               </td><td>3.0               </td><td>services</td><td>other   </td><td>reputation</td><td>mother    </td><td>1.0               </td><td>2.0               </td><td>0.0               </td><td>no         </td><td>yes     </td><td>yes   </td><td>yes         </td><td>yes      </td><td>yes     </td><td>yes       </td><td>no        </td><td>5.0               </td><td>4.0               </td><td>2.0               </td><td>1.0               </td><td>2.0               </td><td>5.0               </td><td>10.0             </td><td>15.0              </td><td>15.0              </td><td>15.0              </td><td>15.0              </td></tr>\n",
              "<tr><td>6      </td><td>GP      </td><td>M    </td><td>16.0              </td><td>U        </td><td>LE3      </td><td>T        </td><td>2.0               </td><td>2.0               </td><td>other   </td><td>other   </td><td>home      </td><td>mother    </td><td>1.0               </td><td>2.0               </td><td>0.0               </td><td>no         </td><td>no      </td><td>no    </td><td>no          </td><td>yes      </td><td>yes     </td><td>yes       </td><td>no        </td><td>4.0               </td><td>4.0               </td><td>4.0               </td><td>1.0               </td><td>1.0               </td><td>3.0               </td><td>0.0              </td><td>12.0              </td><td>12.0              </td><td>11.0              </td><td>11.666666666666666</td></tr>\n",
              "<tr><td>7      </td><td>GP      </td><td>F    </td><td>17.0              </td><td>U        </td><td>GT3      </td><td>A        </td><td>4.0               </td><td>4.0               </td><td>other   </td><td>teacher </td><td>home      </td><td>mother    </td><td>2.0               </td><td>2.0               </td><td>0.0               </td><td>yes        </td><td>yes     </td><td>no    </td><td>no          </td><td>yes      </td><td>yes     </td><td>no        </td><td>no        </td><td>4.0               </td><td>1.0               </td><td>4.0               </td><td>1.0               </td><td>1.0               </td><td>1.0               </td><td>6.0              </td><td>6.0               </td><td>5.0               </td><td>6.0               </td><td>5.666666666666667 </td></tr>\n",
              "<tr><td>8      </td><td>GP      </td><td>M    </td><td>15.0              </td><td>U        </td><td>LE3      </td><td>A        </td><td>3.0               </td><td>2.0               </td><td>services</td><td>other   </td><td>home      </td><td>mother    </td><td>1.0               </td><td>2.0               </td><td>0.0               </td><td>no         </td><td>yes     </td><td>yes   </td><td>no          </td><td>yes      </td><td>yes     </td><td>yes       </td><td>no        </td><td>4.0               </td><td>2.0               </td><td>2.0               </td><td>1.0               </td><td>1.0               </td><td>1.0               </td><td>0.0              </td><td>16.0              </td><td>18.0              </td><td>19.0              </td><td>17.666666666666668</td></tr>\n",
              "<tr><td>9      </td><td>GP      </td><td>M    </td><td>15.0              </td><td>U        </td><td>GT3      </td><td>T        </td><td>3.0               </td><td>4.0               </td><td>other   </td><td>other   </td><td>home      </td><td>mother    </td><td>1.0               </td><td>2.0               </td><td>0.0               </td><td>no         </td><td>yes     </td><td>yes   </td><td>yes         </td><td>yes      </td><td>yes     </td><td>yes       </td><td>no        </td><td>5.0               </td><td>5.0               </td><td>1.0               </td><td>1.0               </td><td>1.0               </td><td>5.0               </td><td>0.0              </td><td>14.0              </td><td>15.0              </td><td>15.0              </td><td>14.666666666666666</td></tr>\n",
              "</tbody>\n",
              "</table>"
            ]
          },
          "metadata": {
            "tags": []
          }
        }
      ]
    },
    {
      "cell_type": "markdown",
      "metadata": {
        "id": "foZV9tjIE7Ti",
        "colab_type": "text"
      },
      "source": [
        "\n",
        "\n",
        "---\n",
        "\n",
        "\n",
        "\n",
        "---\n",
        "\n"
      ]
    },
    {
      "cell_type": "markdown",
      "metadata": {
        "id": "dCk5u_PxDfXo",
        "colab_type": "text"
      },
      "source": [
        "> Auto-ML\n",
        "\n",
        "Na [documentação](http://docs.h2o.ai/h2o/latest-stable/h2o-docs/automl.html), você encontrará que o AutoML só trabalha com algoritmos \"top de linha\", e a verdade é que você **não precisa se preocupar por enquanto**, como esses modelos funcionam a fundo.\n",
        "\n",
        "1. Random Forest (**DRF**)\n",
        "2. Extremely-Randomized Forest (**DRF/XRT**)\n",
        "3. Generalized Linear Models (**GLM**)\n",
        "4. XGBoost (**XGBoost**)\n",
        "5. Gradient Boosting Machines (**GBM**)\n",
        "6. Deep Neural Nets (**DeepLearning**)\n",
        "7. **Stacked Ensembles**: One of all the models\n",
        "8. **Stacked Ensembles**: Only the best models of each kind"
      ]
    },
    {
      "cell_type": "code",
      "metadata": {
        "id": "Zcyfq8Do2Kty",
        "colab_type": "code",
        "colab": {}
      },
      "source": [
        "from h2o.automl import H2OAutoML\n",
        "\n",
        "aml = H2OAutoML(max_models = 10, #default = 10\n",
        "                max_runtime_secs=300, #default = inf\n",
        "                nfolds=3, #default = 5\n",
        "                sort_metric = \"MSE\", #default = logloss\n",
        "                seed = 1,  \n",
        "                )"
      ],
      "execution_count": 57,
      "outputs": []
    },
    {
      "cell_type": "code",
      "metadata": {
        "id": "sRE2KGDy2RZ9",
        "colab_type": "code",
        "colab": {
          "base_uri": "https://localhost:8080/",
          "height": 68
        },
        "outputId": "c17c72b1-7935-47d7-87ce-b7da63a585df"
      },
      "source": [
        "%%time\n",
        "aml.train(x = data.columns[:-4],\n",
        "          y = \"media\", \n",
        "          training_frame = data\n",
        "          )"
      ],
      "execution_count": 58,
      "outputs": [
        {
          "output_type": "stream",
          "text": [
            "AutoML progress: |████████████████████████████████████████████████████████| 100%\n",
            "CPU times: user 5.04 s, sys: 95.1 ms, total: 5.13 s\n",
            "Wall time: 27.5 s\n"
          ],
          "name": "stdout"
        }
      ]
    },
    {
      "cell_type": "code",
      "metadata": {
        "id": "eVVwm5OE2RWl",
        "colab_type": "code",
        "colab": {
          "base_uri": "https://localhost:8080/",
          "height": 292
        },
        "outputId": "a981d7a4-8d41-4fc0-849e-e4d1de700e89"
      },
      "source": [
        "h2o.automl.get_leaderboard(aml, extra_columns = 'training_time_ms').head(20)"
      ],
      "execution_count": 59,
      "outputs": [
        {
          "output_type": "display_data",
          "data": {
            "text/html": [
              "<table>\n",
              "<thead>\n",
              "<tr><th>model_id                                           </th><th style=\"text-align: right;\">    mse</th><th style=\"text-align: right;\">  mean_residual_deviance</th><th style=\"text-align: right;\">   rmse</th><th style=\"text-align: right;\">    mae</th><th style=\"text-align: right;\">   rmsle</th><th style=\"text-align: right;\">  training_time_ms</th></tr>\n",
              "</thead>\n",
              "<tbody>\n",
              "<tr><td>StackedEnsemble_AllModels_AutoML_20200910_191230   </td><td style=\"text-align: right;\">10.4353</td><td style=\"text-align: right;\">                 10.4353</td><td style=\"text-align: right;\">3.23038</td><td style=\"text-align: right;\">2.57978</td><td style=\"text-align: right;\">0.329602</td><td style=\"text-align: right;\">               144</td></tr>\n",
              "<tr><td>StackedEnsemble_BestOfFamily_AutoML_20200910_191230</td><td style=\"text-align: right;\">10.6156</td><td style=\"text-align: right;\">                 10.6156</td><td style=\"text-align: right;\">3.25816</td><td style=\"text-align: right;\">2.60691</td><td style=\"text-align: right;\">0.334196</td><td style=\"text-align: right;\">               165</td></tr>\n",
              "<tr><td>GBM_3_AutoML_20200910_191230                       </td><td style=\"text-align: right;\">10.7851</td><td style=\"text-align: right;\">                 10.7851</td><td style=\"text-align: right;\">3.28407</td><td style=\"text-align: right;\">2.60662</td><td style=\"text-align: right;\">0.335052</td><td style=\"text-align: right;\">               248</td></tr>\n",
              "<tr><td>GBM_1_AutoML_20200910_191230                       </td><td style=\"text-align: right;\">10.8332</td><td style=\"text-align: right;\">                 10.8332</td><td style=\"text-align: right;\">3.29138</td><td style=\"text-align: right;\">2.62379</td><td style=\"text-align: right;\">0.332777</td><td style=\"text-align: right;\">               335</td></tr>\n",
              "<tr><td>GBM_2_AutoML_20200910_191230                       </td><td style=\"text-align: right;\">10.9949</td><td style=\"text-align: right;\">                 10.9949</td><td style=\"text-align: right;\">3.31586</td><td style=\"text-align: right;\">2.64367</td><td style=\"text-align: right;\">0.336992</td><td style=\"text-align: right;\">               261</td></tr>\n",
              "<tr><td>GBM_4_AutoML_20200910_191230                       </td><td style=\"text-align: right;\">11.1992</td><td style=\"text-align: right;\">                 11.1992</td><td style=\"text-align: right;\">3.34653</td><td style=\"text-align: right;\">2.67373</td><td style=\"text-align: right;\">0.340372</td><td style=\"text-align: right;\">               251</td></tr>\n",
              "<tr><td>GLM_1_AutoML_20200910_191230                       </td><td style=\"text-align: right;\">11.345 </td><td style=\"text-align: right;\">                 11.345 </td><td style=\"text-align: right;\">3.36824</td><td style=\"text-align: right;\">2.70787</td><td style=\"text-align: right;\">0.350316</td><td style=\"text-align: right;\">               793</td></tr>\n",
              "<tr><td>DRF_1_AutoML_20200910_191230                       </td><td style=\"text-align: right;\">11.6794</td><td style=\"text-align: right;\">                 11.6794</td><td style=\"text-align: right;\">3.41751</td><td style=\"text-align: right;\">2.68953</td><td style=\"text-align: right;\">0.349088</td><td style=\"text-align: right;\">               762</td></tr>\n",
              "<tr><td>XGBoost_3_AutoML_20200910_191230                   </td><td style=\"text-align: right;\">12.1397</td><td style=\"text-align: right;\">                 12.1397</td><td style=\"text-align: right;\">3.48421</td><td style=\"text-align: right;\">2.75095</td><td style=\"text-align: right;\">0.349294</td><td style=\"text-align: right;\">               396</td></tr>\n",
              "<tr><td>XGBoost_2_AutoML_20200910_191230                   </td><td style=\"text-align: right;\">12.6447</td><td style=\"text-align: right;\">                 12.6447</td><td style=\"text-align: right;\">3.55594</td><td style=\"text-align: right;\">2.81817</td><td style=\"text-align: right;\">0.353158</td><td style=\"text-align: right;\">               236</td></tr>\n",
              "<tr><td>GBM_5_AutoML_20200910_191230                       </td><td style=\"text-align: right;\">13.3744</td><td style=\"text-align: right;\">                 13.3744</td><td style=\"text-align: right;\">3.6571 </td><td style=\"text-align: right;\">2.96112</td><td style=\"text-align: right;\">0.379904</td><td style=\"text-align: right;\">                82</td></tr>\n",
              "<tr><td>XGBoost_1_AutoML_20200910_191230                   </td><td style=\"text-align: right;\">14.8254</td><td style=\"text-align: right;\">                 14.8254</td><td style=\"text-align: right;\">3.85037</td><td style=\"text-align: right;\">3.03444</td><td style=\"text-align: right;\">0.389711</td><td style=\"text-align: right;\">               399</td></tr>\n",
              "</tbody>\n",
              "</table>"
            ]
          },
          "metadata": {
            "tags": []
          }
        },
        {
          "output_type": "execute_result",
          "data": {
            "text/plain": [
              ""
            ]
          },
          "metadata": {
            "tags": []
          },
          "execution_count": 59
        }
      ]
    },
    {
      "cell_type": "markdown",
      "metadata": {
        "id": "ZUNVjcnDE_AB",
        "colab_type": "text"
      },
      "source": [
        "\n",
        "\n",
        "---\n",
        "\n",
        "\n",
        "\n",
        "---\n",
        "\n"
      ]
    },
    {
      "cell_type": "markdown",
      "metadata": {
        "id": "SQDdmuQ0q5O_",
        "colab_type": "text"
      },
      "source": [
        "> **Análise do Modelo**\n",
        "\n",
        "Uma vez que temos um modelo em mãos, podemos inclusive analisar mais a fundo suas previsões. Contudo o H2O gera **muitas informações** que **não são relevantes** para o problema em questão, então é importante saber os **conceitos** para interpretar a saída do modelo,"
      ]
    },
    {
      "cell_type": "code",
      "metadata": {
        "id": "iYjzsp5iqBF2",
        "colab_type": "code",
        "colab": {}
      },
      "source": [
        "# Get model ids for all models in the AutoML Leaderboard\n",
        "model_ids = list(aml.leaderboard['model_id'].as_data_frame().iloc[:,0])\n",
        "\n",
        "# Get the \"All Models\" Stacked Ensemble model\n",
        "best = h2o.get_model([mid for mid in model_ids if \"GBM\" in mid][0])"
      ],
      "execution_count": 60,
      "outputs": []
    },
    {
      "cell_type": "code",
      "metadata": {
        "id": "HWS9BTlUn5z8",
        "colab_type": "code",
        "colab": {
          "base_uri": "https://localhost:8080/",
          "height": 1000
        },
        "outputId": "9ab29af1-e55a-472e-ebba-4b91ef2852ce"
      },
      "source": [
        "best"
      ],
      "execution_count": 61,
      "outputs": [
        {
          "output_type": "stream",
          "text": [
            "Model Details\n",
            "=============\n",
            "H2OGradientBoostingEstimator :  Gradient Boosting Machine\n",
            "Model Key:  GBM_3_AutoML_20200910_191230\n",
            "\n",
            "\n",
            "Model Summary: \n"
          ],
          "name": "stdout"
        },
        {
          "output_type": "display_data",
          "data": {
            "text/html": [
              "<div>\n",
              "<style scoped>\n",
              "    .dataframe tbody tr th:only-of-type {\n",
              "        vertical-align: middle;\n",
              "    }\n",
              "\n",
              "    .dataframe tbody tr th {\n",
              "        vertical-align: top;\n",
              "    }\n",
              "\n",
              "    .dataframe thead th {\n",
              "        text-align: right;\n",
              "    }\n",
              "</style>\n",
              "<table border=\"1\" class=\"dataframe\">\n",
              "  <thead>\n",
              "    <tr style=\"text-align: right;\">\n",
              "      <th></th>\n",
              "      <th></th>\n",
              "      <th>number_of_trees</th>\n",
              "      <th>number_of_internal_trees</th>\n",
              "      <th>model_size_in_bytes</th>\n",
              "      <th>min_depth</th>\n",
              "      <th>max_depth</th>\n",
              "      <th>mean_depth</th>\n",
              "      <th>min_leaves</th>\n",
              "      <th>max_leaves</th>\n",
              "      <th>mean_leaves</th>\n",
              "    </tr>\n",
              "  </thead>\n",
              "  <tbody>\n",
              "    <tr>\n",
              "      <th>0</th>\n",
              "      <td></td>\n",
              "      <td>35.0</td>\n",
              "      <td>35.0</td>\n",
              "      <td>12043.0</td>\n",
              "      <td>6.0</td>\n",
              "      <td>8.0</td>\n",
              "      <td>7.857143</td>\n",
              "      <td>16.0</td>\n",
              "      <td>27.0</td>\n",
              "      <td>22.657143</td>\n",
              "    </tr>\n",
              "  </tbody>\n",
              "</table>\n",
              "</div>"
            ],
            "text/plain": [
              "     number_of_trees  ...  max_leaves  mean_leaves\n",
              "0               35.0  ...        27.0    22.657143\n",
              "\n",
              "[1 rows x 10 columns]"
            ]
          },
          "metadata": {
            "tags": []
          }
        },
        {
          "output_type": "stream",
          "text": [
            "\n",
            "\n",
            "ModelMetricsRegression: gbm\n",
            "** Reported on train data. **\n",
            "\n",
            "MSE: 3.413465111410485\n",
            "RMSE: 1.8475565245508687\n",
            "MAE: 1.442045612274846\n",
            "RMSLE: 0.20603269971570312\n",
            "Mean Residual Deviance: 3.413465111410485\n",
            "\n",
            "ModelMetricsRegression: gbm\n",
            "** Reported on cross-validation data. **\n",
            "\n",
            "MSE: 10.78510894040408\n",
            "RMSE: 3.28406896096962\n",
            "MAE: 2.606623117520652\n",
            "RMSLE: 0.33505156363602795\n",
            "Mean Residual Deviance: 10.78510894040408\n",
            "\n",
            "Cross-Validation Metrics Summary: \n"
          ],
          "name": "stdout"
        },
        {
          "output_type": "display_data",
          "data": {
            "text/html": [
              "<div>\n",
              "<style scoped>\n",
              "    .dataframe tbody tr th:only-of-type {\n",
              "        vertical-align: middle;\n",
              "    }\n",
              "\n",
              "    .dataframe tbody tr th {\n",
              "        vertical-align: top;\n",
              "    }\n",
              "\n",
              "    .dataframe thead th {\n",
              "        text-align: right;\n",
              "    }\n",
              "</style>\n",
              "<table border=\"1\" class=\"dataframe\">\n",
              "  <thead>\n",
              "    <tr style=\"text-align: right;\">\n",
              "      <th></th>\n",
              "      <th></th>\n",
              "      <th>mean</th>\n",
              "      <th>sd</th>\n",
              "      <th>cv_1_valid</th>\n",
              "      <th>cv_2_valid</th>\n",
              "      <th>cv_3_valid</th>\n",
              "    </tr>\n",
              "  </thead>\n",
              "  <tbody>\n",
              "    <tr>\n",
              "      <th>0</th>\n",
              "      <td>mae</td>\n",
              "      <td>2.6074302</td>\n",
              "      <td>0.29011363</td>\n",
              "      <td>2.3589587</td>\n",
              "      <td>2.5370836</td>\n",
              "      <td>2.9262486</td>\n",
              "    </tr>\n",
              "    <tr>\n",
              "      <th>1</th>\n",
              "      <td>mean_residual_deviance</td>\n",
              "      <td>10.790509</td>\n",
              "      <td>1.8730675</td>\n",
              "      <td>9.414536</td>\n",
              "      <td>10.033363</td>\n",
              "      <td>12.923628</td>\n",
              "    </tr>\n",
              "    <tr>\n",
              "      <th>2</th>\n",
              "      <td>mse</td>\n",
              "      <td>10.790509</td>\n",
              "      <td>1.8730675</td>\n",
              "      <td>9.414536</td>\n",
              "      <td>10.033363</td>\n",
              "      <td>12.923628</td>\n",
              "    </tr>\n",
              "    <tr>\n",
              "      <th>3</th>\n",
              "      <td>r2</td>\n",
              "      <td>0.18595187</td>\n",
              "      <td>0.11423549</td>\n",
              "      <td>0.22865084</td>\n",
              "      <td>0.056517497</td>\n",
              "      <td>0.2726873</td>\n",
              "    </tr>\n",
              "    <tr>\n",
              "      <th>4</th>\n",
              "      <td>residual_deviance</td>\n",
              "      <td>10.790509</td>\n",
              "      <td>1.8730675</td>\n",
              "      <td>9.414536</td>\n",
              "      <td>10.033363</td>\n",
              "      <td>12.923628</td>\n",
              "    </tr>\n",
              "    <tr>\n",
              "      <th>5</th>\n",
              "      <td>rmse</td>\n",
              "      <td>3.2769349</td>\n",
              "      <td>0.2798386</td>\n",
              "      <td>3.0683117</td>\n",
              "      <td>3.1675487</td>\n",
              "      <td>3.5949447</td>\n",
              "    </tr>\n",
              "    <tr>\n",
              "      <th>6</th>\n",
              "      <td>rmsle</td>\n",
              "      <td>0.3337142</td>\n",
              "      <td>0.03817037</td>\n",
              "      <td>0.31197146</td>\n",
              "      <td>0.3113829</td>\n",
              "      <td>0.37778825</td>\n",
              "    </tr>\n",
              "  </tbody>\n",
              "</table>\n",
              "</div>"
            ],
            "text/plain": [
              "                                 mean  ...   cv_2_valid  cv_3_valid\n",
              "0                     mae   2.6074302  ...    2.5370836   2.9262486\n",
              "1  mean_residual_deviance   10.790509  ...    10.033363   12.923628\n",
              "2                     mse   10.790509  ...    10.033363   12.923628\n",
              "3                      r2  0.18595187  ...  0.056517497   0.2726873\n",
              "4       residual_deviance   10.790509  ...    10.033363   12.923628\n",
              "5                    rmse   3.2769349  ...    3.1675487   3.5949447\n",
              "6                   rmsle   0.3337142  ...    0.3113829  0.37778825\n",
              "\n",
              "[7 rows x 6 columns]"
            ]
          },
          "metadata": {
            "tags": []
          }
        },
        {
          "output_type": "stream",
          "text": [
            "\n",
            "Scoring History: \n"
          ],
          "name": "stdout"
        },
        {
          "output_type": "display_data",
          "data": {
            "text/html": [
              "<div>\n",
              "<style scoped>\n",
              "    .dataframe tbody tr th:only-of-type {\n",
              "        vertical-align: middle;\n",
              "    }\n",
              "\n",
              "    .dataframe tbody tr th {\n",
              "        vertical-align: top;\n",
              "    }\n",
              "\n",
              "    .dataframe thead th {\n",
              "        text-align: right;\n",
              "    }\n",
              "</style>\n",
              "<table border=\"1\" class=\"dataframe\">\n",
              "  <thead>\n",
              "    <tr style=\"text-align: right;\">\n",
              "      <th></th>\n",
              "      <th></th>\n",
              "      <th>timestamp</th>\n",
              "      <th>duration</th>\n",
              "      <th>number_of_trees</th>\n",
              "      <th>training_rmse</th>\n",
              "      <th>training_mae</th>\n",
              "      <th>training_deviance</th>\n",
              "    </tr>\n",
              "  </thead>\n",
              "  <tbody>\n",
              "    <tr>\n",
              "      <th>0</th>\n",
              "      <td></td>\n",
              "      <td>2020-09-10 19:12:49</td>\n",
              "      <td>0.841 sec</td>\n",
              "      <td>0.0</td>\n",
              "      <td>3.692103</td>\n",
              "      <td>2.976724</td>\n",
              "      <td>13.631626</td>\n",
              "    </tr>\n",
              "    <tr>\n",
              "      <th>1</th>\n",
              "      <td></td>\n",
              "      <td>2020-09-10 19:12:49</td>\n",
              "      <td>0.870 sec</td>\n",
              "      <td>5.0</td>\n",
              "      <td>3.142526</td>\n",
              "      <td>2.529426</td>\n",
              "      <td>9.875467</td>\n",
              "    </tr>\n",
              "    <tr>\n",
              "      <th>2</th>\n",
              "      <td></td>\n",
              "      <td>2020-09-10 19:12:49</td>\n",
              "      <td>0.895 sec</td>\n",
              "      <td>10.0</td>\n",
              "      <td>2.790839</td>\n",
              "      <td>2.220518</td>\n",
              "      <td>7.788783</td>\n",
              "    </tr>\n",
              "    <tr>\n",
              "      <th>3</th>\n",
              "      <td></td>\n",
              "      <td>2020-09-10 19:12:49</td>\n",
              "      <td>0.933 sec</td>\n",
              "      <td>15.0</td>\n",
              "      <td>2.522070</td>\n",
              "      <td>1.998790</td>\n",
              "      <td>6.360839</td>\n",
              "    </tr>\n",
              "    <tr>\n",
              "      <th>4</th>\n",
              "      <td></td>\n",
              "      <td>2020-09-10 19:12:49</td>\n",
              "      <td>0.965 sec</td>\n",
              "      <td>20.0</td>\n",
              "      <td>2.319601</td>\n",
              "      <td>1.821219</td>\n",
              "      <td>5.380547</td>\n",
              "    </tr>\n",
              "    <tr>\n",
              "      <th>5</th>\n",
              "      <td></td>\n",
              "      <td>2020-09-10 19:12:49</td>\n",
              "      <td>0.998 sec</td>\n",
              "      <td>25.0</td>\n",
              "      <td>2.125254</td>\n",
              "      <td>1.676960</td>\n",
              "      <td>4.516706</td>\n",
              "    </tr>\n",
              "    <tr>\n",
              "      <th>6</th>\n",
              "      <td></td>\n",
              "      <td>2020-09-10 19:12:49</td>\n",
              "      <td>1.033 sec</td>\n",
              "      <td>30.0</td>\n",
              "      <td>1.972775</td>\n",
              "      <td>1.542002</td>\n",
              "      <td>3.891840</td>\n",
              "    </tr>\n",
              "    <tr>\n",
              "      <th>7</th>\n",
              "      <td></td>\n",
              "      <td>2020-09-10 19:12:49</td>\n",
              "      <td>1.084 sec</td>\n",
              "      <td>35.0</td>\n",
              "      <td>1.847557</td>\n",
              "      <td>1.442046</td>\n",
              "      <td>3.413465</td>\n",
              "    </tr>\n",
              "  </tbody>\n",
              "</table>\n",
              "</div>"
            ],
            "text/plain": [
              "               timestamp  ... training_mae  training_deviance\n",
              "0    2020-09-10 19:12:49  ...     2.976724          13.631626\n",
              "1    2020-09-10 19:12:49  ...     2.529426           9.875467\n",
              "2    2020-09-10 19:12:49  ...     2.220518           7.788783\n",
              "3    2020-09-10 19:12:49  ...     1.998790           6.360839\n",
              "4    2020-09-10 19:12:49  ...     1.821219           5.380547\n",
              "5    2020-09-10 19:12:49  ...     1.676960           4.516706\n",
              "6    2020-09-10 19:12:49  ...     1.542002           3.891840\n",
              "7    2020-09-10 19:12:49  ...     1.442046           3.413465\n",
              "\n",
              "[8 rows x 7 columns]"
            ]
          },
          "metadata": {
            "tags": []
          }
        },
        {
          "output_type": "stream",
          "text": [
            "\n",
            "Variable Importances: \n"
          ],
          "name": "stdout"
        },
        {
          "output_type": "display_data",
          "data": {
            "text/html": [
              "<div>\n",
              "<style scoped>\n",
              "    .dataframe tbody tr th:only-of-type {\n",
              "        vertical-align: middle;\n",
              "    }\n",
              "\n",
              "    .dataframe tbody tr th {\n",
              "        vertical-align: top;\n",
              "    }\n",
              "\n",
              "    .dataframe thead th {\n",
              "        text-align: right;\n",
              "    }\n",
              "</style>\n",
              "<table border=\"1\" class=\"dataframe\">\n",
              "  <thead>\n",
              "    <tr style=\"text-align: right;\">\n",
              "      <th></th>\n",
              "      <th>variable</th>\n",
              "      <th>relative_importance</th>\n",
              "      <th>scaled_importance</th>\n",
              "      <th>percentage</th>\n",
              "    </tr>\n",
              "  </thead>\n",
              "  <tbody>\n",
              "    <tr>\n",
              "      <th>0</th>\n",
              "      <td>failures</td>\n",
              "      <td>3256.416992</td>\n",
              "      <td>1.000000</td>\n",
              "      <td>0.155050</td>\n",
              "    </tr>\n",
              "    <tr>\n",
              "      <th>1</th>\n",
              "      <td>absences</td>\n",
              "      <td>2380.743896</td>\n",
              "      <td>0.731093</td>\n",
              "      <td>0.113356</td>\n",
              "    </tr>\n",
              "    <tr>\n",
              "      <th>2</th>\n",
              "      <td>Mjob</td>\n",
              "      <td>1893.763672</td>\n",
              "      <td>0.581548</td>\n",
              "      <td>0.090169</td>\n",
              "    </tr>\n",
              "    <tr>\n",
              "      <th>3</th>\n",
              "      <td>freetime</td>\n",
              "      <td>1101.111572</td>\n",
              "      <td>0.338136</td>\n",
              "      <td>0.052428</td>\n",
              "    </tr>\n",
              "    <tr>\n",
              "      <th>4</th>\n",
              "      <td>reason</td>\n",
              "      <td>1078.468262</td>\n",
              "      <td>0.331182</td>\n",
              "      <td>0.051350</td>\n",
              "    </tr>\n",
              "    <tr>\n",
              "      <th>5</th>\n",
              "      <td>health</td>\n",
              "      <td>1059.400879</td>\n",
              "      <td>0.325327</td>\n",
              "      <td>0.050442</td>\n",
              "    </tr>\n",
              "    <tr>\n",
              "      <th>6</th>\n",
              "      <td>Fjob</td>\n",
              "      <td>1032.905640</td>\n",
              "      <td>0.317191</td>\n",
              "      <td>0.049181</td>\n",
              "    </tr>\n",
              "    <tr>\n",
              "      <th>7</th>\n",
              "      <td>goout</td>\n",
              "      <td>988.109009</td>\n",
              "      <td>0.303434</td>\n",
              "      <td>0.047048</td>\n",
              "    </tr>\n",
              "    <tr>\n",
              "      <th>8</th>\n",
              "      <td>Walc</td>\n",
              "      <td>838.058899</td>\n",
              "      <td>0.257356</td>\n",
              "      <td>0.039903</td>\n",
              "    </tr>\n",
              "    <tr>\n",
              "      <th>9</th>\n",
              "      <td>Medu</td>\n",
              "      <td>739.664917</td>\n",
              "      <td>0.227141</td>\n",
              "      <td>0.035218</td>\n",
              "    </tr>\n",
              "    <tr>\n",
              "      <th>10</th>\n",
              "      <td>sex</td>\n",
              "      <td>692.920410</td>\n",
              "      <td>0.212786</td>\n",
              "      <td>0.032993</td>\n",
              "    </tr>\n",
              "    <tr>\n",
              "      <th>11</th>\n",
              "      <td>schoolsup</td>\n",
              "      <td>620.843994</td>\n",
              "      <td>0.190652</td>\n",
              "      <td>0.029561</td>\n",
              "    </tr>\n",
              "    <tr>\n",
              "      <th>12</th>\n",
              "      <td>studytime</td>\n",
              "      <td>573.935303</td>\n",
              "      <td>0.176247</td>\n",
              "      <td>0.027327</td>\n",
              "    </tr>\n",
              "    <tr>\n",
              "      <th>13</th>\n",
              "      <td>age</td>\n",
              "      <td>555.688843</td>\n",
              "      <td>0.170644</td>\n",
              "      <td>0.026458</td>\n",
              "    </tr>\n",
              "    <tr>\n",
              "      <th>14</th>\n",
              "      <td>paid</td>\n",
              "      <td>448.181702</td>\n",
              "      <td>0.137630</td>\n",
              "      <td>0.021340</td>\n",
              "    </tr>\n",
              "    <tr>\n",
              "      <th>15</th>\n",
              "      <td>famsize</td>\n",
              "      <td>414.579834</td>\n",
              "      <td>0.127312</td>\n",
              "      <td>0.019740</td>\n",
              "    </tr>\n",
              "    <tr>\n",
              "      <th>16</th>\n",
              "      <td>guardian</td>\n",
              "      <td>399.954742</td>\n",
              "      <td>0.122820</td>\n",
              "      <td>0.019043</td>\n",
              "    </tr>\n",
              "    <tr>\n",
              "      <th>17</th>\n",
              "      <td>activities</td>\n",
              "      <td>399.205566</td>\n",
              "      <td>0.122590</td>\n",
              "      <td>0.019008</td>\n",
              "    </tr>\n",
              "    <tr>\n",
              "      <th>18</th>\n",
              "      <td>Fedu</td>\n",
              "      <td>387.214386</td>\n",
              "      <td>0.118908</td>\n",
              "      <td>0.018437</td>\n",
              "    </tr>\n",
              "    <tr>\n",
              "      <th>19</th>\n",
              "      <td>famsup</td>\n",
              "      <td>317.721069</td>\n",
              "      <td>0.097568</td>\n",
              "      <td>0.015128</td>\n",
              "    </tr>\n",
              "  </tbody>\n",
              "</table>\n",
              "</div>"
            ],
            "text/plain": [
              "      variable  relative_importance  scaled_importance  percentage\n",
              "0     failures          3256.416992           1.000000    0.155050\n",
              "1     absences          2380.743896           0.731093    0.113356\n",
              "2         Mjob          1893.763672           0.581548    0.090169\n",
              "3     freetime          1101.111572           0.338136    0.052428\n",
              "4       reason          1078.468262           0.331182    0.051350\n",
              "5       health          1059.400879           0.325327    0.050442\n",
              "6         Fjob          1032.905640           0.317191    0.049181\n",
              "7        goout           988.109009           0.303434    0.047048\n",
              "8         Walc           838.058899           0.257356    0.039903\n",
              "9         Medu           739.664917           0.227141    0.035218\n",
              "10         sex           692.920410           0.212786    0.032993\n",
              "11   schoolsup           620.843994           0.190652    0.029561\n",
              "12   studytime           573.935303           0.176247    0.027327\n",
              "13         age           555.688843           0.170644    0.026458\n",
              "14        paid           448.181702           0.137630    0.021340\n",
              "15     famsize           414.579834           0.127312    0.019740\n",
              "16    guardian           399.954742           0.122820    0.019043\n",
              "17  activities           399.205566           0.122590    0.019008\n",
              "18        Fedu           387.214386           0.118908    0.018437\n",
              "19      famsup           317.721069           0.097568    0.015128"
            ]
          },
          "metadata": {
            "tags": []
          }
        },
        {
          "output_type": "stream",
          "text": [
            "\n",
            "See the whole table with table.as_data_frame()\n"
          ],
          "name": "stdout"
        },
        {
          "output_type": "execute_result",
          "data": {
            "text/plain": [
              ""
            ]
          },
          "metadata": {
            "tags": []
          },
          "execution_count": 61
        }
      ]
    },
    {
      "cell_type": "markdown",
      "metadata": {
        "id": "lnRFYixFqCHF",
        "colab_type": "text"
      },
      "source": [
        "\n",
        "\n",
        "---\n",
        "\n",
        "\n",
        "\n",
        "---\n",
        "\n"
      ]
    }
  ]
}